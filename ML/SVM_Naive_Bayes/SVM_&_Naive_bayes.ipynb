{
  "nbformat": 4,
  "nbformat_minor": 0,
  "metadata": {
    "colab": {
      "provenance": [],
      "collapsed_sections": [
        "t3WiVs8AsQWF"
      ]
    },
    "kernelspec": {
      "name": "python3",
      "display_name": "Python 3"
    },
    "language_info": {
      "name": "python"
    }
  },
  "cells": [
    {
      "cell_type": "markdown",
      "source": [
        "#Theoritical"
      ],
      "metadata": {
        "id": "t3WiVs8AsQWF"
      }
    },
    {
      "cell_type": "markdown",
      "source": [
        "###1. What is a Support Vector Machine (SVM)\n",
        "Statistical supervised ML algorithm that creates an optimal boundary(hyperplane) to separate the different groups of data. It can perform both classification & regresion tasks\n",
        "\n",
        "\n",
        "###2. What is the difference between Hard Margin and Soft Margin SVM\n",
        "hard magin - assumes that all the data points can be properly classified, without any misclassification. Finds a hyper plane such that no misclassification is present.\n",
        "\n",
        "soft margin - considers that some data points might not be classified correctly. uses regularization parameter C to allow some of the points to get misclassified.\n",
        "\n",
        "Soft margin is more realistic for real time data with noise & reduces overfitting.\n",
        "\n",
        "\n",
        "###3. What is the mathematical intuition behind SVM\n",
        "Find the w & b such that the below equation is minimised -\n",
        "1/2*∣∣𝑤∣∣**2+𝐶 𝑖=1to n ∑𝜉𝑖\n",
        "\n",
        "where\n",
        "𝑦𝑖 (𝑤⋅𝑥𝑖+𝑏)≥1  −𝜉𝑖,  𝜉𝑖≥0\n",
        "\n",
        "\n",
        "###4. What is the role of Lagrange Multipliers in SVM\n",
        "Langrange function is\n",
        "𝐿(𝑤,𝑏,𝛼) =1/2∣∣𝑤∣∣**2 − 𝑖=1to 𝑛 ∑ 𝛼𝑖 [𝑦𝑖(𝑤⋅𝑥𝑖+𝑏)−1]\n",
        "\n",
        "𝛼𝑖 are the lagrange multipliers\n",
        "\n",
        "Only the data points with 𝛼𝑖>0 contribute in defining optimal hyper parameter\n",
        "\n",
        "###5. What are Support Vectors in SVM\n",
        "Support vectors are the points closest to the opposite class\n",
        "\n",
        "###6. What is a Support Vector Classifier (SVC)\n",
        "Used for classification tasks,predicts the optimal hyperplane to classify the data points. Maximizes the margin between classes.\n",
        "\n",
        "\n",
        "###7. What is a Support Vector Regressor (SVR)\n",
        "Used for regression tasks,predicts the optimal hyperplane to predict the continuous data points.Creates the margin of tolerance within which errors are ignored.\n",
        "\n",
        "###8. What is the Kernel Trick in SVM\n",
        "Support vector deos not work well for non linear data, kernel\n",
        " trick t=mathematically transforms the data to a higher dimension to make it lineraly separable using polynomial,rbf, sigmoid functions\n",
        "\n",
        "###9. Compare Linear Kernel, Polynomial Kernel, and RBF Kernel\n",
        "\n",
        "Linear kernel doesnot perform any transformation to the data,it assumes the data is linearly separable\n",
        "\n",
        "Polynomial kernel transforms the data to a polynomial degree to make it linearly separable. if there are 2 features x1 & x2 then 5 features are created out of the 2. x1,x2,x1x2,x1**2, x2**2\n",
        "\n",
        "RBF kernel is used for the circular kind of data & real world problems of complex dimensions using the formula pf eucleadian distance and sigma\n",
        "\n",
        "\n",
        "###10. What is the effect of the C parameter in SVM\n",
        "C is a hyper parameter to find the best number of mis classified data points\n",
        "\n",
        "###11. What is the role of the Gamma parameter in RBF Kernel SVM\n",
        "𝛾=1/(2𝜎**2)\n",
        "High gamma is for complex patterns, low gamma is for smoother data, gamma works with c as regularization parameter\n",
        "\n",
        "\n",
        "###12. What is the Naïve Bayes classifier, and why is it called \"Naïve\"\n",
        "Machine learning algorithm for classification tasks based on Bayes theorem.\n",
        "It has a naive assumption that, the features are independent of each other\n",
        "\n",
        "\n",
        "###13. What is Bayes’ Theorem\n",
        "\n",
        "P(B/A) = P(B) * P(A/B) / P(A)\n",
        "\n",
        "###14. Explain the differences between Gaussian Naïve Bayes,\n",
        "###Multinomial Naïve Bayes, and Bernoulli Naïve Bayes\n",
        "Bernoulli Naïve Bayes- Features follow Bernoulli distribution/binary outcome, like Gender, Yes/No\n",
        "\n",
        "Multinomial Naïve Bayes - Used for discrete feature data like text that can be represented as frequency or count\n",
        "\n",
        "Gaussian Naïve Bayes - Featue follow Normal distribution, like age,salary\n",
        "\n",
        "###15. When should you use Gaussian Naïve Bayes over other variants\n",
        "When most of the featues follow Normal distribution, like age,salary\n",
        "\n",
        "###16. What are the key assumptions made by Naïve Bayes\n",
        "  - No multi collinearity\n",
        "  - All features are indpendent\n",
        "  - Data are present in terms of frequency\n",
        "\n",
        "\n",
        "###17. What are the advantages and disadvantages of Naïve Bayes\n",
        "  -Advantages\n",
        "    - Good for text classification, sentiment analysis\n",
        "    - Faster algorithm, based on prbability\n",
        "    - Good for small data\n",
        "    - Simple & can handle multi class classification\n",
        "    \n",
        "  -Disadvantages\n",
        "    - Assumes the features are independent\n",
        "    - Not valid for real time data\n",
        "\n",
        "###18. Why is Naïve Bayes a good choice for text classification\n",
        "Text words are independent of each other & often form sparse matrix.NB works well this type of data.\n",
        "\n",
        "###19. Compare SVM and Naïve Bayes for classification tasks\n",
        "\n",
        "SVM - Works with both numerical & categorical data, hs no assumption like independent feature. Creates margin boundaries to separate the classes.\n",
        "\n",
        "Naive Bayes - Works best on small independent features, calcualtes the probability value for classification.\n",
        "\n",
        "###20. How does Laplace Smoothing help in Naïve Bayes\n",
        "\n",
        "Laplace smoothing helps in the cases of zero probability.\n",
        "It ensures that no feature has zero probability\n"
      ],
      "metadata": {
        "id": "OHyS3vsDC0m1"
      }
    },
    {
      "cell_type": "markdown",
      "source": [
        "#Practical"
      ],
      "metadata": {
        "id": "PW8P3tQ6CuvN"
      }
    },
    {
      "cell_type": "code",
      "source": [
        "###21. Write a Python program to train an SVM Classifier on the Iris dataset and evaluate accuracy\n",
        "\n",
        "import numpy as np\n",
        "import pandas as pd\n",
        "import matplotlib.pyplot as plt\n",
        "import seaborn as sns\n",
        "import warnings\n",
        "\n",
        "warnings.filterwarnings('ignore')\n",
        "\n",
        "from sklearn.datasets import load_iris\n",
        "data = load_iris()\n",
        "X = pd.DataFrame(data.data,columns = data.feature_names)\n",
        "y = pd.DataFrame(data.target)\n",
        "\n",
        "from sklearn.model_selection import train_test_split\n",
        "X_train,X_test,y_train,y_test = train_test_split(X,y,test_size=0.3)\n",
        "\n",
        "from sklearn.svm import SVC\n",
        "\n",
        "model = SVC()\n",
        "model.fit(X_train,y_train)\n",
        "\n",
        "y_pred = model.predict(X_test)\n",
        "\n",
        "from sklearn.metrics import accuracy_score\n",
        "\n",
        "acc = accuracy_score(y_pred,y_test)\n",
        "print(acc)\n"
      ],
      "metadata": {
        "colab": {
          "base_uri": "https://localhost:8080/"
        },
        "id": "2Qbj0F2M4HbW",
        "outputId": "1b241485-48e3-4d8c-b808-c2a0f1617c10"
      },
      "execution_count": null,
      "outputs": [
        {
          "output_type": "stream",
          "name": "stdout",
          "text": [
            "0.9111111111111111\n"
          ]
        }
      ]
    },
    {
      "cell_type": "code",
      "source": [
        "###22. Write a Python program to train two SVM classifiers with Linear and RBF kernels on the Wine dataset, then\n",
        "##compare their accuracies\n",
        "\n",
        "from sklearn.datasets import load_wine\n",
        "\n",
        "data = load_wine()\n",
        "\n",
        "X = pd.DataFrame(data.data,columns=data.feature_names)\n",
        "y = pd.DataFrame(data.target)\n",
        "\n",
        "X_train,X_test,y_train,y_test = train_test_split(X,y)\n",
        "\n",
        "linear_model = SVC(kernel='linear')\n",
        "linear_model.fit(X_train,y_train)\n",
        "\n",
        "linear_pred = linear_model.predict(X_test)\n",
        "print(f\"Linear model accuracy {accuracy_score(linear_pred,y_test)}\")\n",
        "\n",
        "rbf_model = SVC(kernel='rbf')\n",
        "rbf_model.fit(X_train,y_train)\n",
        "rbf_pred = rbf_model.predict(X_test)\n",
        "print(f\"RBF model accuracy {accuracy_score(rbf_pred,y_test)}\")"
      ],
      "metadata": {
        "colab": {
          "base_uri": "https://localhost:8080/"
        },
        "id": "dX1sWMHq6RD2",
        "outputId": "6baa31c2-ed62-45b3-8e2a-ecbd661fa024"
      },
      "execution_count": null,
      "outputs": [
        {
          "output_type": "stream",
          "name": "stdout",
          "text": [
            "Linear model accuracy 0.9111111111111111\n",
            "Linear model accuracy 0.7555555555555555\n"
          ]
        }
      ]
    },
    {
      "cell_type": "code",
      "source": [
        "###23. Write a Python program to train an SVM Regressor (SVR) on a housing dataset and evaluate it using Mean\n",
        "###Squared Error (MSE)\n",
        "\n",
        "from sklearn.datasets import fetch_california_housing\n",
        "\n",
        "data = fetch_california_housing()\n",
        "X = pd.DataFrame(data.data,columns=data.feature_names)\n",
        "y = data.target\n",
        "\n",
        "from sklearn.svm import SVR\n",
        "X_train,X_test,y_train,y_test = train_test_split(X,y)\n",
        "\n",
        "\n",
        "from sklearn.preprocessing import StandardScaler\n",
        "scaler = StandardScaler()\n",
        "X_train = scaler.fit_transform(X_train)\n",
        "X_test = scaler.transform(X_test)\n",
        "\n",
        "model = SVR(kernel='rbf',C=1.0, gamma='scale')\n",
        "model.fit(X_train,y_train)\n",
        "\n",
        "y_pred = model.predict(X_test)\n",
        "\n",
        "from sklearn.metrics import mean_squared_error,r2_score\n",
        "\n",
        "print(f\"MSE is {mean_squared_error(y_pred,y_test)} R**2 {r2_score(y_pred=y_pred,y_true=y_test) * 100}\")"
      ],
      "metadata": {
        "colab": {
          "base_uri": "https://localhost:8080/"
        },
        "id": "b9D12eyK86VI",
        "outputId": "3a6326a6-9649-4dcf-fdc3-13822212e06a"
      },
      "execution_count": null,
      "outputs": [
        {
          "output_type": "stream",
          "name": "stdout",
          "text": [
            "MSE is 0.33005428696029904 R**2 75.0679573881344\n"
          ]
        }
      ]
    },
    {
      "cell_type": "code",
      "source": [
        "###24. Write a Python program to train an SVM Classifier with a Polynomial Kernel and visualize the decision\n",
        "###boundary\n",
        "\n",
        "import numpy as np\n",
        "import matplotlib.pyplot as plt\n",
        "from sklearn.svm import SVC\n",
        "from sklearn.datasets import make_classification\n",
        "\n",
        "# Step 1: Generate synthetic 2D data\n",
        "X, y = make_classification(\n",
        "    n_samples=100,  # Number of samples\n",
        "    n_features=2,   # Number of features\n",
        "    n_informative=2,\n",
        "    n_redundant=0,\n",
        "    n_clusters_per_class=1,\n",
        "    class_sep=1.2,  # Separation between classes\n",
        "    random_state=42\n",
        ")\n",
        "\n",
        "# Step 2: Train an SVM Classifier with Polynomial Kernel\n",
        "model = SVC(kernel='poly', degree=3, C=1.0, random_state=42)\n",
        "model.fit(X, y)\n",
        "\n",
        "# Step 3: Create a mesh grid for decision boundary visualization\n",
        "x_min, x_max = X[:, 0].min() - 1, X[:, 0].max() + 1\n",
        "y_min, y_max = X[:, 1].min() - 1, X[:, 1].max() + 1\n",
        "xx, yy = np.meshgrid(np.arange(x_min, x_max, 0.01),\n",
        "                     np.arange(y_min, y_max, 0.01))\n",
        "\n",
        "# Step 4: Predict class for each point in the grid\n",
        "Z = model.predict(np.c_[xx.ravel(), yy.ravel()])\n",
        "Z = Z.reshape(xx.shape)\n",
        "\n",
        "# Step 5: Plot the decision boundary\n",
        "plt.contourf(xx, yy, Z, alpha=0.8, cmap=plt.cm.coolwarm)\n",
        "plt.scatter(X[:, 0], X[:, 1], c=y, edgecolor='k', cmap=plt.cm.coolwarm)\n",
        "plt.title(\"SVM with Polynomial Kernel (Degree = 3)\")\n",
        "plt.xlabel(\"Feature 1\")\n",
        "plt.ylabel(\"Feature 2\")\n",
        "plt.show()\n"
      ],
      "metadata": {
        "colab": {
          "base_uri": "https://localhost:8080/",
          "height": 472
        },
        "id": "8ZrN9EJdAqLY",
        "outputId": "b003dd24-4210-4337-d38a-6e9933f856cf"
      },
      "execution_count": null,
      "outputs": [
        {
          "output_type": "display_data",
          "data": {
            "text/plain": [
              "<Figure size 640x480 with 1 Axes>"
            ],
            "image/png": "[encoded data removed]"
          },
          "metadata": {}
        }
      ]
    },
    {
      "cell_type": "code",
      "source": [
        "###25. Write a Python program to train a Gaussian Naïve Bayes classifier on the Breast Cancer dataset and\n",
        "###evaluate accuracy\n",
        "\n",
        "import numpy as np\n",
        "import pandas as pd\n",
        "import matplotlib.pyplot as plt\n",
        "import seaborn as sns\n",
        "import warnings\n",
        "import sklearn\n",
        "\n",
        "warnings.filterwarnings('ignore')\n",
        "\n",
        "from sklearn.datasets import load_breast_cancer\n",
        "data = load_breast_cancer()\n",
        "X = pd.DataFrame(data.data,columns = data.feature_names)\n",
        "y = pd.DataFrame(data.target)\n",
        "\n",
        "from sklearn.model_selection import train_test_split\n",
        "X_train,X_test,y_train,y_test = train_test_split(X,y,test_size=0.3)\n",
        "\n",
        "from sklearn.naive_bayes import GaussianNB\n",
        "model = GaussianNB()\n",
        "\n",
        "model.fit(X_train,y_train)\n",
        "y_pred = model.predict(X_test)\n",
        "\n",
        "from sklearn.metrics import accuracy_score\n",
        "print(f\"Accuracy {accuracy_score(y_pred,y_test)}\")\n"
      ],
      "metadata": {
        "id": "2c0vIlzOBfBn",
        "colab": {
          "base_uri": "https://localhost:8080/"
        },
        "outputId": "3e353dd8-ae70-4554-d47c-f9b3ca4a6ace"
      },
      "execution_count": 5,
      "outputs": [
        {
          "output_type": "stream",
          "name": "stdout",
          "text": [
            "Accuracy 0.9181286549707602\n"
          ]
        }
      ]
    },
    {
      "cell_type": "code",
      "source": [
        "###26. Write a Python program to train a Multinomial Naïve Bayes classifier for text classification using the 20\n",
        "###Newsgroups dataset.\n",
        "\n",
        "from sklearn.datasets import fetch_20newsgroups\n",
        "from sklearn.feature_extraction.text import TfidfVectorizer\n",
        "from sklearn.model_selection import train_test_split\n",
        "from sklearn.naive_bayes import MultinomialNB\n",
        "from sklearn.metrics import accuracy_score, classification_report\n",
        "\n",
        "newsgroups = fetch_20newsgroups(subset='all', shuffle=True, random_state=42)\n",
        "\n",
        "print(\"Categories:\", newsgroups.target_names)\n",
        "print(\"Number of samples:\", len(newsgroups.data))\n",
        "\n",
        "X_train, X_test, y_train, y_test = train_test_split(\n",
        "    newsgroups.data, newsgroups.target, test_size=0.3, random_state=42\n",
        ")\n",
        "\n",
        "vectorizer = TfidfVectorizer(stop_words='english', max_features=5000)\n",
        "X_train_tfidf = vectorizer.fit_transform(X_train)\n",
        "X_test_tfidf = vectorizer.transform(X_test)\n",
        "\n",
        "classifier = MultinomialNB()\n",
        "classifier.fit(X_train_tfidf, y_train)\n",
        "\n",
        "y_pred = classifier.predict(X_test_tfidf)\n",
        "\n",
        "accuracy = accuracy_score(y_test, y_pred)\n",
        "print(\"Accuracy:\", accuracy)\n",
        "print(\"\\nClassification Report:\\n\", classification_report(y_test, y_pred))\n",
        "\n",
        "new_text = [\"This is an example of artificial intelligence and machine learning.\"]\n",
        "new_text_tfidf = vectorizer.transform(new_text)\n",
        "predicted_category = classifier.predict(new_text_tfidf)\n",
        "print(\"Predicted category:\", newsgroups.target_names[predicted_category[0]])\n"
      ],
      "metadata": {
        "id": "Nnb5QqniBmFP",
        "colab": {
          "base_uri": "https://localhost:8080/"
        },
        "outputId": "fb047a2d-313c-4f58-cafc-ff5fe38bcd94"
      },
      "execution_count": 6,
      "outputs": [
        {
          "output_type": "stream",
          "name": "stdout",
          "text": [
            "Categories: ['alt.atheism', 'comp.graphics', 'comp.os.ms-windows.misc', 'comp.sys.ibm.pc.hardware', 'comp.sys.mac.hardware', 'comp.windows.x', 'misc.forsale', 'rec.autos', 'rec.motorcycles', 'rec.sport.baseball', 'rec.sport.hockey', 'sci.crypt', 'sci.electronics', 'sci.med', 'sci.space', 'soc.religion.christian', 'talk.politics.guns', 'talk.politics.mideast', 'talk.politics.misc', 'talk.religion.misc']\n",
            "Number of samples: 18846\n",
            "Accuracy: 0.8464803678811461\n",
            "\n",
            "Classification Report:\n",
            "               precision    recall  f1-score   support\n",
            "\n",
            "           0       0.84      0.85      0.84       236\n",
            "           1       0.67      0.81      0.74       287\n",
            "           2       0.77      0.80      0.78       290\n",
            "           3       0.66      0.75      0.71       285\n",
            "           4       0.86      0.79      0.82       312\n",
            "           5       0.87      0.83      0.85       308\n",
            "           6       0.79      0.80      0.80       276\n",
            "           7       0.87      0.90      0.89       304\n",
            "           8       0.89      0.91      0.90       279\n",
            "           9       0.93      0.94      0.94       308\n",
            "          10       0.90      0.97      0.94       309\n",
            "          11       0.95      0.94      0.94       290\n",
            "          12       0.86      0.73      0.79       304\n",
            "          13       0.96      0.88      0.92       300\n",
            "          14       0.89      0.93      0.91       297\n",
            "          15       0.75      0.97      0.84       292\n",
            "          16       0.80      0.94      0.87       270\n",
            "          17       0.97      0.94      0.96       272\n",
            "          18       0.94      0.70      0.81       239\n",
            "          19       0.91      0.36      0.52       196\n",
            "\n",
            "    accuracy                           0.85      5654\n",
            "   macro avg       0.86      0.84      0.84      5654\n",
            "weighted avg       0.85      0.85      0.84      5654\n",
            "\n",
            "Predicted category: sci.med\n"
          ]
        }
      ]
    },
    {
      "cell_type": "code",
      "source": [
        "###27 Write a Python program to train an SVM Classifier with different C values and compare the decision\n",
        "###boundaries visually\n",
        "\n",
        "import numpy as np\n",
        "import matplotlib.pyplot as plt\n",
        "from sklearn.svm import SVC\n",
        "from sklearn.datasets import make_classification\n",
        "\n",
        "# Step 1: Generate a synthetic 2D dataset\n",
        "X, y = make_classification(\n",
        "    n_samples=100,\n",
        "    n_features=2,\n",
        "    n_informative=2,\n",
        "    n_redundant=0,\n",
        "    n_clusters_per_class=1,\n",
        "    class_sep=1.2,\n",
        "    random_state=42\n",
        ")\n",
        "\n",
        "# Step 2: Define different C values to compare\n",
        "C_values = [0.01, 0.1, 1, 10, 100]\n",
        "\n",
        "# Step 3: Visualize decision boundaries for each C value\n",
        "plt.figure(figsize=(15, 10))\n",
        "x_min, x_max = X[:, 0].min() - 1, X[:, 0].max() + 1\n",
        "y_min, y_max = X[:, 1].min() - 1, X[:, 1].max() + 1\n",
        "xx, yy = np.meshgrid(np.arange(x_min, x_max, 0.01),\n",
        "                     np.arange(y_min, y_max, 0.01))\n",
        "\n",
        "for i, C in enumerate(C_values, 1):\n",
        "    # Train the SVM Classifier with the current C value\n",
        "    model = SVC(kernel='linear', C=C, random_state=42)\n",
        "    model.fit(X, y)\n",
        "\n",
        "    # Predict on the mesh grid for decision boundary visualization\n",
        "    Z = model.predict(np.c_[xx.ravel(), yy.ravel()])\n",
        "    Z = Z.reshape(xx.shape)\n",
        "\n",
        "    # Plot the decision boundary\n",
        "    plt.subplot(2, 3, i)  # Arrange plots in a grid (2 rows, 3 columns)\n",
        "    plt.contourf(xx, yy, Z, alpha=0.8, cmap=plt.cm.coolwarm)\n",
        "    plt.scatter(X[:, 0], X[:, 1], c=y, edgecolor='k', cmap=plt.cm.coolwarm)\n",
        "    plt.title(f\"SVM with C = {C}\")\n",
        "    plt.xlabel(\"Feature 1\")\n",
        "    plt.ylabel(\"Feature 2\")\n",
        "\n",
        "# Add a general title for the figure\n",
        "plt.tight_layout()\n",
        "plt.suptitle(\"Decision Boundaries for Different C Values\", y=1.02, fontsize=16)\n",
        "plt.show()\n"
      ],
      "metadata": {
        "colab": {
          "base_uri": "https://localhost:8080/",
          "height": 766
        },
        "id": "CNC7vAMvBmP3",
        "outputId": "91b92e58-8b41-47c4-955d-7c614c902ae8"
      },
      "execution_count": null,
      "outputs": [
        {
          "output_type": "display_data",
          "data": {
            "text/plain": [
              "<Figure size 1500x1000 with 5 Axes>"
            ],
            "image/png": "[encoded data removed]"
          },
          "metadata": {}
        }
      ]
    },
    {
      "cell_type": "code",
      "source": [
        "###28. Write a Python program to train a Bernoulli Naïve Bayes classifier for binary classification on a dataset with\n",
        "###binary features\n",
        "\n",
        "from sklearn.datasets import make_classification\n",
        "from sklearn.model_selection import train_test_split\n",
        "from sklearn.naive_bayes import BernoulliNB\n",
        "from sklearn.metrics import accuracy_score, classification_report\n",
        "\n",
        "X, y = make_classification(\n",
        "    n_samples=1000, n_features=10, n_informative=5, n_redundant=0,\n",
        "    n_classes=2, n_clusters_per_class=1, flip_y=0.03, random_state=42\n",
        ")\n",
        "\n",
        "import numpy as np\n",
        "X = (X > 0).astype(int)\n",
        "\n",
        "X_train, X_test, y_train, y_test = train_test_split(\n",
        "    X, y, test_size=0.3, random_state=42\n",
        ")\n",
        "\n",
        "classifier = BernoulliNB()\n",
        "classifier.fit(X_train, y_train)\n",
        "\n",
        "y_pred = classifier.predict(X_test)\n",
        "\n",
        "accuracy = accuracy_score(y_test, y_pred)\n",
        "print(\"Accuracy:\", accuracy)\n",
        "print(\"\\nClassification Report:\\n\", classification_report(y_test, y_pred))\n",
        "\n",
        "new_input = np.array([[1, 0, 1, 1, 0, 1, 0, 0, 1, 0]])  # Example binary feature vector\n",
        "prediction = classifier.predict(new_input)\n",
        "print(\"Predicted class for new input:\", prediction[0])"
      ],
      "metadata": {
        "id": "KWBlZ3OKBmXv",
        "colab": {
          "base_uri": "https://localhost:8080/"
        },
        "outputId": "2de96a42-e5e6-4fcf-c384-c50646199075"
      },
      "execution_count": 10,
      "outputs": [
        {
          "output_type": "stream",
          "name": "stdout",
          "text": [
            "Accuracy: 0.9266666666666666\n",
            "\n",
            "Classification Report:\n",
            "               precision    recall  f1-score   support\n",
            "\n",
            "           0       0.89      0.97      0.93       146\n",
            "           1       0.96      0.89      0.93       154\n",
            "\n",
            "    accuracy                           0.93       300\n",
            "   macro avg       0.93      0.93      0.93       300\n",
            "weighted avg       0.93      0.93      0.93       300\n",
            "\n",
            "Predicted class for new input: 1\n"
          ]
        }
      ]
    },
    {
      "cell_type": "code",
      "source": [
        "###29. Write a Python program to apply feature scaling before training an SVM model and compare results with\n",
        "###unscaled data\n",
        "\n",
        "from sklearn.datasets import fetch_california_housing\n",
        "\n",
        "data = fetch_california_housing()\n",
        "X = pd.DataFrame(data.data,columns=data.feature_names)\n",
        "y = data.target\n",
        "\n",
        "from sklearn.svm import SVR\n",
        "X_train,X_test,y_train,y_test = train_test_split(X,y)\n",
        "\n",
        "from sklearn.preprocessing import StandardScaler\n",
        "\n",
        "model = SVR(kernel='rbf',C=1.0, gamma='scale')\n",
        "model.fit(X_train,y_train)\n",
        "\n",
        "y_pred = model.predict(X_test)\n",
        "\n",
        "from sklearn.metrics import mean_squared_error,r2_score\n",
        "\n",
        "print(\"Before Scaling\")\n",
        "print(f\"MSE is {mean_squared_error(y_pred,y_test)} R**2 {r2_score(y_pred=y_pred,y_true=y_test) * 100}\")\n",
        "\n",
        "### WITH SCALING\n",
        "\n",
        "data = fetch_california_housing()\n",
        "X = pd.DataFrame(data.data,columns=data.feature_names)\n",
        "y = data.target\n",
        "\n",
        "X_train,X_test,y_train,y_test = train_test_split(X,y)\n",
        "\n",
        "\n",
        "scaler = StandardScaler()\n",
        "X_train = scaler.fit_transform(X_train)\n",
        "X_test = scaler.transform(X_test)\n",
        "\n",
        "model = SVR(kernel='rbf',C=1.0, gamma='scale')\n",
        "model.fit(X_train,y_train)\n",
        "\n",
        "y_pred = model.predict(X_test)\n",
        "\n",
        "from sklearn.metrics import mean_squared_error,r2_score\n",
        "print(\"After Scaling\")\n",
        "print(f\"MSE is {mean_squared_error(y_pred,y_test)} R**2 {r2_score(y_pred=y_pred,y_true=y_test) * 100}\")"
      ],
      "metadata": {
        "colab": {
          "base_uri": "https://localhost:8080/"
        },
        "id": "p821Gd2ABmd3",
        "outputId": "3eef8fcb-cfb8-4ed6-a18f-bd7e5aad0fd3"
      },
      "execution_count": null,
      "outputs": [
        {
          "output_type": "stream",
          "name": "stdout",
          "text": [
            "Before Scaling\n",
            "MSE is 1.382920200544559 R**2 -3.300074097695971\n",
            "After Scaling\n",
            "MSE is 0.36451501329304486 R**2 72.753479837787\n"
          ]
        }
      ]
    },
    {
      "cell_type": "code",
      "source": [
        "###30. Write a Python program to train a Gaussian Naïve Bayes model and compare the predictions before and\n",
        "###after Laplace Smoothing\n",
        "\n",
        "from sklearn.datasets import make_classification\n",
        "from sklearn.model_selection import train_test_split\n",
        "from sklearn.naive_bayes import GaussianNB\n",
        "from sklearn.metrics import accuracy_score, classification_report\n",
        "\n",
        "X, y = make_classification(\n",
        "    n_samples=1000, n_features=5, n_informative=3, n_redundant=0,\n",
        "    n_classes=2, random_state=42\n",
        ")\n",
        "\n",
        "X_train, X_test, y_train, y_test = train_test_split(\n",
        "    X, y, test_size=0.3, random_state=42\n",
        ")\n",
        "\n",
        "gnb_default = GaussianNB()\n",
        "gnb_default.fit(X_train, y_train)\n",
        "y_pred_default = gnb_default.predict(X_test)\n",
        "\n",
        "accuracy_default = accuracy_score(y_test, y_pred_default)\n",
        "print(\"Accuracy without smoothing:\", accuracy_default)\n",
        "print(\"\\nClassification Report (Default):\\n\", classification_report(y_test, y_pred_default))\n",
        "\n",
        "import numpy as np\n",
        "\n",
        "X_train_smoothed = X_train + np.random.normal(0, 0.1, X_train.shape)\n",
        "X_test_smoothed = X_test + np.random.normal(0, 0.1, X_test.shape)\n",
        "\n",
        "gnb_smoothed = GaussianNB()\n",
        "gnb_smoothed.fit(X_train_smoothed, y_train)\n",
        "y_pred_smoothed = gnb_smoothed.predict(X_test_smoothed)\n",
        "\n",
        "accuracy_smoothed = accuracy_score(y_test, y_pred_smoothed)\n",
        "print(\"Accuracy with smoothing:\", accuracy_smoothed)\n",
        "print(\"\\nClassification Report (Smoothed):\\n\", classification_report(y_test, y_pred_smoothed))"
      ],
      "metadata": {
        "id": "MZTwk42bCYpf",
        "colab": {
          "base_uri": "https://localhost:8080/"
        },
        "outputId": "20bb6629-79bc-4556-c496-ca2ab83ab22e"
      },
      "execution_count": 11,
      "outputs": [
        {
          "output_type": "stream",
          "name": "stdout",
          "text": [
            "Accuracy without smoothing: 0.93\n",
            "\n",
            "Classification Report (Default):\n",
            "               precision    recall  f1-score   support\n",
            "\n",
            "           0       0.94      0.91      0.92       138\n",
            "           1       0.92      0.95      0.94       162\n",
            "\n",
            "    accuracy                           0.93       300\n",
            "   macro avg       0.93      0.93      0.93       300\n",
            "weighted avg       0.93      0.93      0.93       300\n",
            "\n",
            "Accuracy with smoothing: 0.9233333333333333\n",
            "\n",
            "Classification Report (Smoothed):\n",
            "               precision    recall  f1-score   support\n",
            "\n",
            "           0       0.93      0.90      0.92       138\n",
            "           1       0.92      0.94      0.93       162\n",
            "\n",
            "    accuracy                           0.92       300\n",
            "   macro avg       0.92      0.92      0.92       300\n",
            "weighted avg       0.92      0.92      0.92       300\n",
            "\n"
          ]
        }
      ]
    },
    {
      "cell_type": "code",
      "source": [
        "###31. Write a Python program to train an SVM Classifier and use GridSearchCV to tune the hyperparameters (C,\n",
        "###gamma, kernel)\n",
        "\n",
        "data = load_iris()\n",
        "X = pd.DataFrame(data.data,columns = data.feature_names)\n",
        "y = pd.DataFrame(data.target)\n",
        "\n",
        "from sklearn.model_selection import train_test_split\n",
        "X_train,X_test,y_train,y_test = train_test_split(X,y,test_size=0.3)\n",
        "\n",
        "from sklearn.svm import SVC\n",
        "from sklearn.model_selection import GridSearchCV\n",
        "param ={\n",
        "    'C': [0.1, 1, 10, 100],\n",
        "    'gamma': ['scale', 'auto', 0.1, 1, 10],\n",
        "    'kernel': ['linear', 'rbf', 'poly']\n",
        "}\n",
        "model = GridSearchCV(SVC(),param_grid=param,verbose=0,scoring='accuracy',cv=5)\n",
        "model.fit(X_train,y_train)\n",
        "\n",
        "print(model.best_estimator_)\n",
        "print(model.best_score_)\n",
        "print(model.best_params_)\n",
        "\n",
        "y_pred = model.best_estimator_.predict(X_test)\n",
        "\n",
        "from sklearn.metrics import accuracy_score\n",
        "\n",
        "acc = accuracy_score(y_pred,y_test)\n",
        "print(acc)"
      ],
      "metadata": {
        "colab": {
          "base_uri": "https://localhost:8080/"
        },
        "id": "gqu0sl2ACasO",
        "outputId": "91b8f25a-2366-4224-e057-20451005c72b"
      },
      "execution_count": null,
      "outputs": [
        {
          "output_type": "stream",
          "name": "stdout",
          "text": [
            "SVC(C=1, gamma=0.1)\n",
            "0.9904761904761905\n",
            "{'C': 1, 'gamma': 0.1, 'kernel': 'rbf'}\n",
            "0.9333333333333333\n"
          ]
        }
      ]
    },
    {
      "cell_type": "code",
      "source": [
        "###32. Write a Python program to train an SVM Classifier on an imbalanced dataset and apply class weighting and\n",
        "###check it improve accuracy\n",
        "\n",
        "from sklearn.datasets import make_classification\n",
        "\n",
        "X,y = make_classification(\n",
        "    n_classes=2,\n",
        "    n_redundant=0,\n",
        "    n_features=4,\n",
        "    weights=[0.8,0.2]\n",
        ")\n",
        "\n",
        "from sklearn.model_selection import train_test_split\n",
        "X_train,X_test,y_train,y_test = train_test_split(X,y,test_size=0.3)\n",
        "\n",
        "from sklearn.svm import SVC\n",
        "\n",
        "model = SVC(kernel='rbf')\n",
        "model.fit(X_train,y_train)\n",
        "\n",
        "y_pred = model.predict(X_test)\n",
        "\n",
        "print(f\"model accuracy without weightage {accuracy_score(y_pred,y_test)}\")\n",
        "\n",
        "model = SVC(kernel='rbf',class_weight='balanced')\n",
        "model.fit(X_train,y_train)\n",
        "\n",
        "y_pred = model.predict(X_test)\n",
        "\n",
        "print(f\"model accuracy with weightage {accuracy_score(y_pred,y_test)}\")"
      ],
      "metadata": {
        "colab": {
          "base_uri": "https://localhost:8080/"
        },
        "id": "R9fp0jGNCkGA",
        "outputId": "642aa8a4-8e99-4380-d65f-80443c8c66df"
      },
      "execution_count": null,
      "outputs": [
        {
          "output_type": "stream",
          "name": "stdout",
          "text": [
            "model accuracy without weightage 0.9333333333333333\n",
            "model accuracy with weightage 0.9\n"
          ]
        }
      ]
    },
    {
      "cell_type": "code",
      "source": [
        "###33. Write a Python program to implement a Naïve Bayes classifier for spam detection using email data\n",
        "\n",
        "# Import required libraries\n",
        "from sklearn.feature_extraction.text import CountVectorizer\n",
        "from sklearn.model_selection import train_test_split\n",
        "from sklearn.naive_bayes import MultinomialNB\n",
        "from sklearn.metrics import accuracy_score, classification_report\n",
        "\n",
        "##Copied data\n",
        "data = [\n",
        "    (\"Free entry in 2 a weekly competition to win FA Cup tickets\", \"spam\"),\n",
        "    (\"Hi John, can we reschedule our meeting to tomorrow?\", \"ham\"),\n",
        "    (\"Congratulations, you won a lottery of $1,000,000!\", \"spam\"),\n",
        "    (\"Don't forget to submit your assignment before the deadline.\", \"ham\"),\n",
        "    (\"Get cheap medications without a prescription.\", \"spam\"),\n",
        "    (\"Please find the attached report for your review.\", \"ham\")\n",
        "]\n",
        "\n",
        "texts, labels = zip(*data)\n",
        "\n",
        "vectorizer = CountVectorizer(stop_words='english')\n",
        "X = vectorizer.fit_transform(texts)\n",
        "\n",
        "X_train, X_test, y_train, y_test = train_test_split(X, labels, test_size=0.3, random_state=42)\n",
        "classifier = MultinomialNB()\n",
        "classifier.fit(X_train, y_train)\n",
        "\n",
        "y_pred = classifier.predict(X_test)\n",
        "\n",
        "accuracy = accuracy_score(y_test, y_pred)\n",
        "print(\"Accuracy:\", accuracy)\n",
        "print(\"\\nClassification Report:\\n\", classification_report(y_test, y_pred))\n",
        "\n",
        "new_email = [\"Congratulations! You've been selected for a free cruise.\"]\n",
        "new_email_vectorized = vectorizer.transform(new_email)\n",
        "prediction = classifier.predict(new_email_vectorized)\n",
        "print(\"Prediction for new email:\", prediction[0])  # 'spam' or 'ham'"
      ],
      "metadata": {
        "id": "sfsuDobIHNrp"
      },
      "execution_count": null,
      "outputs": []
    },
    {
      "cell_type": "code",
      "source": [
        "###34. Write a Python program to train an SVM Classifier and a Naïve Bayes Classifier on the same dataset and\n",
        "###compare their accuracy\n",
        "\n",
        "from sklearn.datasets import load_breast_cancer\n",
        "data = load_breast_cancer()\n",
        "X = pd.DataFrame(data.data,columns = data.feature_names)\n",
        "y = pd.DataFrame(data.target)\n",
        "\n",
        "from sklearn.model_selection import train_test_split\n",
        "X_train,X_test,y_train,y_test = train_test_split(X,y,test_size=0.3)\n",
        "\n",
        "from sklearn.svm import SVC\n",
        "\n",
        "kernel =['linear','poly','rbf']\n",
        "\n",
        "for k in kernel:\n",
        "  model = SVC(kernel=k)\n",
        "  model.fit(X_train,y_train)\n",
        "\n",
        "  y_pred = model.predict(X_test)\n",
        "\n",
        "  from sklearn.metrics import accuracy_score\n",
        "\n",
        "  acc = accuracy_score(y_pred,y_test)\n",
        "  print(f\"Accuracy for SVM- {k} is {acc}\")\n",
        "\n",
        "import numpy as np\n",
        "import pandas as pd\n",
        "import matplotlib.pyplot as plt\n",
        "import seaborn as sns\n",
        "import warnings\n",
        "import sklearn\n",
        "\n",
        "warnings.filterwarnings('ignore')\n",
        "\n",
        "from sklearn.datasets import load_breast_cancer\n",
        "data = load_breast_cancer()\n",
        "X = pd.DataFrame(data.data,columns = data.feature_names)\n",
        "y = pd.DataFrame(data.target)\n",
        "\n",
        "from sklearn.model_selection import train_test_split\n",
        "X_train,X_test,y_train,y_test = train_test_split(X,y,test_size=0.3)\n",
        "\n",
        "from sklearn.naive_bayes import GaussianNB\n",
        "model = GaussianNB()\n",
        "\n",
        "model.fit(X_train,y_train)\n",
        "y_pred = model.predict(X_test)\n",
        "\n",
        "from sklearn.metrics import accuracy_score\n",
        "print(f\"Accuracy for Gausian Naive Bayes {accuracy_score(y_pred,y_test)}\")"
      ],
      "metadata": {
        "id": "Fgj9nW1wHR84",
        "colab": {
          "base_uri": "https://localhost:8080/"
        },
        "outputId": "3f4037dc-23b2-4643-a564-a260dd0cbe6b"
      },
      "execution_count": 13,
      "outputs": [
        {
          "output_type": "stream",
          "name": "stdout",
          "text": [
            "Accuracy for linear is 0.9649122807017544\n",
            "Accuracy for poly is 0.9239766081871345\n",
            "Accuracy for rbf is 0.9298245614035088\n",
            "Accuracy 0.935672514619883\n"
          ]
        }
      ]
    },
    {
      "cell_type": "code",
      "source": [
        "###35.  Write a Python program to perform feature selection before training a Naïve Bayes classifier and compare\n",
        "###results\n",
        "\n",
        "# Import required libraries\n",
        "from sklearn.datasets import fetch_20newsgroups\n",
        "from sklearn.feature_extraction.text import TfidfVectorizer\n",
        "from sklearn.feature_selection import SelectKBest, chi2\n",
        "from sklearn.model_selection import train_test_split\n",
        "from sklearn.naive_bayes import MultinomialNB\n",
        "from sklearn.metrics import accuracy_score, classification_report\n",
        "\n",
        "newsgroups = fetch_20newsgroups(subset='all', shuffle=True, random_state=42)\n",
        "\n",
        "X_train, X_test, y_train, y_test = train_test_split(\n",
        "    newsgroups.data, newsgroups.target, test_size=0.3, random_state=42\n",
        ")\n",
        "\n",
        "vectorizer = TfidfVectorizer(stop_words='english', max_features=10000)\n",
        "X_train_tfidf = vectorizer.fit_transform(X_train)\n",
        "X_test_tfidf = vectorizer.transform(X_test)\n",
        "\n",
        "classifier_no_fs = MultinomialNB()\n",
        "classifier_no_fs.fit(X_train_tfidf, y_train)\n",
        "y_pred_no_fs = classifier_no_fs.predict(X_test_tfidf)\n",
        "\n",
        "accuracy_no_fs = accuracy_score(y_test, y_pred_no_fs)\n",
        "print(\"Accuracy without feature selection:\", accuracy_no_fs)\n",
        "print(\"\\nClassification Report (Without Feature Selection):\\n\", classification_report(y_test, y_pred_no_fs))\n",
        "\n",
        "k = 2000  # Number of top features to select\n",
        "selector = SelectKBest(chi2, k=k)\n",
        "X_train_selected = selector.fit_transform(X_train_tfidf, y_train)\n",
        "X_test_selected = selector.transform(X_test_tfidf)\n",
        "\n",
        "classifier_fs = MultinomialNB()\n",
        "classifier_fs.fit(X_train_selected, y_train)\n",
        "y_pred_fs = classifier_fs.predict(X_test_selected)\n",
        "\n",
        "accuracy_fs = accuracy_score(y_test, y_pred_fs)\n",
        "print(\"Accuracy with feature selection (top {} features):\".format(k), accuracy_fs)\n",
        "print(\"\\nClassification Report (With Feature Selection):\\n\", classification_report(y_test, y_pred_fs))\n"
      ],
      "metadata": {
        "id": "hIK4x5aiHWy4",
        "colab": {
          "base_uri": "https://localhost:8080/"
        },
        "outputId": "8f4aef50-ae9a-4443-f214-1d209606a4c1"
      },
      "execution_count": 15,
      "outputs": [
        {
          "output_type": "stream",
          "name": "stdout",
          "text": [
            "Accuracy without feature selection: 0.863282631765122\n",
            "\n",
            "Classification Report (Without Feature Selection):\n",
            "               precision    recall  f1-score   support\n",
            "\n",
            "           0       0.85      0.86      0.85       236\n",
            "           1       0.76      0.83      0.79       287\n",
            "           2       0.79      0.83      0.81       290\n",
            "           3       0.66      0.80      0.72       285\n",
            "           4       0.88      0.80      0.84       312\n",
            "           5       0.91      0.86      0.88       308\n",
            "           6       0.81      0.78      0.79       276\n",
            "           7       0.91      0.92      0.92       304\n",
            "           8       0.91      0.93      0.92       279\n",
            "           9       0.95      0.94      0.94       308\n",
            "          10       0.91      0.97      0.94       309\n",
            "          11       0.94      0.95      0.95       290\n",
            "          12       0.88      0.75      0.81       304\n",
            "          13       0.95      0.90      0.92       300\n",
            "          14       0.91      0.95      0.93       297\n",
            "          15       0.74      0.98      0.84       292\n",
            "          16       0.83      0.96      0.89       270\n",
            "          17       0.96      0.97      0.96       272\n",
            "          18       0.97      0.75      0.85       239\n",
            "          19       0.93      0.35      0.51       196\n",
            "\n",
            "    accuracy                           0.86      5654\n",
            "   macro avg       0.87      0.85      0.85      5654\n",
            "weighted avg       0.87      0.86      0.86      5654\n",
            "\n",
            "Accuracy with feature selection (top 2000 features): 0.818358684117439\n",
            "\n",
            "Classification Report (With Feature Selection):\n",
            "               precision    recall  f1-score   support\n",
            "\n",
            "           0       0.82      0.81      0.81       236\n",
            "           1       0.77      0.77      0.77       287\n",
            "           2       0.70      0.82      0.75       290\n",
            "           3       0.59      0.73      0.65       285\n",
            "           4       0.88      0.76      0.82       312\n",
            "           5       0.85      0.80      0.82       308\n",
            "           6       0.77      0.68      0.72       276\n",
            "           7       0.91      0.86      0.89       304\n",
            "           8       0.82      0.95      0.88       279\n",
            "           9       0.94      0.92      0.93       308\n",
            "          10       0.86      0.97      0.91       309\n",
            "          11       0.85      0.95      0.90       290\n",
            "          12       0.83      0.64      0.72       304\n",
            "          13       0.94      0.83      0.88       300\n",
            "          14       0.84      0.95      0.89       297\n",
            "          15       0.68      0.95      0.79       292\n",
            "          16       0.78      0.93      0.85       270\n",
            "          17       0.93      0.95      0.94       272\n",
            "          18       0.93      0.64      0.76       239\n",
            "          19       0.89      0.29      0.43       196\n",
            "\n",
            "    accuracy                           0.82      5654\n",
            "   macro avg       0.83      0.81      0.81      5654\n",
            "weighted avg       0.83      0.82      0.81      5654\n",
            "\n"
          ]
        }
      ]
    },
    {
      "cell_type": "code",
      "source": [
        "###36. Write a Python program to train an SVM Classifier using One-vs-Rest (OvR) and One-vs-One (OvO)\n",
        "###strategies on the Wine dataset and compare their accuracy\n",
        "\n",
        "from sklearn.datasets import load_wine\n",
        "from sklearn.multiclass import OneVsOneClassifier,OneVsRestClassifier\n",
        "data = load_wine()\n",
        "\n",
        "X = pd.DataFrame(data.data,columns=data.feature_names)\n",
        "y = pd.DataFrame(data.target)\n",
        "\n",
        "X_train,X_test,y_train,y_test = train_test_split(X,y)\n",
        "\n",
        "ovr_model = OneVsRestClassifier(SVC(kernel='linear'))\n",
        "ovr_model.fit(X_train,y_train)\n",
        "\n",
        "ovr_pred = linear_model.predict(X_test)\n",
        "print(f\"OVR model accuracy {accuracy_score(ovr_pred,y_test)}\")\n",
        "\n",
        "ovo_model = OneVsOneClassifier(SVC(kernel='rbf'))\n",
        "ovo_model.fit(X_train,y_train)\n",
        "ovo_pred = rbf_model.predict(X_test)\n",
        "print(f\"OVO model accuracy {accuracy_score(ovo_pred,y_test)}\")"
      ],
      "metadata": {
        "colab": {
          "base_uri": "https://localhost:8080/"
        },
        "id": "fLMbWv62HaWQ",
        "outputId": "fdf2ef99-8d5e-47b9-dc02-ade38c31dd96"
      },
      "execution_count": null,
      "outputs": [
        {
          "output_type": "stream",
          "name": "stdout",
          "text": [
            "OVR model accuracy 0.9555555555555556\n",
            "OVO model accuracy 0.6666666666666666\n"
          ]
        }
      ]
    },
    {
      "cell_type": "code",
      "source": [
        "###37. Write a Python program to train an SVM Classifier using Linear, Polynomial, and RBF kernels on the Breast\n",
        "###Cancer dataset and compare their accuracy\n",
        "\n",
        "\n",
        "from sklearn.datasets import load_breast_cancer\n",
        "data = load_breast_cancer()\n",
        "X = pd.DataFrame(data.data,columns = data.feature_names)\n",
        "y = pd.DataFrame(data.target)\n",
        "\n",
        "from sklearn.model_selection import train_test_split\n",
        "X_train,X_test,y_train,y_test = train_test_split(X,y,test_size=0.3)\n",
        "\n",
        "from sklearn.svm import SVC\n",
        "\n",
        "kernel =['linear','poly','rbf']\n",
        "\n",
        "for k in kernel:\n",
        "  model = SVC(kernel=k)\n",
        "  model.fit(X_train,y_train)\n",
        "\n",
        "  y_pred = model.predict(X_test)\n",
        "\n",
        "  from sklearn.metrics import accuracy_score\n",
        "\n",
        "  acc = accuracy_score(y_pred,y_test)\n",
        "  print(f\"Accuracy for {k} is {acc}\")"
      ],
      "metadata": {
        "colab": {
          "base_uri": "https://localhost:8080/"
        },
        "id": "ruYQdXknJCGw",
        "outputId": "1d3bb0c6-05d7-4695-d287-5be6cade1f6c"
      },
      "execution_count": 14,
      "outputs": [
        {
          "output_type": "stream",
          "name": "stdout",
          "text": [
            "Accuracy for linear is 0.9473684210526315\n",
            "Accuracy for poly is 0.9005847953216374\n",
            "Accuracy for rbf is 0.9064327485380117\n"
          ]
        }
      ]
    },
    {
      "cell_type": "code",
      "source": [
        "###38. Write a Python program to train an SVM Classifier using Stratified K-Fold Cross-Validation and compute the\n",
        "##average accuracy\n",
        "\n",
        "from sklearn.datasets import load_breast_cancer\n",
        "data = load_iris()\n",
        "X = pd.DataFrame(data.data,columns = data.feature_names)\n",
        "y = pd.DataFrame(data.target)\n",
        "\n",
        "from sklearn.model_selection import train_test_split, StratifiedKFold\n",
        "from sklearn.svm import SVC\n",
        "from sklearn.metrics import accuracy_score\n",
        "\n",
        "sfk = StratifiedKFold(shuffle=True,n_splits=5)\n",
        "accuracy=[]\n",
        "for train_index,test_index in sfk.split(X,y):\n",
        "  X_train,X_test = X.iloc[train_index],X.iloc[test_index]\n",
        "  y_train,y_test = y.iloc[train_index],y.iloc[test_index]\n",
        "\n",
        "  model.fit(X_train,y_train)\n",
        "  y_pred = model.predict(X_test)\n",
        "  acc = accuracy_score(y_pred,y_test)\n",
        "  print(f\"Accuracy is {acc}\")\n",
        "  accuracy.append(acc)\n",
        "\n",
        "print(f\"Average accuracy is {np.mean(acc)}\")"
      ],
      "metadata": {
        "colab": {
          "base_uri": "https://localhost:8080/"
        },
        "id": "mYjmVVaOLnsI",
        "outputId": "91e75ca2-539c-434e-eb16-945170a58a39"
      },
      "execution_count": null,
      "outputs": [
        {
          "output_type": "stream",
          "name": "stdout",
          "text": [
            "Accuracy is 1.0\n",
            "Accuracy is 0.9666666666666667\n",
            "Accuracy is 1.0\n",
            "Accuracy is 0.9333333333333333\n",
            "Accuracy is 0.9666666666666667\n",
            "Average accuracy is 0.9666666666666667\n"
          ]
        }
      ]
    },
    {
      "cell_type": "code",
      "source": [
        "###39. Write a Python program to train a Naïve Bayes classifier using different prior probabilities and compare\n",
        "##performance\n",
        "\n",
        "# Import required libraries\n",
        "from sklearn.datasets import fetch_20newsgroups\n",
        "from sklearn.feature_extraction.text import TfidfVectorizer\n",
        "from sklearn.model_selection import train_test_split\n",
        "from sklearn.naive_bayes import MultinomialNB\n",
        "from sklearn.metrics import accuracy_score, classification_report\n",
        "import numpy as np\n",
        "\n",
        "newsgroups = fetch_20newsgroups(subset='all', shuffle=True, random_state=42)\n",
        "\n",
        "X_train, X_test, y_train, y_test = train_test_split(\n",
        "    newsgroups.data, newsgroups.target, test_size=0.3, random_state=42\n",
        ")\n",
        "\n",
        "vectorizer = TfidfVectorizer(stop_words='english', max_features=5000)\n",
        "X_train_tfidf = vectorizer.fit_transform(X_train)\n",
        "X_test_tfidf = vectorizer.transform(X_test)\n",
        "\n",
        "# Uniform priors: Equal probability for all classes\n",
        "uniform_priors = np.full(len(newsgroups.target_names), 1 / len(newsgroups.target_names))\n",
        "\n",
        "skewed_priors = np.zeros(len(newsgroups.target_names))\n",
        "skewed_priors[:len(newsgroups.target_names) // 2] = 0.8 / (len(newsgroups.target_names) // 2)\n",
        "skewed_priors[len(newsgroups.target_names) // 2:] = 0.2 / (len(newsgroups.target_names) // 2)\n",
        "\n",
        "default_nb = MultinomialNB()\n",
        "default_nb.fit(X_train_tfidf, y_train)\n",
        "default_predictions = default_nb.predict(X_test_tfidf)\n",
        "default_accuracy = accuracy_score(y_test, default_predictions)\n",
        "print(\"Default Priors Accuracy:\", default_accuracy)\n",
        "\n",
        "uniform_nb = MultinomialNB(class_prior=uniform_priors)\n",
        "uniform_nb.fit(X_train_tfidf, y_train)\n",
        "uniform_predictions = uniform_nb.predict(X_test_tfidf)\n",
        "uniform_accuracy = accuracy_score(y_test, uniform_predictions)\n",
        "print(\"Uniform Priors Accuracy:\", uniform_accuracy)\n",
        "\n",
        "skewed_nb = MultinomialNB(class_prior=skewed_priors)\n",
        "skewed_nb.fit(X_train_tfidf, y_train)\n",
        "skewed_predictions = skewed_nb.predict(X_test_tfidf)\n",
        "skewed_accuracy = accuracy_score(y_test, skewed_predictions)\n",
        "print(\"Skewed Priors Accuracy:\", skewed_accuracy)\n",
        "\n",
        "print(\"\\nClassification Report with Skewed Priors:\\n\", classification_report(y_test, skewed_predictions))\n"
      ],
      "metadata": {
        "id": "OHYHlBt7MF4S",
        "colab": {
          "base_uri": "https://localhost:8080/"
        },
        "outputId": "5855b1bc-7e0f-4269-964a-fccde59cb985"
      },
      "execution_count": 9,
      "outputs": [
        {
          "output_type": "stream",
          "name": "stdout",
          "text": [
            "Default Priors Accuracy: 0.8464803678811461\n",
            "Uniform Priors Accuracy: 0.8533781393703572\n",
            "Skewed Priors Accuracy: 0.7783869826671383\n",
            "\n",
            "Classification Report with Skewed Priors:\n",
            "               precision    recall  f1-score   support\n",
            "\n",
            "           0       0.56      0.96      0.71       236\n",
            "           1       0.56      0.83      0.67       287\n",
            "           2       0.72      0.80      0.76       290\n",
            "           3       0.57      0.76      0.65       285\n",
            "           4       0.76      0.81      0.78       312\n",
            "           5       0.81      0.84      0.82       308\n",
            "           6       0.69      0.82      0.75       276\n",
            "           7       0.70      0.92      0.80       304\n",
            "           8       0.77      0.92      0.84       279\n",
            "           9       0.76      0.97      0.85       308\n",
            "          10       1.00      0.84      0.92       309\n",
            "          11       0.98      0.83      0.90       290\n",
            "          12       0.99      0.31      0.47       304\n",
            "          13       0.98      0.61      0.75       300\n",
            "          14       0.95      0.76      0.85       297\n",
            "          15       0.88      0.86      0.87       292\n",
            "          16       0.87      0.85      0.86       270\n",
            "          17       0.99      0.84      0.91       272\n",
            "          18       0.97      0.63      0.77       239\n",
            "          19       1.00      0.26      0.41       196\n",
            "\n",
            "    accuracy                           0.78      5654\n",
            "   macro avg       0.82      0.77      0.77      5654\n",
            "weighted avg       0.82      0.78      0.77      5654\n",
            "\n"
          ]
        }
      ]
    },
    {
      "cell_type": "code",
      "source": [
        "###40. Write a Python program to perform Recursive Feature Elimination (RFE) before training an SVM Classifier and\n",
        "###compare accuracy\n",
        "\n",
        "from sklearn.datasets import load_breast_cancer\n",
        "data = load_iris()\n",
        "X = pd.DataFrame(data.data,columns = data.feature_names)\n",
        "y = pd.DataFrame(data.target)\n",
        "\n",
        "from sklearn.model_selection import train_test_split\n",
        "X_train,X_test,y_train,y_test = train_test_split(X,y,test_size=0.3)\n",
        "\n",
        "from sklearn.svm import SVC\n",
        "from sklearn.feature_selection import RFE\n",
        "model_list = [\n",
        "    SVC(kernel='linear'),\n",
        "    RFE(estimator=SVC(kernel='linear'),n_features_to_select=3)\n",
        "  ]\n",
        "\n",
        "for model in model_list:\n",
        "  model.fit(X_train,y_train)\n",
        "\n",
        "  y_pred = model.predict(X_test)\n",
        "\n",
        "  from sklearn.metrics import accuracy_score\n",
        "\n",
        "  acc = accuracy_score(y_pred,y_test)\n",
        "  print(f\"Accuracy is {acc}\")"
      ],
      "metadata": {
        "colab": {
          "base_uri": "https://localhost:8080/"
        },
        "id": "-ljoStXFMI3J",
        "outputId": "9ac86834-6f6a-43c9-a72d-447e80972a16"
      },
      "execution_count": null,
      "outputs": [
        {
          "output_type": "stream",
          "name": "stdout",
          "text": [
            "Accuracy is 0.9777777777777777\n",
            "Accuracy is 0.9555555555555556\n"
          ]
        }
      ]
    },
    {
      "cell_type": "code",
      "source": [
        "###41. Write a Python program to train an SVM Classifier and evaluate its performance using Precision, Recall, and\n",
        "###F1-Score instead of accuracy\n",
        "\n",
        "import numpy as np\n",
        "import pandas as pd\n",
        "import matplotlib.pyplot as plt\n",
        "import seaborn as sns\n",
        "import warnings\n",
        "\n",
        "warnings.filterwarnings('ignore')\n",
        "\n",
        "from sklearn.datasets import load_iris\n",
        "data = load_iris()\n",
        "df = pd.DataFrame(data.data,columns = data.feature_names)\n",
        "df['target'] = pd.DataFrame(data.target)\n",
        "df= df[df['target']!=2]\n",
        "\n",
        "X= df.iloc[:,:-1]\n",
        "y = df.iloc[:,-1]\n",
        "\n",
        "from sklearn.model_selection import train_test_split\n",
        "X_train,X_test,y_train,y_test = train_test_split(X,y,test_size=0.3)\n",
        "\n",
        "from sklearn.svm import SVC\n",
        "\n",
        "model = SVC()\n",
        "model.fit(X_train,y_train)\n",
        "\n",
        "y_pred = model.predict(X_test)\n",
        "\n",
        "from sklearn.metrics import precision_score, recall_score,f1_score\n",
        "print(f\"precision_score {precision_score(y_pred,y_test)} recall_score{recall_score (y_pred,y_test)} f1_score {f1_score(y_pred,y_test)}\")"
      ],
      "metadata": {
        "colab": {
          "base_uri": "https://localhost:8080/"
        },
        "id": "wZIK_Ga9MMHR",
        "outputId": "2d9b7657-7796-4bdd-f790-47de38ddb2e8"
      },
      "execution_count": null,
      "outputs": [
        {
          "output_type": "stream",
          "name": "stdout",
          "text": [
            "precision_score 1.0 recall_score1.0 f1_score 1.0\n"
          ]
        }
      ]
    },
    {
      "cell_type": "markdown",
      "source": [],
      "metadata": {
        "id": "nSB8RrjFTFgv"
      }
    },
    {
      "cell_type": "code",
      "source": [
        "###42. Write a Python program to train a Naïve Bayes Classifier and evaluate its performance using Log Loss\n",
        "##(Cross-Entropy Loss)\n",
        "\n",
        "\n",
        "import numpy as np\n",
        "import pandas as pd\n",
        "import matplotlib.pyplot as plt\n",
        "import seaborn as sns\n",
        "import warnings\n",
        "import sklearn\n",
        "\n",
        "warnings.filterwarnings('ignore')\n",
        "\n",
        "from sklearn.datasets import load_breast_cancer\n",
        "data = load_breast_cancer()\n",
        "X = pd.DataFrame(data.data,columns = data.feature_names)\n",
        "y = pd.DataFrame(data.target)\n",
        "\n",
        "from sklearn.model_selection import train_test_split\n",
        "X_train,X_test,y_train,y_test = train_test_split(X,y,test_size=0.3)\n",
        "\n",
        "from sklearn.naive_bayes import GaussianNB\n",
        "model = GaussianNB()\n",
        "\n",
        "model.fit(X_train,y_train)\n",
        "y_pred = model.predict(X_test)\n",
        "\n",
        "from sklearn.metrics import log_loss\n",
        "print(f\"Accuracy {log_loss(y_pred,y_test)}\")"
      ],
      "metadata": {
        "id": "y0tV_YDuMQDI",
        "colab": {
          "base_uri": "https://localhost:8080/"
        },
        "outputId": "517adce0-ab65-4c7f-a980-1185a4797355"
      },
      "execution_count": 8,
      "outputs": [
        {
          "output_type": "stream",
          "name": "stdout",
          "text": [
            "Accuracy 3.161723981501505\n"
          ]
        }
      ]
    },
    {
      "cell_type": "code",
      "source": [
        "###43. Write a Python program to train an SVM Classifier and visualize the Confusion Matrix using seaborn\n",
        "\n",
        "import numpy as np\n",
        "import pandas as pd\n",
        "import matplotlib.pyplot as plt\n",
        "import seaborn as sns\n",
        "import warnings\n",
        "\n",
        "warnings.filterwarnings('ignore')\n",
        "\n",
        "from sklearn.datasets import load_iris\n",
        "data = load_iris()\n",
        "df = pd.DataFrame(data.data,columns = data.feature_names)\n",
        "df['target'] = pd.DataFrame(data.target)\n",
        "df= df[df['target']!=2]\n",
        "\n",
        "X= df.iloc[:,:-1]\n",
        "y = df.iloc[:,-1]\n",
        "\n",
        "from sklearn.model_selection import train_test_split\n",
        "X_train,X_test,y_train,y_test = train_test_split(X,y,test_size=0.3)\n",
        "\n",
        "from sklearn.svm import SVC\n",
        "\n",
        "model = SVC()\n",
        "model.fit(X_train,y_train)\n",
        "\n",
        "y_pred = model.predict(X_test)\n",
        "\n",
        "from sklearn.metrics import confusion_matrix\n",
        "\n",
        "conf = confusion_matrix(y_pred,y_test, labels=np.unique(y))\n",
        "sns.heatmap(data=conf,annot=True, fmt='d', cmap='Blues', xticklabels=data.target_names, yticklabels=data.target_names)\n",
        "plt.show()"
      ],
      "metadata": {
        "colab": {
          "base_uri": "https://localhost:8080/",
          "height": 436
        },
        "id": "uT04cKP1MTPg",
        "outputId": "92fd47ee-bd4b-4685-ef69-3008436d425e"
      },
      "execution_count": null,
      "outputs": [
        {
          "output_type": "display_data",
          "data": {
            "text/plain": [
              "<Figure size 640x480 with 2 Axes>"
            ],
            "image/png": "[encoded data removed]"
          },
          "metadata": {}
        }
      ]
    },
    {
      "cell_type": "code",
      "source": [
        "###44.  Write a Python program to train an SVM Regressor (SVR) and evaluate its performance using Mean Absolute\n",
        "###Error (MAE) instead of MSE\n",
        "\n",
        "from sklearn.datasets import fetch_california_housing\n",
        "\n",
        "data = fetch_california_housing()\n",
        "X = pd.DataFrame(data.data,columns=data.feature_names)\n",
        "y = data.target\n",
        "\n",
        "from sklearn.svm import SVR\n",
        "X_train,X_test,y_train,y_test = train_test_split(X,y)\n",
        "\n",
        "\n",
        "from sklearn.preprocessing import StandardScaler\n",
        "scaler = StandardScaler()\n",
        "X_train = scaler.fit_transform(X_train)\n",
        "X_test = scaler.transform(X_test)\n",
        "\n",
        "model = SVR(kernel='rbf',C=1.0, gamma='scale')\n",
        "model.fit(X_train,y_train)\n",
        "\n",
        "y_pred = model.predict(X_test)\n",
        "\n",
        "from sklearn.metrics import mean_absolute_error,r2_score\n",
        "\n",
        "print(f\"MAE is {mean_absolute_error(y_pred,y_test)} R**2 {r2_score(y_pred=y_pred,y_true=y_test) * 100}\")"
      ],
      "metadata": {
        "colab": {
          "base_uri": "https://localhost:8080/"
        },
        "id": "rW8r2pFpMWq4",
        "outputId": "a2575490-96da-40b2-a65f-b7dd6ea6fcc4"
      },
      "execution_count": null,
      "outputs": [
        {
          "output_type": "stream",
          "name": "stdout",
          "text": [
            "MAE is 0.3856400665927721 R**2 73.54271759845633\n"
          ]
        }
      ]
    },
    {
      "cell_type": "code",
      "source": [
        "###45. Write a Python program to train a Naïve Bayes classifier and evaluate its performance using the ROC-AUC\n",
        "###score\n",
        "\n",
        "import numpy as np\n",
        "import pandas as pd\n",
        "import matplotlib.pyplot as plt\n",
        "import seaborn as sns\n",
        "import warnings\n",
        "import sklearn\n",
        "\n",
        "warnings.filterwarnings('ignore')\n",
        "\n",
        "from sklearn.datasets import load_breast_cancer\n",
        "data = load_breast_cancer()\n",
        "X = pd.DataFrame(data.data,columns = data.feature_names)\n",
        "y = pd.DataFrame(data.target)\n",
        "\n",
        "from sklearn.model_selection import train_test_split\n",
        "X_train,X_test,y_train,y_test = train_test_split(X,y,test_size=0.3)\n",
        "\n",
        "from sklearn.naive_bayes import GaussianNB\n",
        "model = GaussianNB()\n",
        "\n",
        "model.fit(X_train,y_train)\n",
        "y_pred = model.predict(X_test)\n",
        "\n",
        "from sklearn.metrics import roc_auc_score\n",
        "print(f\"Accuracy {roc_auc_score(y_pred,y_test)}\")"
      ],
      "metadata": {
        "id": "mbAWNfFdMb1A",
        "colab": {
          "base_uri": "https://localhost:8080/"
        },
        "outputId": "e6499652-357e-4642-d425-58ec9ff9082f"
      },
      "execution_count": 7,
      "outputs": [
        {
          "output_type": "stream",
          "name": "stdout",
          "text": [
            "Accuracy 0.9219560573695453\n"
          ]
        }
      ]
    },
    {
      "cell_type": "code",
      "source": [
        "###46.  Write a Python program to train an SVM Classifier and visualize the Precision-Recall Curve\n",
        "\n",
        "import numpy as np\n",
        "import pandas as pd\n",
        "import matplotlib.pyplot as plt\n",
        "import seaborn as sns\n",
        "import warnings\n",
        "\n",
        "warnings.filterwarnings('ignore')\n",
        "\n",
        "from sklearn.datasets import load_iris\n",
        "data = load_iris()\n",
        "df = pd.DataFrame(data.data,columns = data.feature_names)\n",
        "df['target'] = pd.DataFrame(data.target)\n",
        "df= df[df['target']!=2]\n",
        "\n",
        "X= df.iloc[:,:-1]\n",
        "y = df.iloc[:,-1]\n",
        "\n",
        "from sklearn.model_selection import train_test_split\n",
        "X_train,X_test,y_train,y_test = train_test_split(X,y,test_size=0.3)\n",
        "\n",
        "from sklearn.svm import SVC\n",
        "\n",
        "model = SVC(kernel='rbf',probability=True)\n",
        "model.fit(X_train,y_train)\n",
        "\n",
        "y_score = model.decision_function(X_test)\n",
        "\n",
        "from sklearn.metrics import precision_recall_curve,PrecisionRecallDisplay\n",
        "\n",
        "precision,recall,_ = precision_recall_curve(y_test,y_score)\n",
        "disp = PrecisionRecallDisplay(precision,recall)\n",
        "\n",
        "disp.plot()\n",
        "plt.show()"
      ],
      "metadata": {
        "colab": {
          "base_uri": "https://localhost:8080/",
          "height": 451
        },
        "id": "i8DoB2wZMrUR",
        "outputId": "eae62bfe-cc5f-446d-f4bf-f26e36330ba7"
      },
      "execution_count": null,
      "outputs": [
        {
          "output_type": "display_data",
          "data": {
            "text/plain": [
              "<Figure size 640x480 with 1 Axes>"
            ],
            "image/png": "[encoded data removed]"
          },
          "metadata": {}
        }
      ]
    }
  ]
}