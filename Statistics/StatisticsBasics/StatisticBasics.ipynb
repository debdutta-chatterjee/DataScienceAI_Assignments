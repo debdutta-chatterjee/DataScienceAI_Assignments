{
  "nbformat": 4,
  "nbformat_minor": 0,
  "metadata": {
    "colab": {
      "provenance": []
    },
    "kernelspec": {
      "name": "python3",
      "display_name": "Python 3"
    },
    "language_info": {
      "name": "python"
    }
  },
  "cells": [
    {
      "cell_type": "markdown",
      "source": [
        "#Statistics Basic Questions\n"
      ],
      "metadata": {
        "id": "d6oFN9bHGIjS"
      }
    },
    {
      "cell_type": "markdown",
      "source": [
        "###1. Explain the different types of data (qualitative and quantitative) and provide examples of each. Discuss\n",
        "nominal, ordinal, interval, and ratio scales.\n",
        "\n",
        "Qualitative - Cannot be described using numbers\n",
        "example - Gender. Can be divided into 2 types\n",
        "  Nominal scale - with no specific order - example Blood groups (A,B ,O,AB)\n",
        "  \n",
        "  Ordinal scale - With order or ranks - example Grade (A++ , A+, B++), Ratings - (Poor, Average, Good)\n",
        "\n",
        "Quantitative - Can be represented by numbers and mesaured.\n",
        "example - Age, Income. Can be divided into types\n",
        "  \n",
        "  Ratio scale - with equal intervals & true zero point.\n",
        "  example - weight , oKg weight means no weight.\n",
        "\n",
        "  interval scale - No true zero point. numeric values with equal intervals\n",
        "  example - Temparature 0 degree celsius doesnot mean no temparature)\n",
        "\n",
        "\n",
        "\n",
        "\n"
      ],
      "metadata": {
        "id": "rJqG_Q5-GO-L"
      }
    },
    {
      "cell_type": "markdown",
      "source": [
        "###2. What are the measures of central tendency, and when should you use each? Discuss the mean, median,\n",
        "and mode with examples and situations where each is appropriate.\n",
        "\n",
        "Mean,Median & Mode are the measures of central tendency\n",
        "\n",
        "Mean - Mean is the sum of all values, divided by the total number of elements.\n",
        "When the data is symmetrically distributed & has no outliers, then mean can be used.\n",
        "Example - Salary of employees, Ages of students in a class\n",
        "```\n",
        "salaryInK =[10,20,30,40,50]\n",
        "mean = (10+20+30+40+50)/5 = 30\n",
        "```\n",
        "\n",
        "Median - Median is the middle point of the sorted data. If the data has odd number of elements(n) then the middle element is the median. If the data has even number of elements, then the average of two middle elements is considered as median.\n",
        "When the data is skewed, or the data has outliers then median should be used. Because outliers impact mean but not the median.\n",
        "House prices in a town is an example. Because there can be few very expensive houses, which will skew the data & mean price.\n",
        "\n",
        "```\n",
        "housePriceInLakh = [10,20,30,40,50,500,700]\n",
        "median = 40\n",
        "```\n",
        "\n",
        "Mode - Mode is the value of most frequent elements in a dataset.\n",
        "Whent the data is categorical, the most frequent element inside the data can be important.\n",
        "Price of the most sold item in a website.\n",
        "```\n",
        "productPrice = [1,2,3,4,4,4,5,3,1,2,9,8,7]\n",
        "mode = 4 [frequency =3]\n",
        "```\n",
        "\n"
      ],
      "metadata": {
        "id": "uApzgB5KGUSi"
      }
    },
    {
      "cell_type": "markdown",
      "source": [
        "###3. Explain the concept of dispersion. How do variance and standard deviation measure the spread of data?\n",
        "\n",
        "Dispersion is the measurement of how much the data varies from the central tendency.\n",
        "\n",
        "Variance - Variance measures the average squared deviation of each data from the mean.\n",
        "\n",
        "```\n",
        "Lets take a data set [1,2,3,4,5]\n",
        "here the mean is 3.\n",
        "variance is measured by\n",
        "step 1: calculating the deviation of each data point from the mean and squaring it\n",
        "1 -> 1-3 =-2 -> -2**2 =4\n",
        "2 -> 2-3 =-1 -> -1**2 =1\n",
        "3 -> 3-3 =0 -> 0**2 =0\n",
        "4 -> 4-3 =1 -> 1**2 =1\n",
        "5 -> 5-3 =2 -> 2**2 =4\n",
        "step 2:Adding each value & dividing by the total number of elements\n",
        "(4+1+0+1+4)/5 = 2\n",
        "```\n",
        "\n",
        "Standard deviation: Standard deviation is the square root of variance.It measures the average distance of data points from mean.\n",
        "Standard devaition has the same uit of the original data.\n",
        "\n",
        "In the above example variance =2 , So the standard deviation = square root of 2\n",
        "\n",
        "```\n",
        "import numpy as np\n",
        "arr = np.array([1,2,3,4,5])\n",
        "print(arr.var())\n",
        "print(arr.std())\n",
        "```"
      ],
      "metadata": {
        "id": "aVhs0BBHPNCO"
      }
    },
    {
      "cell_type": "markdown",
      "source": [
        "### 4. What is a box plot, and what can it tell you about the distribution of data?\n",
        "\n",
        "\n",
        "Box plot is a graphical represeentation of a datset with 5 point summary.\n",
        "\n",
        "The box contains IQR(Inter quartile range) , a range between Q1 & Q3 (25 & 75 percentile)\n",
        "\n",
        "There is a line inside the box (median line) depicting median or 50 percentile.\n",
        "\n",
        "There are two lines covering the data between Q1-1.5IQR to Q3+1.5IQR, indicating the spread of the data\n",
        "\n",
        "Any point point above or beloq this range are outliers.\n",
        "\n",
        "\n",
        "```\n",
        "import numpy as np\n",
        "import seaborn as sns\n",
        "\n",
        "arr = np.array([-50,10,20,30,40,50,60,199])\n",
        "sns.boxplot(arr)\n",
        "```"
      ],
      "metadata": {
        "id": "yPwBdyMQUIw1"
      }
    },
    {
      "cell_type": "markdown",
      "source": [
        "###5. Discuss the role of random sampling in making inferences about populations.\n",
        "\n",
        "Random sampling ensures that every data in the population has equal chance of getting selected in the sample.This ensures that the sample is not biased.\n",
        "\n",
        "A survey to find out the defective product in a factory, can be done by sampling the products randomly."
      ],
      "metadata": {
        "id": "QUETIoojWB0m"
      }
    },
    {
      "cell_type": "markdown",
      "source": [
        "### 6. Explain the concept of skewness and its types. How does skewness affect the interpretation of data?\n",
        "\n",
        "Skewness measures the symmetry in the distribution of data.\n",
        "If the skenwness is zero then data is symmetrically distributed, If it is skewed then there can be outliers.Positive skewness indicates most data are lower than the others.\n",
        "Negative skewness indicates more data are higher.\n",
        "\n",
        "Skewness is of 3 types\n",
        "Zero skewness - The data is symmetrically distributed.the tail of the data in both sides are equally balanced. The mean & median are equal.\n",
        "\n",
        "Positive skewness - The tail is more towards the right side. The mean is greater than median.\n",
        "\n",
        "Negative skewness - the tail is more towards the left side. mean is less than median.\n"
      ],
      "metadata": {
        "id": "ePuNjzMMXiuG"
      }
    },
    {
      "cell_type": "markdown",
      "source": [
        "###7. What is the interquartile range (IQR), and how is it used to detect outliers?\n",
        "\n",
        "IQR is difference between Q3(75 percenile) and Q1(25 percentile) (Q3-Q1)\n",
        "\n",
        "IQR is used to determine Higher fence & lower fence .\n",
        "Higher boundary = Q3+1.5*IQR\n",
        "Lower boundary - Q1-1.5*IQR\n",
        "\n",
        "Any data point falling outside these boundaries are considered outliers."
      ],
      "metadata": {
        "id": "dnOp2D8yZZVH"
      }
    },
    {
      "cell_type": "markdown",
      "source": [
        "###8. Discuss the conditions under which the binomial distribution is used.\n",
        "\n",
        "*   Number of trials is fixed\n",
        "*   The outcome is binary(0/1)\n",
        "*   Outcome of a trial is independent of another\n",
        "*   The probability of success/failure is fixed\n",
        "\n",
        "Example - Flipping a fair coin"
      ],
      "metadata": {
        "id": "6oprfZa7alz-"
      }
    },
    {
      "cell_type": "markdown",
      "source": [
        "###9. Explain the properties of the normal distribution and the empirical rule (68-95-99.7 rule).\n",
        "\n",
        "Normal distribution is a continous probabiltiy distribution with symmetric or bell shaped distribution.Right & left side of the distribution are mirror images.\n",
        "\n",
        "Empirical guidlines mentions that within a normal distribution, 68% of the elements will be within 1 standard deviation. 95% will be within 2 standard deviation & 99.7% within 3 standard deviation"
      ],
      "metadata": {
        "id": "Xx-eFpOWbl1G"
      }
    },
    {
      "cell_type": "markdown",
      "source": [
        "###10. Provide a real-life example of a Poisson process and calculate the probability for a specific event.\n",
        "\n",
        "A call center gets anaverage of 10 calls every hour.\n",
        "\n",
        "Event getting 15 calls in 1 hour\n",
        "𝑃(𝑋=𝑘) = 𝑒**−𝜆 *𝜆**𝑘 / 𝑘!\n",
        "𝜆 =15\n",
        "k =10\n",
        "\n",
        "P(X=10) = e**-10 * 15**10 /10! = .0347\n",
        "\n",
        "P(X=10) = 3.47%\n"
      ],
      "metadata": {
        "id": "yS6Z0De0m0QB"
      }
    },
    {
      "cell_type": "markdown",
      "source": [
        "###11. Explain what a random variable is and differentiate between discrete and continuous random variables.\n",
        "\n",
        "Random variable is a numeric outcome of a random phenomenon.Used in probablity-statistics to analyze random events.\n",
        "Example - Rolling a dice.\n",
        "\n",
        "Continuous random variable can have infinite numbe rof values within a range. example - Time taken to complete task\n",
        "\n",
        "Discrete random variable can have finite number of distinct values (integers). example - number of heads in a 5 times coin flip."
      ],
      "metadata": {
        "id": "oIVE1Y5yoHey"
      }
    },
    {
      "cell_type": "markdown",
      "source": [
        "### 12. Provide an example dataset, calculate both covariance and correlation, and interpret the results\n",
        "\n",
        "dataset-\n",
        "```\n",
        "Study hours(X)  Marks(Y)\n",
        "1             10\n",
        "2             20\n",
        "3             30\n",
        "4             40\n",
        "5             50\n",
        "\n",
        "mean of X = (1+2+3+4+5)/5 = 3\n",
        "mean of Y = (10+20+30+40+50)/5 = 30\n",
        "\n",
        "Covariance -\n",
        "\n",
        "(1-3)(10-30)+(2-3)(20-30)+(3-3)(30-30)+(4-3)(40-30)+(5-3)(50-30) /(5-1)\n",
        "\n",
        "= (-2*-20 +-1*-10 + 0 + 1*10+2*20)/4\n",
        "\n",
        "=25\n",
        "\n",
        "Correlaion - COV(X,Y)/STD(X)*STD(Y)\n",
        "\n",
        "  =25/ 1.58*15.81 = 1\n",
        "\n",
        "STD(X) =\n",
        "  1 -> 1-3 =-2 -> -2**2 =4\n",
        "  2 -> 2-3 =-1 -> -1**2 =1\n",
        "  3 -> 3-3 =0 -> 0**2 =0\n",
        "  4 -> 4-3 =1 -> 1**2 =1\n",
        "  5 -> 5-3 =2 -> 2**2 =4\n",
        "  (4+1+0+1+4)/4 = 2.5\n",
        "  sqrt(2.5) = 1.58\n",
        "\n",
        "STD(Y) =\n",
        "  10 -> 10-30 =-20 -> -20**2 =400\n",
        "  20 -> 20-30 =-10 -> -10**2 =100\n",
        "  30 -> 30-30 =0 -> 0**2 =0\n",
        "  40 -> 40-30 =10 -> 10**2 =100\n",
        "  50 -> 50-30 =20 -> 20**2 =400\n",
        "  (400+100+0+100+400)/4 = 250\n",
        "  sqrt(250) = 15.81\n",
        "\n",
        "\n",
        "\n",
        "\n",
        "\n",
        "```\n",
        "\n",
        "The result interprets -\n",
        "Covariance - Positive covariance means marks increase with study hours\n",
        "\n",
        "Correlation - 1 correlation indicates perfect linear positive correlation between the two variables"
      ],
      "metadata": {
        "id": "YmSxzUbHrki8"
      }
    }
  ]
}