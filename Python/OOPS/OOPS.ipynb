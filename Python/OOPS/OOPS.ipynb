{
  "nbformat": 4,
  "nbformat_minor": 0,
  "metadata": {
    "colab": {
      "provenance": []
    },
    "kernelspec": {
      "name": "python3",
      "display_name": "Python 3"
    },
    "language_info": {
      "name": "python"
    }
  },
  "cells": [
    {
      "cell_type": "markdown",
      "source": [
        "#Python OOPs Questions"
      ],
      "metadata": {
        "id": "zdCbiCtmYrUf"
      }
    },
    {
      "cell_type": "markdown",
      "source": [
        "##Theoritical Questions\n"
      ],
      "metadata": {
        "id": "bSTdetdnYsdv"
      }
    },
    {
      "cell_type": "markdown",
      "source": [
        "###1.  What is Object-Oriented Programming (OOP) ?\n",
        "\n",
        "OOP is Object oriented programming, which models the real world entities as Classes & objects. Classe/Objects are containers to have properties and methods. methods opertae on the data/property. OOP has few key concepts - Inheritence,Abstraction,Polymorphism & Encapsulation.\n",
        "\n",
        "###2.  What is a class in OOP?\n",
        "\n",
        "Classes are templates or blueprints to create objects. Class contains data and methods. Multiple objects can be created based on the class template and have their own state. Class can also have constructor or __init__ method to initialize the data while creating object.\n",
        "\n",
        "```\n",
        "class MyClass:\n",
        "  def __init__(self,x):\n",
        "    self.x =x\n",
        "\n",
        "  def method(self):\n",
        "    print(f\"Inside class, having value {self.x}\")\n",
        "\n",
        "obj1 = MyClass(10)\n",
        "obj2 = MyClass(20)\n",
        "obj1.method() #Inside class, having value 10\n",
        "obj2.method() #Inside class, having value 20\n",
        "```\n",
        "\n",
        "###3.  What is an object in OOP?\n",
        "\n",
        "Objects are instances of a class. Objects have their own property/attributes and behaviour/methods. They also have a state and behaves accordingly.\n",
        "\n",
        "```\n",
        "class MyClass:\n",
        "  def __init__(self,x):\n",
        "    self.x =x\n",
        "\n",
        "  def method(self):\n",
        "    print(f\"Inside class, having value {self.x}\")\n",
        "\n",
        "obj1 = MyClass(10) #obj1 is an object\n",
        "obj2 = MyClass(20) #obj2 is another object\n",
        "```\n",
        "\n",
        "###4. What is the difference between abstraction and encapsulation?\n",
        "\n",
        "Abstraction is OOP concept that hides the complex implementation of a functioanlity.It simplifises the usage\n",
        "\n",
        "\n",
        "```\n",
        "from abc import ABC,abstractmethod\n",
        "\n",
        "class MyClass(ABC):\n",
        "  \n",
        "  #abstract method not having implementation\n",
        "  @abstractmethod         \n",
        "  def abstract_method(self):\n",
        "    pass\n",
        "\n",
        "  def method(self):\n",
        "    print(f\"Inside class, having value {self.x}\")\n",
        "\n",
        "class ChildClassFirst(MyClass):\n",
        "  def abstract_method(self):\n",
        "    print(\"Abstract method inside first child\")\n",
        "\n",
        "class ChildClassSecond(MyClass):\n",
        "  def abstract_method(self):\n",
        "    print(\"Abstract method inside second child\")\n",
        "\n",
        "#obj1 = MyClass() #TypeError: Can't instantiate abstract class MyClass with abstract method abstract_method\n",
        "obj2 = ChildClassFirst()\n",
        "obj3 = ChildClassSecond()\n",
        "\n",
        "obj2.abstract_method() #Abstract method inside first child\n",
        "obj3.abstract_method() #Abstract method inside second child\n",
        "```\n",
        "\n",
        "\n",
        "Encapsulation is OOP concept that bundles the data and method together, to restrict data access and protects the state of the object.\n",
        "\n",
        "```\n",
        "class MyClass():\n",
        "  def __init__(self,x):\n",
        "    #encapsulation hides the varibale using private access modifier\n",
        "    self.__private_x = x+10   \n",
        "\n",
        "  #Access via get method\n",
        "  def get_x(self):\n",
        "    return self.__private_x\n",
        "\n",
        "  def set_x(self,x):\n",
        "    self.__private_x =x\n",
        "\n",
        "obj1 = MyClass(10)\n",
        "print(f\"value is {obj1.get_x()}\") #Ivalue is 20\n",
        "obj1.set_x(50)\n",
        "print(f\"value is {obj1.get_x()}\") #Ivalue is 50\n",
        "\n",
        "```\n",
        "\n",
        "###5. What are dunder methods in Python?\n",
        "\n",
        "Dunder methods or 'double underscore methods' are magic methods that customizes the behaviour of an object like arithmetic operations, initialization, string representation etc.\n",
        "\n",
        "```\n",
        "class MyClass():\n",
        "\n",
        "  #initialization dunder method\n",
        "  def __init__(self,x):\n",
        "    self.x=x\n",
        "\n",
        "  def __str__(self):\n",
        "    return f\"This object contains {self.x}\"\n",
        "\n",
        "  def __add__(self,operand):\n",
        "    return self.x+operand.x\n",
        "\n",
        "obj1 = MyClass(10)\n",
        "obj2 = MyClass(20)\n",
        "print(obj1) #This object contains 10\n",
        "print(obj1+obj2) #30\n",
        "```\n",
        "\n",
        "###6. Explain the concept of inheritance in OOP\n",
        "\n",
        "Inheritence is OOP concept that allows child classes to inherit method & property from parent class(es). This is used for code reusability.\n",
        "\n",
        "```\n",
        "class MyClass():\n",
        "\n",
        "  def __init__(self,x):\n",
        "    self.x=x\n",
        "\n",
        "  def method(self):\n",
        "    return f\"This object contains {self.x}\"\n",
        "\n",
        "class ChildClass(MyClass):\n",
        "\n",
        "  def __init__(self,x,y):\n",
        "    super().__init__(x)\n",
        "    self.y=y\n",
        "\n",
        "  def child_method(self):\n",
        "    return f\"This child object contains {self.x} {self.y}\"\n",
        "\n",
        "obj1 = ChildClass(10,20)\n",
        "print(obj1.method()) #This object contains 10\n",
        "print(obj1.child_method()) #This child object contains 10 20\n",
        "\n",
        "\n",
        "```"
      ],
      "metadata": {
        "id": "c5hQCuTWYxD3"
      }
    },
    {
      "cell_type": "markdown",
      "source": [
        "###7. What is polymorphism in OOP?\n",
        "\n",
        "Polymorphism is OOP concept that allows object of different classes to be treated as the object of the same parent class. It is to ensure same thing can exist in differenct forms.\n",
        "Polymorphism can be achieved using method overloading & method overriding.\n",
        "\n",
        "```\n",
        "class Parent():\n",
        "  def method(self):\n",
        "    print(\"Parent method\")\n",
        "\n",
        "class Child(Parent):\n",
        "  def method(self):\n",
        "    print(\"Child method\")\n",
        "\n",
        "def execute_method(obj):\n",
        "  obj.method()\n",
        "\n",
        "obj1 = Parent()\n",
        "obj2 = Child()\n",
        "\n",
        "for obj in (obj1,obj2):\n",
        "  execute_method(obj)\n",
        "   #Parent method\n",
        "   #Child method\n",
        "\n",
        "```\n",
        "\n",
        "###8. How is encapsulation achieved in Python?\n",
        "Encapsulation is achieved by bundling the data and the method together inside a class. The data can have access modifiers private, protected & public.Data can be interacted using getter setter methods and property annotations.\n",
        "\n",
        "```\n",
        "class Parent():\n",
        "  def __init__(self,x,y,z,m):\n",
        "    self.__private =x\n",
        "    self.public =y\n",
        "    self._protected =z\n",
        "    self.__private_poprety = m\n",
        "\n",
        "  def get_private(self):\n",
        "    return self.__private\n",
        "\n",
        "  def set_private(self,x):\n",
        "    self.__private =x\n",
        "\n",
        "  @property\n",
        "  def private_poprety(self):\n",
        "    return self.__private_poprety\n",
        "\n",
        "  @private_poprety.setter\n",
        "  def private_poprety(self,x):\n",
        "    self.__private_poprety =x\n",
        "\n",
        "class Child(Parent):\n",
        "\n",
        "  def __init__(self,x,y,z,m):\n",
        "    super().__init__(x,y,z,m)\n",
        "\n",
        "  def protected_print(self):\n",
        "    print(self._protected)\n",
        "\n",
        "\n",
        "parent = Parent(1,2,3,4)\n",
        "child = Child(1,2,3,4)\n",
        "print(child._protected) #3\n",
        "print(parent.public) #2\n",
        "print(parent.get_private()) #1\n",
        "print(parent.private_poprety) #4\n",
        "\n",
        "```\n",
        "\n"
      ],
      "metadata": {
        "id": "iqdXU-APjQ5R"
      }
    },
    {
      "cell_type": "markdown",
      "source": [
        "###9. What is a constructor in Python?\n",
        "\n",
        "Constructor is a special method to initialize the variables or attributes inside an object. it is automatically called when instantiating an object\n",
        "\n",
        "```\n",
        "class MyClass():\n",
        "  def __init__(self):\n",
        "    print(\"constructor called!\")\n",
        "\n",
        "obj1 = MyClass() #constructor called!\n",
        "```\n",
        "\n",
        "###10. What are class and static methods in Python?\n",
        "\n",
        "Class methods are attached to class and not the instances. these are required to modify class state irespective of objects\n",
        "\n",
        "Static methods are utility methods that are not attahced to class or objects\n",
        "\n",
        "```\n",
        "class MyClass():\n",
        "  count_object = 0\n",
        "\n",
        "  def __init__(self):\n",
        "    MyClass.count_object+=1\n",
        "\n",
        "  @classmethod\n",
        "  def get_obj_count(cls):\n",
        "    print(f\"{cls.count_object} number of objects craeted.\")\n",
        "\n",
        "  @staticmethod\n",
        "  def add_num(a,b):\n",
        "    print(f\"Output is {a+b}\")\n",
        "\n",
        "MyClass()\n",
        "MyClass()\n",
        "MyClass.get_obj_count() #2 number of objects craeted.\n",
        "MyClass().add_num(10,20) #Output is 30\n",
        "  \n",
        "```\n",
        "\n",
        "###11. What is method overloading in Python?\n",
        "\n",
        "method overloading is having multiple methods with different parametrs in the same class. python supports method overloading using defaul parameters.\n",
        "\n",
        "```\n",
        "class MyClass():\n",
        "  def mehod(self,a):\n",
        "    print(a)\n",
        "  def mehod(self,a,b):\n",
        "    print(a,b)\n",
        "\n",
        "#Pyhton way\n",
        "class MyClass():\n",
        "  def mehod(self,a=0,b=0):\n",
        "    print(a,b)\n",
        "```\n",
        "\n",
        "###12. What is method overriding in OOP?\n",
        "\n",
        "Method overriding is subclass providing different implementation of a method of its parent class. Both parent & child class has same method signature.\n",
        "\n",
        "```\n",
        "class MyClass():\n",
        "  def method(self):\n",
        "    print(\"parent\")\n",
        "\n",
        "class Child(MyClass):\n",
        "  def method(self):\n",
        "    print(\"child\")\n",
        "\n",
        "p = MyClass()\n",
        "c = Child()\n",
        "p.method() #parent\n",
        "c.method()#child\n",
        "```\n",
        "\n",
        "###13. What is a property decorator in Python?\n",
        "\n",
        "property decorator helps to mange attribute. Methods can be accessed like properties using property decorator. property decorator can be getter setter & deleter\n",
        "\n",
        "```\n",
        "class MyClass():\n",
        "  def __init__(self,x):\n",
        "    self.__x= x\n",
        "\n",
        "  @property\n",
        "  def prop(self):\n",
        "    return self.__x\n",
        "\n",
        "  @prop.setter\n",
        "  def prop(self,x):\n",
        "    self.__x= x\n",
        "\n",
        "  @prop.deleter\n",
        "  def prop(self):\n",
        "    del self.__x\n",
        "\n",
        "c = MyClass(10)\n",
        "print(c.prop) #10\n",
        "c.prop =20\n",
        "print(c.prop) #20\n",
        "del c.prop\n",
        "print(c.prop) #AttributeError\n",
        "\n",
        "```\n",
        "\n",
        "\n",
        "###14. Why is polymorphism important in OOP?\n",
        "\n",
        "Polymorphism increases extensibility, code reuse & flexbility. Same behaviour can have the same name but it will vary based on the object. It makes code easier to maintain.\n",
        "\n",
        "###15. What is an abstract class in Python?\n",
        "\n",
        "Abstract class cannot be instantiated and contain abstract methods. Abstract methods are template methods without implementation & only with its signaure. Implementing sub classes implement the abstract methods.\n",
        "\n",
        "```\n",
        "from abc import ABC,abstractmethod\n",
        "\n",
        "class MyClass(ABC):\n",
        "\n",
        "  #abstract method not having implementation\n",
        "  @abstractmethod         \n",
        "  def abstract_method(self):\n",
        "    pass\n",
        "\n",
        "class ChildClassFirst(MyClass):\n",
        "  def abstract_method(self):\n",
        "    print(\"Abstract method inside first child\")\n",
        "\n",
        "class ChildClassSecond(MyClass):\n",
        "  def abstract_method(self):\n",
        "    print(\"Abstract method inside second child\")\n",
        "\n",
        "\"\"\" obj1 = MyClass() #TypeError: Can't instantiate abstract class MyClass with abstract method abstract_method \"\"\"\"\n",
        "obj2 = ChildClassFirst()\n",
        "obj3 = ChildClassSecond()\n",
        "\n",
        "obj2.abstract_method() #Abstract method inside first child\n",
        "obj3.abstract_method() #Abstract method inside second child\n",
        "\n",
        "```"
      ],
      "metadata": {
        "id": "m5vACuzinXgb"
      }
    },
    {
      "cell_type": "markdown",
      "source": [
        "###16.  What are the advantages of OOP?\n",
        "\n",
        "Code reuse, extensibility,Polymorphism, easier code maintenance, real world modelling of entities\n",
        "\n",
        "###17. What is multiple inheritance in Python?\n",
        "\n",
        "Multiple inheritence is when a class inherits from multiple parent class. When multiple parent class has same method declaration, python uses MRO C3 linearization algorithm to resolve methods.\n",
        "\n",
        "```\n",
        "class A():\n",
        "  def method1():\n",
        "    pass\n",
        "\n",
        "class B():\n",
        "  def method2():\n",
        "    pass\n",
        "\n",
        "#Multiple inheritance\n",
        "class C(A,B):\n",
        "  def method3():\n",
        "    pass\n",
        "```\n",
        "\n",
        "###18. What is the difference between a class variable and an instance variable?\n",
        "\n",
        "instance variables are unique for each instance, class variables are specific to a class and doesnot vary based on the instances\n",
        "\n",
        "```\n",
        "class MyClass():\n",
        "  class_var =0\n",
        "\n",
        "  def __init__(self,x):\n",
        "    self.x=x\n",
        "\n",
        "o1= MyClass(1)\n",
        "o2= MyClass(2)\n",
        "print(f\"{o1.x} {o2.x} {MyClass.class_var}\") #1 2 0\n",
        "```\n",
        "\n",
        "###19.  Explain the purpose of ‘’__str__’ and ‘__repr__’ ‘ methods in Python\n",
        "\n",
        " _ _str_ _ and _ _rep_ _  are both dunder methods. _ _str_ _ provides the string representation of the object. It is called by the built in str() method. _ _repr__ is used to provide a string representation to recreate the object or debug. It is called by repr() method\n",
        "\n",
        "```\n",
        "class MyClass:\n",
        "  def __str__(self):\n",
        "    return \"This is str\"\n",
        "  \n",
        "  def __repr__(self):\n",
        "    return \"This is repr\"\n",
        "\n",
        "o1 = MyClass()\n",
        "print(o1) # This is str  #str() method called\n",
        "repr(o1) #This is repr\n",
        "```\n",
        "\n",
        "\n",
        "\n"
      ],
      "metadata": {
        "id": "GW9Z6xWox1RE"
      }
    },
    {
      "cell_type": "markdown",
      "source": [
        "###20. What is the significance of the ‘super()’ function in Python?\n",
        "\n",
        "super keyword calls the methods of the parent class. It can call the parent class init dunder method also to avoid duplication of code while initialization.\n",
        "\n",
        "```\n",
        "class Parent():\n",
        "  def m(self):\n",
        "    print(\"parent\")\n",
        "\n",
        "class Child(Parent):\n",
        "  def m(self):\n",
        "    super().m()\n",
        "    print(\"child\")\n",
        "\n",
        "Child().m()\n",
        "#parent\n",
        "#child\n",
        "```\n",
        "###21. What is the significance of the __del__ method in Python?\n",
        "\n",
        "_ _del _ _ is a dunder method that gets called during pobject destruction. It is called destructor. When there are no reference of object present then the object gets garbage collected.\n",
        "This is used to write cleanup codes.\n",
        "\n",
        "```\n",
        "class MyClass:\n",
        "  def __del__(self):\n",
        "    print(\"Object garbage collected\")\n",
        "\n",
        "o1 = MyClass()\n",
        "del o1 #Object garbage collected\n",
        "```\n",
        "\n",
        "####22. What is the difference between @staticmethod and @classmethod in Python\n",
        "\n",
        "@classmethod & @staticmethod are decorators\n",
        "\n",
        "Class methods are attached to class and not the instances. these are required to modify class state irespective of objects.\n",
        "\n",
        "Static methods are utility methods that are not attahced to class or objects\n",
        "\n",
        "```\n",
        "class MyClass():\n",
        "  count_object = 0\n",
        "\n",
        "  def __init__(self):\n",
        "    MyClass.count_object+=1\n",
        "\n",
        "  @classmethod\n",
        "  def get_obj_count(cls):\n",
        "    print(f\"{cls.count_object} number of objects craeted.\")\n",
        "\n",
        "  @staticmethod\n",
        "  def add_num(a,b):\n",
        "    print(f\"Output is {a+b}\")\n",
        "\n",
        "MyClass()\n",
        "MyClass()\n",
        "MyClass.get_obj_count() #2 number of objects craeted.\n",
        "MyClass().add_num(10,20) #Output is 30\n",
        "\n",
        "```\n",
        "\n",
        "\n",
        "###23. How does polymorphism work in Python with inheritance?\n",
        "\n",
        "Polymorphism works with Inheritance in case of method overriding.\n",
        "When parent & child class have the same method signature, then based on the object the method is called dynamically. The actual method is selected in the runtime\n",
        "\n",
        "```\n",
        "class Parent():\n",
        "  def method(self):\n",
        "    print(\"Parent method\")\n",
        "\n",
        "class Child(Parent):\n",
        "  def method(self):\n",
        "    print(\"Child method\")\n",
        "\n",
        "def execute_method(obj):\n",
        "  obj.method()\n",
        "\n",
        "obj1 = Parent()\n",
        "obj2 = Child()\n",
        "\n",
        "for obj in (obj1,obj2):\n",
        "  execute_method(obj)\n",
        "   #Parent method\n",
        "   #Child method\n",
        "```\n",
        "\n",
        "###24.  What is method chaining in Python OOP?\n",
        "\n",
        "Method chaining is a concept where the methods on the same object can be called in a single statement fluently.\n",
        "the methods return the self or the object itself, hence the next method gets called on the returned object itslef.\n",
        "\n",
        "```\n",
        "class Chain():\n",
        "  def m1(self):\n",
        "    print(\"m1\")\n",
        "    return self\n",
        "  \n",
        "  def m2(self):\n",
        "    print(\"m2\")\n",
        "    return self\n",
        "\n",
        "obj = Chain()\n",
        "obj.m1().m2() #m1 m2\n",
        "```\n",
        "\n",
        "###25.  What is the purpose of the __call__ method in Python?\n",
        "\n",
        "_ _ call _ _ is a special method that allows object to be called like if it were a method. An object can be used as callable.Used for objects that behaves like function. It can be used to invoke an object like it is a function.\n",
        "\n",
        "```\n",
        "class A():\n",
        "  def __call__(self,x):\n",
        "    print(f\"x is {x}\")\n",
        "\n",
        "a = A()\n",
        "a(5) #x is 5\n",
        "```"
      ],
      "metadata": {
        "id": "TdAovyd2xsgl"
      }
    },
    {
      "cell_type": "markdown",
      "source": [
        "## Practical Questions"
      ],
      "metadata": {
        "id": "cgtSgfgA6VSI"
      }
    },
    {
      "cell_type": "code",
      "source": [
        "### 1. Create a parent class Animal with a method speak() that prints a generic message. Create a child class Dog\n",
        "###that overrides the speak() method to print \"Bark!\".\n",
        "\n",
        "class Animal:\n",
        "  def speak(self):\n",
        "    print(\"This is generic animal\")\n",
        "\n",
        "class Dog(Animal):\n",
        "  def speak(self):\n",
        "    print(\"Bark!\")\n",
        "\n",
        "a=Animal()\n",
        "a.speak()\n",
        "d = Dog()\n",
        "d.speak()\n",
        "\n"
      ],
      "metadata": {
        "colab": {
          "base_uri": "https://localhost:8080/"
        },
        "id": "zp4I-IhE6YJ2",
        "outputId": "5788a2f5-fb12-4813-99e7-b785eac2b542"
      },
      "execution_count": 50,
      "outputs": [
        {
          "output_type": "stream",
          "name": "stdout",
          "text": [
            "This is generic animal\n",
            "Bark!\n"
          ]
        }
      ]
    },
    {
      "cell_type": "code",
      "source": [
        "### 2. Write a program to create an abstract class Shape with a method area(). Derive classes Circle and Rectangle\n",
        "###from it and implement the area() method in both.\n",
        "\n",
        "from abc import ABC,abstractmethod\n",
        "class Shape():\n",
        "  @abstractmethod\n",
        "  def area(self):\n",
        "    pass\n",
        "\n",
        "class Circle(Shape):\n",
        "  def area(self,r):\n",
        "    return 3.14*r*r\n",
        "\n",
        "class Rectangle(Shape):\n",
        "  def area(self,a,b):\n",
        "    return a*b\n",
        "\n",
        "c = Circle()\n",
        "print(c.area(100))\n",
        "\n",
        "r = Rectangle()\n",
        "print(r.area(100,100))"
      ],
      "metadata": {
        "colab": {
          "base_uri": "https://localhost:8080/"
        },
        "id": "oFwykDJb69u3",
        "outputId": "890459da-bc00-4831-9ebd-b00d30a46d9d"
      },
      "execution_count": 53,
      "outputs": [
        {
          "output_type": "stream",
          "name": "stdout",
          "text": [
            "31400.0\n",
            "10000\n"
          ]
        }
      ]
    },
    {
      "cell_type": "code",
      "source": [
        "###3. Implement a multi-level inheritance scenario where a class Vehicle has an attribute type. Derive a class Car\n",
        "###and further derive a class ElectricCar that adds a battery attribute.\n",
        "\n",
        "class Vehicle:\n",
        "  def __init__(self,type):\n",
        "    self.type=type\n",
        "\n",
        "class Car(Vehicle):\n",
        "  def __init__(self,type):\n",
        "    super().__init__(type)\n",
        "\n",
        "class ElectricCar(Car):\n",
        "  def __init__(self,type,battery):\n",
        "    super().__init__(type)\n",
        "    self.battery=battery\n",
        "\n",
        "ev=ElectricCar(\"A\",0)\n",
        "print(ev.type)\n",
        "print(ev.battery)\n"
      ],
      "metadata": {
        "colab": {
          "base_uri": "https://localhost:8080/"
        },
        "id": "Ghm9Biq58V0n",
        "outputId": "0bd20824-6f3e-44c8-ebda-ee8c0e72d1a0"
      },
      "execution_count": 54,
      "outputs": [
        {
          "output_type": "stream",
          "name": "stdout",
          "text": [
            "A\n",
            "0\n"
          ]
        }
      ]
    },
    {
      "cell_type": "code",
      "source": [
        "###4. Implement a multi-level inheritance scenario where a class Vehicle has an attribute type. Derive a class Car\n",
        "###and further derive a class ElectricCar that adds a battery attribute.\n",
        "\n",
        "class Vehicle:\n",
        "  def __init__(self,type):\n",
        "    self.type=type\n",
        "\n",
        "class Car(Vehicle):\n",
        "  def __init__(self,type):\n",
        "    super().__init__(type)\n",
        "\n",
        "class ElectricCar(Car):\n",
        "  def __init__(self,type,battery):\n",
        "    super().__init__(type)\n",
        "    self.battery=battery\n",
        "\n",
        "ev=ElectricCar(\"A\",0)\n",
        "print(ev.type)\n",
        "print(ev.battery)\n"
      ],
      "metadata": {
        "id": "5MYwd7Nr9HtA"
      },
      "execution_count": null,
      "outputs": []
    },
    {
      "cell_type": "code",
      "source": [
        "###5. Write a program to demonstrate encapsulation by creating a class BankAccount with private attributes\n",
        "###balance and methods to deposit, withdraw, and check balance.\n",
        "\n",
        "\n",
        "class BankAccount:\n",
        "  def __init__(self,start_balance):\n",
        "    self.__balance =start_balance\n",
        "\n",
        "  def deposit(self,amount):\n",
        "    self.__balance+=amount\n",
        "\n",
        "  def withdraw(self,amount):\n",
        "    if(self.__balance<amount):\n",
        "      print(\"Insufficient balance\")\n",
        "    else:\n",
        "      self.__balance-=amount\n",
        "\n",
        "  def check_balance(self):\n",
        "    return self.__balance\n",
        "\n",
        "account = BankAccount(100)\n",
        "print(account.check_balance())\n",
        "account.deposit(500)\n",
        "print(account.check_balance())\n",
        "account.withdraw(200)\n",
        "print(account.check_balance())\n",
        "account.withdraw(1200)\n",
        "print(account.check_balance())"
      ],
      "metadata": {
        "colab": {
          "base_uri": "https://localhost:8080/"
        },
        "id": "oT96h8LQ9JN-",
        "outputId": "71fcd164-bd79-4a5a-c374-87489d7836fc"
      },
      "execution_count": 61,
      "outputs": [
        {
          "output_type": "stream",
          "name": "stdout",
          "text": [
            "100\n",
            "600\n",
            "400\n",
            "Insufficient balance\n",
            "400\n"
          ]
        }
      ]
    },
    {
      "cell_type": "code",
      "source": [
        "### 6. Demonstrate runtime polymorphism using a method play() in a base class Instrument. Derive classes Guitar\n",
        "###and Piano that implement their own version of play().\n",
        "\n",
        "class Instrument:\n",
        "  def play(self):\n",
        "    print(\"Instrument - generic play\")\n",
        "\n",
        "class Guitar(Instrument):\n",
        "  def play(self):\n",
        "    print(\"Guitar -  play\")\n",
        "\n",
        "class Piano(Instrument):\n",
        "  def play(self):\n",
        "    print(\"Piano -  play\")\n",
        "\n",
        "i = Instrument()\n",
        "g = Guitar()\n",
        "p = Piano()\n",
        "\n",
        "lst = [i,g,p]\n",
        "\n",
        "for obj in lst:\n",
        "  obj.play()"
      ],
      "metadata": {
        "colab": {
          "base_uri": "https://localhost:8080/"
        },
        "id": "ugC0qgip__Oi",
        "outputId": "6065bef8-98ff-4660-a78c-727c2858f591"
      },
      "execution_count": 63,
      "outputs": [
        {
          "output_type": "stream",
          "name": "stdout",
          "text": [
            "Instrument - generic play\n",
            "Guitar -  play\n",
            "Piano -  play\n"
          ]
        }
      ]
    },
    {
      "cell_type": "code",
      "source": [
        "### 7. Create a class MathOperations with a class method add_numbers() to add two numbers and a static\n",
        "###method subtract_numbers() to subtract two numbers\n",
        "\n",
        "class MathOperations():\n",
        "\n",
        "  num1=0\n",
        "  num2=0\n",
        "\n",
        "  @classmethod\n",
        "  def add_numbers(cls):\n",
        "    return cls.num1 + cls.num2\n",
        "\n",
        "  @staticmethod\n",
        "  def subtract_numbers(a,b):\n",
        "    return a-b\n",
        "\n",
        "MathOperations.num1=10\n",
        "MathOperations.num2=10\n",
        "\n",
        "print(MathOperations.add_numbers())\n",
        "print(MathOperations.subtract_numbers(20,10))\n",
        "\n",
        "\n"
      ],
      "metadata": {
        "colab": {
          "base_uri": "https://localhost:8080/"
        },
        "id": "BRWcqAxXBKQw",
        "outputId": "203e11c8-52bb-46e9-968c-2febdad7523c"
      },
      "execution_count": 64,
      "outputs": [
        {
          "output_type": "stream",
          "name": "stdout",
          "text": [
            "20\n",
            "10\n"
          ]
        }
      ]
    },
    {
      "cell_type": "code",
      "source": [
        "###8. Implement a class Person with a class method to count the total number of persons created.\n",
        "\n",
        "class Person:\n",
        "  count=0\n",
        "  def __init__(self):\n",
        "    Person.count+=1\n",
        "\n",
        "  @classmethod\n",
        "  def get_count(cls):\n",
        "    return cls.count\n",
        "\n",
        "p1 = Person()\n",
        "p2 = Person()\n",
        "p3 = Person()\n",
        "\n",
        "print(Person.get_count())\n",
        "\n"
      ],
      "metadata": {
        "colab": {
          "base_uri": "https://localhost:8080/"
        },
        "id": "pA-iHdwUCD8p",
        "outputId": "a20569ae-78c1-47e8-b96c-3571166cc077"
      },
      "execution_count": 66,
      "outputs": [
        {
          "output_type": "stream",
          "name": "stdout",
          "text": [
            "3\n"
          ]
        }
      ]
    },
    {
      "cell_type": "code",
      "source": [
        "### 9. Write a class Fraction with attributes numerator and denominator. Override the str method to display the\n",
        "###fraction as \"numerator/denominator\".\n",
        "\n",
        "class Fraction:\n",
        "  def __init__(self,numerator,denominator):\n",
        "    self.numerator=numerator\n",
        "    self.denominator=denominator\n",
        "\n",
        "  def __str__(self):\n",
        "    return f\"{self.numerator/self.denominator}\"\n",
        "\n",
        "f = Fraction(5,2)\n",
        "print(f)\n"
      ],
      "metadata": {
        "colab": {
          "base_uri": "https://localhost:8080/"
        },
        "id": "mJoccnqkCp2p",
        "outputId": "31418e36-f6e3-4b46-bbfe-75bb0fd02087"
      },
      "execution_count": 70,
      "outputs": [
        {
          "output_type": "stream",
          "name": "stdout",
          "text": [
            "2.5\n"
          ]
        }
      ]
    },
    {
      "cell_type": "code",
      "source": [
        "###10. Demonstrate operator overloading by creating a class Vector and overriding the add method to add two\n",
        "###vectors.\n",
        "\n",
        "class Vector:\n",
        "  def __init__(self,x,y):\n",
        "    self.x=x\n",
        "    self.y=y\n",
        "\n",
        "  def __add__(self,obj):\n",
        "    x =self.x+obj.x\n",
        "    y =self.y+obj.y\n",
        "    return Vector(x,y)\n",
        "\n",
        "  def __str__(self):\n",
        "    return f\"{self.x} {self.y}\"\n",
        "\n",
        "\n",
        "v1 = Vector(1,2)\n",
        "v2 = Vector(3,4)\n",
        "print(v1+v2)\n"
      ],
      "metadata": {
        "colab": {
          "base_uri": "https://localhost:8080/"
        },
        "id": "3N-k_u9qDGZh",
        "outputId": "8427943f-3dc0-4a9b-e514-96f73739d124"
      },
      "execution_count": 72,
      "outputs": [
        {
          "output_type": "stream",
          "name": "stdout",
          "text": [
            "4 6\n"
          ]
        }
      ]
    },
    {
      "cell_type": "code",
      "source": [
        "###11. Create a class Person with attributes name and age. Add a method greet() that prints \"Hello, my name is\n",
        "###{name} and I am {age} years old.\"\n",
        "\n",
        "class Person:\n",
        "  def __init__(self,name,age):\n",
        "    self.age=age\n",
        "    self.name=name\n",
        "\n",
        "  def greet(self):\n",
        "    print(f\"Hello, my name is {self.name} and I am {self.age} years old.\")\n",
        "\n",
        "p = Person(\"Ram\",20)\n",
        "p.greet()\n"
      ],
      "metadata": {
        "colab": {
          "base_uri": "https://localhost:8080/"
        },
        "id": "xwjjz3Q3EF8g",
        "outputId": "af1a5307-7681-4d49-92a2-36f65857a79c"
      },
      "execution_count": 74,
      "outputs": [
        {
          "output_type": "stream",
          "name": "stdout",
          "text": [
            "Hello, my name is Ram and I am 20 years old.\n"
          ]
        }
      ]
    },
    {
      "cell_type": "code",
      "source": [
        "###12. Implement a class Student with attributes name and grades. Create a method average_grade() to compute\n",
        "###the average of the grades.\n",
        "\n",
        "from functools import reduce\n",
        "class Student:\n",
        "  def __init__(self,name,grades):\n",
        "    self.grades=grades\n",
        "    self.name=name\n",
        "\n",
        "  def average_grade(self):\n",
        "    avg=reduce(lambda x,y:x+y,self.grades)/len(self.grades)\n",
        "    return avg\n",
        "\n",
        "s = Student(\"Ram\",[10,20,30,40,50,30])\n",
        "print(s.average_grade())"
      ],
      "metadata": {
        "colab": {
          "base_uri": "https://localhost:8080/"
        },
        "id": "8h0tMGB3EuIZ",
        "outputId": "b4c83394-f88d-4185-a656-47df114163fe"
      },
      "execution_count": 78,
      "outputs": [
        {
          "output_type": "stream",
          "name": "stdout",
          "text": [
            "30.0\n"
          ]
        }
      ]
    },
    {
      "cell_type": "code",
      "source": [
        "### 13. Create a class Rectangle with methods set_dimensions() to set the dimensions and area() to calculate the\n",
        "###area.\n",
        "\n",
        "class Rectangle:\n",
        "  def __init__(self,h=0,w=0):\n",
        "    self.__h=h\n",
        "    self.__w=w\n",
        "\n",
        "  def set_dimensions(self,h,w):\n",
        "    self.__h=h\n",
        "    self.__w=w\n",
        "\n",
        "  def area(self):\n",
        "    return self.__h*self.__w\n",
        "\n",
        "r =Rectangle()\n",
        "r.set_dimensions(10,20)\n",
        "print(r.area())\n",
        "\n"
      ],
      "metadata": {
        "colab": {
          "base_uri": "https://localhost:8080/"
        },
        "id": "ZmQ3MLYtGDwa",
        "outputId": "c1391689-4bbb-491c-fe3b-507acaa379b1"
      },
      "execution_count": 79,
      "outputs": [
        {
          "output_type": "stream",
          "name": "stdout",
          "text": [
            "200\n"
          ]
        }
      ]
    },
    {
      "cell_type": "code",
      "source": [
        "###14. 14. Create a class Employee with a method calculate_salary() that computes the salary based on hours worked\n",
        "###and hourly rate. Create a derived class Manager that adds a bonus to the salary.\n",
        "\n",
        "class Employee:\n",
        "  def __init__(self,hours,rate):\n",
        "    self.__hours=hours\n",
        "    self.__rate=rate\n",
        "\n",
        "  def calculate_salary(self):\n",
        "    return self.__hours* self.__rate\n",
        "\n",
        "class Manager(Employee):\n",
        "  def __init__(self,hours,rate,bonus):\n",
        "    super().__init__(hours,rate)\n",
        "    self.__bonus=bonus\n",
        "\n",
        "  def calculate_salary(self):\n",
        "    return super().calculate_salary()+self.__bonus\n",
        "\n",
        "e = Employee(10,20)\n",
        "print(e.calculate_salary())\n",
        "\n",
        "m = Manager(10,20,5)\n",
        "print(m.calculate_salary())"
      ],
      "metadata": {
        "colab": {
          "base_uri": "https://localhost:8080/"
        },
        "id": "aJutzhRyG6Gx",
        "outputId": "3ce8c6c0-8cfa-4f03-b06a-0caf6998c286"
      },
      "execution_count": 82,
      "outputs": [
        {
          "output_type": "stream",
          "name": "stdout",
          "text": [
            "200\n",
            "205\n"
          ]
        }
      ]
    },
    {
      "cell_type": "code",
      "source": [
        "###15. Create a class Product with attributes name, price, and quantity. Implement a method total_price() that\n",
        "###calculates the total price of the product.\n",
        "\n",
        "class Product:\n",
        "  def __init__(self,name,price,quantity):\n",
        "    self.name=name\n",
        "    self.__price=price\n",
        "    self.__quantity=quantity\n",
        "\n",
        "  def total_price(self):\n",
        "    return self.__price*self.__quantity\n",
        "\n",
        "\n",
        "p = Product(\"Poduct 1\",10,10)\n",
        "print(f\"{p.name} - {p.total_price()}\")"
      ],
      "metadata": {
        "colab": {
          "base_uri": "https://localhost:8080/"
        },
        "id": "TqUCBO0lIG8q",
        "outputId": "a81ecc0f-59c9-4b8b-e657-45b87b598f99"
      },
      "execution_count": 87,
      "outputs": [
        {
          "output_type": "stream",
          "name": "stdout",
          "text": [
            "Poduct 1 - 100\n"
          ]
        }
      ]
    },
    {
      "cell_type": "code",
      "source": [
        "### 16. Create a class Animal with an abstract method sound(). Create two derived classes Cow and Sheep that\n",
        "###implement the sound() method.\n",
        "\n",
        "from abc import ABC,abstractmethod\n",
        "\n",
        "class Animal:\n",
        "\n",
        "  @abstractmethod\n",
        "  def sound(self):\n",
        "    pass\n",
        "\n",
        "class Cow(Animal):\n",
        "  def sound(self):\n",
        "    print(\"Mooh!\")\n",
        "\n",
        "class Sheep(Animal):\n",
        "  def sound(self):\n",
        "    print(\"Ba!\")\n",
        "\n",
        "c= Cow()\n",
        "c.sound()\n",
        "\n",
        "s= Sheep()\n",
        "s.sound()"
      ],
      "metadata": {
        "colab": {
          "base_uri": "https://localhost:8080/"
        },
        "id": "q3eIpTw6JoBk",
        "outputId": "b0f2bd3d-c8d3-4c2c-aa74-af0729207716"
      },
      "execution_count": 88,
      "outputs": [
        {
          "output_type": "stream",
          "name": "stdout",
          "text": [
            "Mooh!\n",
            "Ba!\n"
          ]
        }
      ]
    },
    {
      "cell_type": "code",
      "source": [
        "###17. Create a class Book with attributes title, author, and year_published. Add a method get_book_info() that\n",
        "###returns a formatted string with the book's details.\n",
        "\n",
        "class Book:\n",
        "  def __init__(self,title,author,year_published):\n",
        "    self.title=title\n",
        "    self.author=author\n",
        "    self.year_published=year_published\n",
        "\n",
        "  def get_book_info(self):\n",
        "    return f\"Title:{self.title} Author:{self.author} Published year:{self.year_published}\"\n",
        "\n",
        "b = Book(\"Python\",\"ABC\",2024)\n",
        "print(b.get_book_info())\n"
      ],
      "metadata": {
        "colab": {
          "base_uri": "https://localhost:8080/"
        },
        "id": "En2ogYl8KLR0",
        "outputId": "da890439-996a-4d67-8899-4a18c2e692b6"
      },
      "execution_count": 90,
      "outputs": [
        {
          "output_type": "stream",
          "name": "stdout",
          "text": [
            "Title:Python Author:ABC Published year:2024\n"
          ]
        }
      ]
    },
    {
      "cell_type": "code",
      "source": [
        "###18. Create a class House with attributes address and price. Create a derived class Mansion that adds an\n",
        "###attribute number_of_rooms.\n",
        "\n",
        "\n",
        "class House:\n",
        "  def __init__(self,address,price):\n",
        "      self.address=address\n",
        "      self.price=price\n",
        "\n",
        "class Mansion(House):\n",
        "  def __init__(self,address,price,no_rooms):\n",
        "    super().__init__(address,price)\n",
        "    self.no_rooms=no_rooms\n",
        "\n",
        "  def __str__(self):\n",
        "    return f\"{self.address} {self.price} {self.no_rooms}\"\n",
        "\n",
        "\n",
        "m = Mansion(\"NY\",1000,5)\n",
        "print(m)"
      ],
      "metadata": {
        "colab": {
          "base_uri": "https://localhost:8080/"
        },
        "id": "3I8YsvbJK4NK",
        "outputId": "10cf9410-53d6-4fe4-da04-4efe56153f98"
      },
      "execution_count": 94,
      "outputs": [
        {
          "output_type": "stream",
          "name": "stdout",
          "text": [
            "NY 1000 5\n"
          ]
        }
      ]
    }
  ]
}