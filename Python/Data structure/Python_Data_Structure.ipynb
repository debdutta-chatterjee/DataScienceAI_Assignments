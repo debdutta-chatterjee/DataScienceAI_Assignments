{
  "nbformat": 4,
  "nbformat_minor": 0,
  "metadata": {
    "colab": {
      "provenance": []
    },
    "kernelspec": {
      "name": "python3",
      "display_name": "Python 3"
    },
    "language_info": {
      "name": "python"
    }
  },
  "cells": [
    {
      "cell_type": "markdown",
      "source": [
        "#Data Types and Structures Questions\n",
        "\n",
        "##Theoritical\n",
        "\n",
        "###1. What are data structures, and why are they important\n",
        "\n",
        "Data structures are ways to store & access data in memory,  to optimize the performance of algorithms\n",
        "\n",
        "###2. Explain the difference between mutable and immutable data types with examples\n",
        "Mutable data types can be changed after creation. example list,Set,Dictionary. Elements can be added to these or removed from these.\n",
        "lst=[1,2,3]\n",
        "lst.append(4)\n",
        "print(lst)\n",
        "\n",
        "Immutable data types can not be changed after creation. example tuple, frozenset\n",
        "tuple = (1,2,3)\n",
        "tuple.append(4) => AttributeError: 'tuple' object has no attribute 'append'\n",
        "set = {1,2,3}\n",
        "frozen_set = frozenset(set)\n",
        "set.add(4)\n",
        "frozen_set.add(4) #AttributeError: 'frozenset' object has no attribute 'add'\n",
        "\n",
        "###3. What are the main differences between lists and tuples in Python\n",
        "Lists can be changed(add/modify) after creation , Tuples are immutable and can not be changed\n",
        "\n",
        "###4. Describe how dictionaries store data\n",
        "Dictionaries store data in key value pair\n",
        "dict ={\"name\":\"debdutta\"}\n",
        "print(dict)\n",
        "\n",
        "###5. Why might you use a set instead of a list in Python\n",
        "Set are used to store unique elements. list can have duplicates, sets cannot.\n",
        "Set supports set operation methods\n",
        "set ={1,2,3}\n",
        "set2 = {3,4,5}\n",
        "set & set2 # => {3}\n",
        "\n",
        "\n",
        "###6. What is a string in Python, and how is it different from a list\n",
        "String is a sequence of characters.Strings are immutable & supports operations like index() endswith() etc.\n",
        "\n",
        "List can store heterogeneous elements like numbers, characters. Lists are mutable.\n",
        "\n",
        "###7. How do tuples ensure data integrity in Python\n",
        "Tuples are immutable . Once defined tuples can not be changed. Thats how it ensures data integrity\n",
        "tuple = (1,2,3)\n",
        "tuple[0]=4 #TypeError: 'tuple' object does not support item assignment\n",
        "\n",
        "\n",
        "###8. What is a hash table, and how does it relate to dictionaries in Python\n",
        "Hashtables use hashing to store & retrieve data. Python dictionaries are implemented using hash tables.\n",
        "\n",
        "###9. Can lists contain different data types in Python\n",
        "Yes\n",
        "lst =[1,2.3,'hello',True]\n",
        "print(lst)\n",
        "\n",
        "###10. Explain why strings are immutable in Python\n",
        "Strings are made immutable to ensure performance and syncronization between threads. Also hashing is possible due toimmutable behavior.\n",
        "\n",
        "###11. What advantages do dictionaries offer over lists for certain tasks\n",
        "Dictionaries store objects in key value pairs. They are hashable. The keys in dictionary are unique.\n",
        "key =[\"name\",\"id\"]\n",
        "value =[\"ABC\",123]\n",
        "zipped = zip(key,value)\n",
        "for key,value in zipped:\n",
        "  print(f\"{key}=>{value}\")\n",
        "\n",
        "#Simple implementation\n",
        "dict ={\"name\":\"ABC\",\"id\":123}\n",
        "print(dict)\n",
        "\n",
        "###12. How do sets handle duplicate values in Python\n",
        "Set doesnot store duplicates.If duplicate element is inserted then the element gets discarded\n",
        "set ={1,2,3}\n",
        "set.add(1)\n",
        "set.add(2)\n",
        "set.add(3)\n",
        "print(set) #{1,2,3}\n",
        "\n",
        "\n",
        "###13. Describe a scenario where using a tuple would be preferable over a list\n",
        "Storing a list of constant values can be stored in tuples.\n",
        "\n",
        "###14. How does the “in” keyword work differently for lists and dictionaries\n",
        "List -in keyword checks if an element is present in the list.\n",
        "Dictionary - in keyword checks if a key is present inside the dictionary\n",
        "lst =[1,2,3]\n",
        "print(1 in lst)\n",
        "\n",
        "dict ={\"name\":\"ABC\",\"id\":1}\n",
        "print(\"name\" in dict)\n",
        "\n",
        "###15. Can you modify the elements of a tuple? Explain why or why not\n",
        "Tuples are immutable . Once declared the tuple cannot be changed.\n",
        "This ensures data integrity, thread safety and hashability\n",
        "\n",
        "###16. What is a nested dictionary, and give an example of its use case\n",
        "Nested dictionary is dictionary within dictionary.\n",
        "It can be used to store data of all students in a class.\n",
        "student ={\n",
        "            \"student1\":{\"name\":\"ABC1\",\"id\":1},\n",
        "            \"student2\":{\"name\":\"ABC2\",\"id\":2},\n",
        "            \"student3\":{\"name\":\"ABC3\",\"id\":3}\n",
        "       }\n",
        "print(student)\n",
        "\n",
        "###17. Describe the time complexity of accessing elements in a dictionary\n",
        "Dictionary uses hashing hence the average time complexity is O(1). But if there are multiple elements with the same hashing, then in worst case it can be O(n)\n",
        "\n",
        "###18. In what situations are lists preferred over dictionaries\n",
        "List can be preferred when the elements are not in key -value pair type and the scenario is required to store duplicate values.\n",
        "List also offers slicing, index based access and sorting.\n",
        "Example - Wish list of a person.\n",
        "\n",
        "###19. Why are dictionaries considered unordered, and how does that affect data retrieval\n",
        "Dictionaries maintain order since Python 3.7\n",
        "dictionaries maintain hashing that makes retrieval faster\n",
        "\n",
        "###20. Explain the difference between a list and a dictionary in terms of data retrieval.\n",
        "Lists provide option of index based access\n",
        "Dictionary elements can be retrieved using keys\n",
        "student ={\n",
        "            \"student1\":[1,2,3],\n",
        "            \"student2\":[4,5,6],\n",
        "            \"student3\":[7,8,9]\n",
        "       }\n",
        "print(student[\"student1\"][0]) # =>1"
      ],
      "metadata": {
        "id": "QbXdMCtME75t"
      }
    },
    {
      "cell_type": "markdown",
      "source": [
        "##Practical Questions"
      ],
      "metadata": {
        "id": "StiSjZTmSNNE"
      }
    },
    {
      "cell_type": "code",
      "source": [
        "#1. Write a code to create a string with your name and print it\n",
        "name =\"Debdutta\"\n",
        "print(f\"{name}\")\n",
        ""
      ],
      "metadata": {
        "colab": {
          "base_uri": "https://localhost:8080/"
        },
        "id": "iyGmO65tSOwU",
        "outputId": "fe9419c5-5754-460c-bae8-39745566d65e"
      },
      "execution_count": 18,
      "outputs": [
        {
          "output_type": "stream",
          "name": "stdout",
          "text": [
            "Debdutta\n"
          ]
        }
      ]
    },
    {
      "cell_type": "markdown",
      "source": [],
      "metadata": {
        "id": "M8wmFz9qSela"
      }
    },
    {
      "cell_type": "code",
      "source": [
        "#2. Write a code to find the length of the string \"Hello World\"\n",
        "str = \"Hello World\"\n",
        "print(len(str))\n",
        "\n",
        "length=0\n",
        "for char in str:\n",
        "  length+=1\n",
        "print(length)"
      ],
      "metadata": {
        "colab": {
          "base_uri": "https://localhost:8080/"
        },
        "id": "WWVgELf8S2Gy",
        "outputId": "4d18aa35-2de1-497b-da1e-b0ddd19c6ce8"
      },
      "execution_count": 23,
      "outputs": [
        {
          "output_type": "stream",
          "name": "stdout",
          "text": [
            "11\n",
            "11\n"
          ]
        }
      ]
    },
    {
      "cell_type": "code",
      "source": [
        "#3.  Write a code to slice the first 3 characters from the string \"Python Programming\"\n",
        "str =\"Python Programming\"\n",
        "print(str[:3])"
      ],
      "metadata": {
        "colab": {
          "base_uri": "https://localhost:8080/"
        },
        "id": "phKWhGfkTiFb",
        "outputId": "9734cfdd-1034-47fa-e649-e66e6c42b1ae"
      },
      "execution_count": 74,
      "outputs": [
        {
          "output_type": "stream",
          "name": "stdout",
          "text": [
            "Pyt\n"
          ]
        }
      ]
    },
    {
      "cell_type": "code",
      "source": [
        "#4.  Write a code to convert the string \"hello\" to uppercase\n",
        "str =\"hello\"\n",
        "print(str.upper())\n",
        "#print(str.swapcase())"
      ],
      "metadata": {
        "colab": {
          "base_uri": "https://localhost:8080/"
        },
        "id": "l0qkAc9YTtS7",
        "outputId": "5a92c0ef-3385-4d0e-98dd-496d0a15c0de"
      },
      "execution_count": 27,
      "outputs": [
        {
          "output_type": "stream",
          "name": "stdout",
          "text": [
            "HELLO\n"
          ]
        }
      ]
    },
    {
      "cell_type": "code",
      "source": [
        "#5.  Write a code to replace the word \"apple\" with \"orange\" in the string \"I like apple\"\n",
        "str = \"I like apple\"\n",
        "print(str.replace(\"apple\",\"orange\"))"
      ],
      "metadata": {
        "colab": {
          "base_uri": "https://localhost:8080/"
        },
        "id": "g_EtD4E6ULss",
        "outputId": "4c0c4760-aa48-486e-b7a9-2884cb8ddeed"
      },
      "execution_count": 28,
      "outputs": [
        {
          "output_type": "stream",
          "name": "stdout",
          "text": [
            "I like orange\n"
          ]
        }
      ]
    },
    {
      "cell_type": "code",
      "source": [
        "#6.  Write a code to create a list with numbers 1 to 5 and print it\n",
        "lst = list(range(1,5))\n",
        "print(lst)"
      ],
      "metadata": {
        "colab": {
          "base_uri": "https://localhost:8080/"
        },
        "id": "vi_p8sK8T-Rq",
        "outputId": "c6c9e9cb-8de1-4a28-ae4c-6bdfaafd6181"
      },
      "execution_count": 31,
      "outputs": [
        {
          "output_type": "stream",
          "name": "stdout",
          "text": [
            "[1, 2, 3, 4]\n"
          ]
        }
      ]
    },
    {
      "cell_type": "code",
      "source": [
        " #7. Write a code to append the number 10 to the list [1, 2, 3, 4]\n",
        "lst =[1, 2, 3, 4]\n",
        "lst.append(10)\n",
        "print(lst)\n",
        "\n",
        "#Alternate\n",
        "lst2 =[1, 2, 3, 4]\n",
        "lst2.extend([10])\n",
        "print(lst2)\n"
      ],
      "metadata": {
        "colab": {
          "base_uri": "https://localhost:8080/"
        },
        "id": "L4eRwf1oU1TW",
        "outputId": "8b108700-a7d1-4193-c7da-f08b0cecf793"
      },
      "execution_count": 34,
      "outputs": [
        {
          "output_type": "stream",
          "name": "stdout",
          "text": [
            "[1, 2, 3, 4, 10]\n",
            "[1, 2, 3, 4, 10]\n"
          ]
        }
      ]
    },
    {
      "cell_type": "code",
      "source": [
        "#8.  Write a code to remove the number 3 from the list [1, 2, 3, 4, 5]\n",
        "lst =[1, 2, 3, 4, 5]\n",
        "lst.remove(3)\n",
        "print(lst)\n",
        "\n",
        "#Alternate\n",
        "lst =[1, 2, 3, 4, 5]\n",
        "lst.pop(2)\n",
        "print(lst)"
      ],
      "metadata": {
        "colab": {
          "base_uri": "https://localhost:8080/"
        },
        "id": "1stPse96U-S3",
        "outputId": "29fb5b0f-fc83-49a3-f34c-4aac658f9ca9"
      },
      "execution_count": 36,
      "outputs": [
        {
          "output_type": "stream",
          "name": "stdout",
          "text": [
            "[1, 2, 4, 5]\n",
            "[1, 2, 4, 5]\n"
          ]
        }
      ]
    },
    {
      "cell_type": "code",
      "source": [
        "#9.  Write a code to access the second element in the list ['a', 'b', 'c', 'd']\n",
        "lst = ['a', 'b', 'c', 'd']\n",
        "print(lst[1])"
      ],
      "metadata": {
        "colab": {
          "base_uri": "https://localhost:8080/"
        },
        "id": "sK8G8eDFVkFM",
        "outputId": "02c5c45f-df2a-41a6-928e-43fe56533fe1"
      },
      "execution_count": 37,
      "outputs": [
        {
          "output_type": "stream",
          "name": "stdout",
          "text": [
            "b\n"
          ]
        }
      ]
    },
    {
      "cell_type": "code",
      "source": [
        " #10. Write a code to reverse the list [10, 20, 30, 40, 50]\n",
        "lst =[10, 20, 30, 40, 50]\n",
        "print(lst.reverse())\n",
        "\n",
        "#Alternate\n",
        "lst =[10, 20, 30, 40, 50]\n",
        "rev=[]\n",
        "index = len(lst)-1\n",
        "while(index>=0):\n",
        "  rev.append(lst[index])\n",
        "  index-=1\n",
        "print(rev)\n",
        "\n",
        "#Alternate\n",
        "lst =[10, 20, 30, 40, 50]\n",
        "rev=lst[::-1]\n",
        "print(rev)\n",
        "\n"
      ],
      "metadata": {
        "colab": {
          "base_uri": "https://localhost:8080/"
        },
        "id": "rkDfWe6ZV7k0",
        "outputId": "1e622b3d-6886-415a-da28-c99260b8cec8"
      },
      "execution_count": 42,
      "outputs": [
        {
          "output_type": "stream",
          "name": "stdout",
          "text": [
            "None\n",
            "[50, 40, 30, 20, 10]\n",
            "[50, 40, 30, 20, 10]\n"
          ]
        }
      ]
    },
    {
      "cell_type": "code",
      "source": [
        "#11  Write a code to create a tuple with the elements 10, 20, 30 and print it.\n",
        "my_tuple = (10, 20, 30)\n",
        "print(my_tuple)"
      ],
      "metadata": {
        "colab": {
          "base_uri": "https://localhost:8080/"
        },
        "id": "6HiCP1R7W5Z0",
        "outputId": "3fe3475b-cec2-4479-c770-59b2169fcaea"
      },
      "execution_count": 64,
      "outputs": [
        {
          "output_type": "stream",
          "name": "stdout",
          "text": [
            "(10, 20, 30)\n"
          ]
        }
      ]
    },
    {
      "cell_type": "code",
      "source": [
        "#12. Write a code to access the first element of the tuple ('apple', 'banana', 'cherry').\n",
        "my_tuple = ('apple', 'banana', 'cherry')\n",
        "print(my_tuple[0])"
      ],
      "metadata": {
        "colab": {
          "base_uri": "https://localhost:8080/"
        },
        "id": "0N5rA8R7W_4D",
        "outputId": "9bb1d0d5-81b7-435c-d3da-ac8d096a8ff9"
      },
      "execution_count": 65,
      "outputs": [
        {
          "output_type": "stream",
          "name": "stdout",
          "text": [
            "apple\n"
          ]
        }
      ]
    },
    {
      "cell_type": "code",
      "source": [
        "#13. Write a code to count how many times the number 2 appears in the tuple (1, 2, 3, 2, 4, 2).\n",
        "my_tuple =(1, 2, 3, 2, 4, 2)\n",
        "print(my_tuple.count(2))"
      ],
      "metadata": {
        "colab": {
          "base_uri": "https://localhost:8080/"
        },
        "id": "UUsALft8XTeT",
        "outputId": "b7975c5b-f1f3-40b6-862b-2c3828fb40bc"
      },
      "execution_count": 66,
      "outputs": [
        {
          "output_type": "stream",
          "name": "stdout",
          "text": [
            "3\n"
          ]
        }
      ]
    },
    {
      "cell_type": "code",
      "source": [
        "#14. Write a code to find the index of the element \"cat\" in the tuple ('dog', 'cat', 'rabbit').\n",
        "my_tuple =('dog', 'cat', 'rabbit')\n",
        "print(my_tuple.index(\"cat\"))"
      ],
      "metadata": {
        "colab": {
          "base_uri": "https://localhost:8080/"
        },
        "id": "gq98S1eoXmcz",
        "outputId": "8b2d20c2-82df-4b6f-c5e7-bc1423782883"
      },
      "execution_count": 67,
      "outputs": [
        {
          "output_type": "stream",
          "name": "stdout",
          "text": [
            "1\n"
          ]
        }
      ]
    },
    {
      "cell_type": "code",
      "source": [
        "#15. Write a code to check if the element \"banana\" is in the tuple ('apple', 'orange', 'banana').\n",
        "my_tuple =('apple', 'orange', 'banana')\n",
        "print(\"banana\" in my_tuple)\n"
      ],
      "metadata": {
        "colab": {
          "base_uri": "https://localhost:8080/"
        },
        "id": "O5Se9J4hXwlc",
        "outputId": "4a904577-8591-45e2-ef5a-6fd0d1a04414"
      },
      "execution_count": 68,
      "outputs": [
        {
          "output_type": "stream",
          "name": "stdout",
          "text": [
            "True\n"
          ]
        }
      ]
    },
    {
      "cell_type": "code",
      "source": [
        "#16. Write a code to create a set with the elements  and print it.\n",
        "my_set = {1, 2, 3, 4, 5}\n",
        "print(my_set)"
      ],
      "metadata": {
        "colab": {
          "base_uri": "https://localhost:8080/"
        },
        "id": "HdcHjurvYSPE",
        "outputId": "bdfa7bba-6c3d-48fd-af4f-7f9d478e7a60"
      },
      "execution_count": 58,
      "outputs": [
        {
          "output_type": "stream",
          "name": "stdout",
          "text": [
            "{1, 2, 3, 4, 5}\n"
          ]
        }
      ]
    },
    {
      "cell_type": "code",
      "source": [
        "#17. Write a code to add the element 6 to the set {1, 2, 3, 4}.\n",
        "my_set ={1, 2, 3, 4}\n",
        "my_set.add(6)\n",
        "print(my_set)"
      ],
      "metadata": {
        "colab": {
          "base_uri": "https://localhost:8080/"
        },
        "id": "u2uTzFEGZSML",
        "outputId": "c1b5e4c5-89d3-408e-b569-07e414272d13"
      },
      "execution_count": 59,
      "outputs": [
        {
          "output_type": "stream",
          "name": "stdout",
          "text": [
            "{1, 2, 3, 4, 6}\n"
          ]
        }
      ]
    },
    {
      "cell_type": "code",
      "source": [
        "#18. Write a code to create a tuple with the elements 10, 20, 30 and print it.\n",
        "my_tuple = (10, 20, 30)\n",
        "print(my_tuple)\n"
      ],
      "metadata": {
        "colab": {
          "base_uri": "https://localhost:8080/"
        },
        "id": "9CfyXtlqZcnS",
        "outputId": "a6fb11b1-7258-4cea-ec62-8652678d9bf7"
      },
      "execution_count": 61,
      "outputs": [
        {
          "output_type": "stream",
          "name": "stdout",
          "text": [
            "(10, 20, 30)\n"
          ]
        }
      ]
    },
    {
      "cell_type": "code",
      "source": [
        "#19. Write a code to access the first element of the tuple ('apple', 'banana', 'cherry').\n",
        "my_tuple = ('apple', 'banana', 'cherry')\n",
        "print(my_tuple[0])"
      ],
      "metadata": {
        "colab": {
          "base_uri": "https://localhost:8080/"
        },
        "id": "nRZvgjH7Z3Qv",
        "outputId": "ebf96ae4-0fd2-4f9a-9109-46125a63421a"
      },
      "execution_count": 63,
      "outputs": [
        {
          "output_type": "stream",
          "name": "stdout",
          "text": [
            "apple\n"
          ]
        }
      ]
    },
    {
      "cell_type": "code",
      "source": [
        "#20. Write a code to count how many times the number 2 appears in the tuple (1, 2, 3, 2, 4, 2).\n",
        "my_tuple =(1, 2, 3, 2, 4, 2)\n",
        "print(my_tuple.count(2))"
      ],
      "metadata": {
        "colab": {
          "base_uri": "https://localhost:8080/"
        },
        "id": "oaR7T9lqaEL0",
        "outputId": "b21a6a5f-38ef-40e8-a983-9cea6a232ca2"
      },
      "execution_count": 69,
      "outputs": [
        {
          "output_type": "stream",
          "name": "stdout",
          "text": [
            "3\n"
          ]
        }
      ]
    },
    {
      "cell_type": "code",
      "source": [
        "#21. Write a code to find the index of the element \"cat\" in the tuple ('dog', 'cat', 'rabbit').\n",
        "my_tuple =('dog', 'cat', 'rabbit')\n",
        "print(my_tuple.index(\"cat\"))"
      ],
      "metadata": {
        "colab": {
          "base_uri": "https://localhost:8080/"
        },
        "id": "-W_XnowRaWH8",
        "outputId": "86aae826-f7d9-47bc-e29b-42db8cc5c92d"
      },
      "execution_count": 70,
      "outputs": [
        {
          "output_type": "stream",
          "name": "stdout",
          "text": [
            "1\n"
          ]
        }
      ]
    },
    {
      "cell_type": "code",
      "source": [
        "#22. Write a code to check if the element \"banana\" is in the tuple ('apple', 'orange', 'banana').\n",
        "my_tuple =('apple', 'orange', 'banana')\n",
        "print(\"banana\" in my_tuple)"
      ],
      "metadata": {
        "colab": {
          "base_uri": "https://localhost:8080/"
        },
        "id": "rQCUOvqYafED",
        "outputId": "333bfd1a-dbce-4727-f983-43ddd287dcaa"
      },
      "execution_count": 71,
      "outputs": [
        {
          "output_type": "stream",
          "name": "stdout",
          "text": [
            "True\n"
          ]
        }
      ]
    },
    {
      "cell_type": "code",
      "source": [
        "#23. Write a code to create a set with the elements 1, 2, 3, 4, 5 and print it.\n",
        "my_set = {1, 2, 3, 4, 5}\n",
        "print(my_set)\n"
      ],
      "metadata": {
        "colab": {
          "base_uri": "https://localhost:8080/"
        },
        "id": "y8DVf-M9aohq",
        "outputId": "efbaa37f-8c3e-4f64-c099-e679a50408d4"
      },
      "execution_count": 72,
      "outputs": [
        {
          "output_type": "stream",
          "name": "stdout",
          "text": [
            "{1, 2, 3, 4, 5}\n"
          ]
        }
      ]
    },
    {
      "cell_type": "code",
      "source": [
        "#24. Write a code to add the element 6 to the set {1, 2, 3, 4}.\n",
        "my_set ={1, 2, 3, 4}\n",
        "my_set.add(6)\n",
        "print(my_set)"
      ],
      "metadata": {
        "colab": {
          "base_uri": "https://localhost:8080/"
        },
        "id": "H057TfsxauXa",
        "outputId": "dee1ab7a-3234-4bc2-e9a0-ec85b45827d1"
      },
      "execution_count": 73,
      "outputs": [
        {
          "output_type": "stream",
          "name": "stdout",
          "text": [
            "{1, 2, 3, 4, 6}\n"
          ]
        }
      ]
    }
  ]
}