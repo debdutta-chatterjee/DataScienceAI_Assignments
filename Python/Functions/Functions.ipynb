{
  "nbformat": 4,
  "nbformat_minor": 0,
  "metadata": {
    "colab": {
      "provenance": []
    },
    "kernelspec": {
      "name": "python3",
      "display_name": "Python 3"
    },
    "language_info": {
      "name": "python"
    }
  },
  "cells": [
    {
      "cell_type": "markdown",
      "source": [
        "#Functions Assignment"
      ],
      "metadata": {
        "id": "uvmAwsdYcjAK"
      }
    },
    {
      "cell_type": "markdown",
      "source": [
        "##Theory Questions:"
      ],
      "metadata": {
        "id": "WBpW15uIct7L"
      }
    },
    {
      "cell_type": "markdown",
      "source": [
        "###1. What is the difference between a function and a method in Python?\n",
        "\n",
        "Function is a code block defined using def keyword.Method is a function defined inside a class or attached to an object.\n",
        "\n",
        "```\n",
        "def my_function(num):\n",
        "  square = num*num\n",
        "  return square\n",
        "print(my_function(5))\n",
        "\n",
        "class DemoFunction:\n",
        "  def my_function(self,num):\n",
        "    square = num*num\n",
        "    return square\n",
        "demo = DemoFunction()\n",
        "print(demo.my_function(5))\n",
        "```\n",
        "\n",
        "###2. Explain the concept of function arguments and parameters in Python.\n",
        "\n",
        "Parameters are variables mentioned in the function definition.\n",
        "```\n",
        "def my_function(num): #num is a parameter of the function\n",
        "  square = num*num\n",
        "  return square\n",
        "```\n",
        "Arguments are the actual values passed to the function during function call\n",
        "\n",
        "`print(my_function(5)) #5 is the argument`\n",
        "\n",
        "###3. What are the different ways to define and call a function in Python?\n",
        "\n",
        "There are majorly 2 ways to define a function\n",
        "1. Regular way using def keyword\n",
        "```\n",
        "def my_function(num):\n",
        "  square = num*num\n",
        "  return square\n",
        "print(my_function(5))\n",
        "```\n",
        "\n",
        "2. Lambda function, using lambda keyword\n",
        "```\n",
        "sum = lambda x,y: x+y\n",
        "print(sum(1,2)\n",
        "```\n",
        "\n",
        "###4. What is the purpose of the `return` statement in a Python function?\n",
        "\n",
        "Return keyword is used to return the control back to the calling code. It can be used to return one or multiple values\n",
        "\n",
        "```\n",
        "def pow(a,b):\n",
        "    return a**b #returns single value\n",
        "print(pow(2,3))\n",
        "\n",
        "def name(a):\n",
        "    return a.split(' ')[0],a.split(' ')[1] #returns multiple values\n",
        "print(name(\"Debdutta Chatterjee\"))\n",
        "```\n",
        "\n",
        "### 5. What are iterators in Python and how do they differ from iterables?\n",
        "\n",
        "Iterators return one element at a time , when next function is called.\n",
        "Iterables return elements that can be accessed inside a loop.\n",
        "List,tuples,strings are examples.\n",
        "Iterables can be converted to iterator using iter() function\n",
        "\n",
        "```\n",
        "my_list =[1,2,3,4]\n",
        "#print list - iterable\n",
        "for element in my_list:\n",
        "  print(element)\n",
        "\n",
        "my_iterable = iter(my_list)\n",
        "print(next(my_iterable))\n",
        "print(next(my_iterable))\n",
        "print(next(my_iterable))\n",
        "print(next(my_iterable))\n",
        "print(next(my_iterable)) #StopIteration error\n",
        "```\n",
        "\n",
        "###6. Explain the concept of generators in Python and how they are defined.\n",
        "Generators are iterables creates items only when called using next method, without saving the entire sequence of data in the memory.\n",
        "Generator functions can be created using yield keyword.yield doesnot terminate the function unlike return. it suspends the functio till next call\n",
        "\n",
        "```\n",
        "def fibonacci(num):\n",
        "  a,b=0,1\n",
        "  while num>=1:\n",
        "    yield a+b\n",
        "    a,b=b,a+b\n",
        "    num-=1\n",
        "  yield num\n",
        "\n",
        "fib =fibonacci(10)\n",
        "for i in range(1,10):\n",
        "  print(next(fib),end=\" \")\n",
        "  #Output 1 2 3 5 8 13 21 34 55\n",
        "```\n",
        "###7. What are the advantages of using generators over regular functions?\n",
        "\n",
        "Regular function creates the entire output at once, that consumes all the required memory.\n",
        "Generators creates items one by one.It maintains the state of exectution for the iterations.\n",
        "\n",
        "### 8. What is a lambda function in Python and when is it typically used?\n",
        "\n",
        "Lambda function is a single line statement defined using the keyword lambda. It creates a code block that can be reused multiple times in the code. It is used for small operations without creating a named method using def keyword.\n",
        "\n",
        "```\n",
        "from functools import reduce\n",
        "my_list = [1,2,3,4,5,6]\n",
        "my_list2 = [1,2,3,4,5,6,7]\n",
        "multi = lambda x,y: x*y\n",
        "\n",
        "#use lambda\n",
        "multiply = reduce (multi,my_list)\n",
        "print(multiply)\n",
        "\n",
        "#Use lambda again\n",
        "multiply = reduce (multi,my_list2)\n",
        "print(multiply)\n",
        "```\n",
        "\n",
        "###9. Explain the purpose and usage of the `map()` function in Python.\n",
        "map() is used to transform each item in an iterable(like list) using a provided function logic.\n",
        "\n",
        "```\n",
        "my_list = [1,2,3,4,5,6]\n",
        "square = lambda x: x**2\n",
        "\n",
        "square_list = map(square,my_list)\n",
        "print(list(square_list)) #Prints list of square of all elements in the list\n",
        "```\n",
        "\n",
        "###10. What is the difference between `map()`, `reduce()`, and `filter()` functions in Python?\n",
        " map() - Transforms all elements as per the provided function logic\n",
        "```\n",
        "my_list = [1,2,3,4,5,6]\n",
        "square = lambda x: x**2\n",
        "\n",
        "square_list = map(square,my_list)\n",
        "print(list(square_list)) #Prints list of square of all elements in the list\n",
        "```\n",
        " reduce() - Reduces all the elemnts into a specific value based on the given function logic (example-sum,product)\n",
        "\n",
        "```\n",
        "from functools import reduce\n",
        "my_list = [1,2,3,4,5,6]\n",
        "multi = lambda x,y: x*y\n",
        "\n",
        "#use lambda\n",
        "multiply = reduce (multi,my_list)\n",
        "print(multiply)\n",
        "```\n",
        "\n",
        " filter() - Filters some or all the elements of the given group of elements based on given function logic\n",
        "```\n",
        "my_list = [1,2,3,4,5,6]\n",
        "even = lambda x: x%2==0\n",
        "\n",
        "even_list = filter(even,my_list)\n",
        "print(list(even_list))\n",
        "```\n",
        "\n",
        "\n",
        "###11. Using pen & Paper write the internal mechanism for sum operation using  reduce function on this given list:[47,11,42,13];\n",
        "(Attach paper image for this answer) in doc or colab notebook\n",
        "```\n",
        "from functools import reduce\n",
        "my_list = [47,11,42,13]\n",
        "sum = lambda x,y: x+y\n",
        "\n",
        "sum_list = reduce(sum,my_list)\n",
        "print(sum_list)\n",
        "```\n",
        "IMAGE Url ->\n",
        "url=\"https://github.com/debdutta-chatterjee/DataScienceAI_Assignments/blob/7b92ca887e18e51cb1cc200480a7ec94a256bb3e/Python/Functions/img.jpeg\"\n"
      ],
      "metadata": {
        "id": "PH0Afxy7crpz"
      }
    },
    {
      "cell_type": "markdown",
      "source": [
        "##Practical Questions:"
      ],
      "metadata": {
        "id": "7xQs2HOOwRa_"
      }
    },
    {
      "cell_type": "code",
      "source": [
        "###1. Write a Python function that takes a list of numbers as input and returns the sum of all even numbers in the list.\n",
        "\n",
        "def sum_even(list):\n",
        "  sum=0\n",
        "  for item in list:\n",
        "    if item%2==0:\n",
        "      sum+=item\n",
        "  return sum\n",
        "\n",
        "my_list=[1,2,3,4,5,6,7,8,9,10]\n",
        "print(sum_even(my_list))\n"
      ],
      "metadata": {
        "colab": {
          "base_uri": "https://localhost:8080/"
        },
        "id": "5Gu4TNtdwWjQ",
        "outputId": "491b9747-a190-4672-c588-cf6571d4e90d"
      },
      "execution_count": 35,
      "outputs": [
        {
          "output_type": "stream",
          "name": "stdout",
          "text": [
            "30\n"
          ]
        }
      ]
    },
    {
      "cell_type": "code",
      "source": [
        " ###2. Create a Python function that accepts a string and returns the reverse of that string.\n",
        "\n",
        "def reverse(str):\n",
        "  rev=\"\"\n",
        "  index =len(str)-1\n",
        "  while(index>=0):\n",
        "    rev=rev+str[index]\n",
        "    index-=1\n",
        "  return rev\n",
        "print(reverse(\"Hello World!\"))\n"
      ],
      "metadata": {
        "colab": {
          "base_uri": "https://localhost:8080/"
        },
        "id": "pnAKJjZH0e14",
        "outputId": "6927c2fd-8dc6-4051-a0fe-4b9d3e083acd"
      },
      "execution_count": 41,
      "outputs": [
        {
          "output_type": "stream",
          "name": "stdout",
          "text": [
            "!dlroW olleH\n"
          ]
        }
      ]
    },
    {
      "cell_type": "code",
      "source": [
        "###3. Implement a Python function that takes a list of integers and returns a new list containing the squares of each number.\n",
        "\n",
        "sum = lambda x:x**2\n",
        "\n",
        "def square_num(lst):\n",
        "  square = map(sum,lst)\n",
        "  return list(square)\n",
        "\n",
        "my_lst= [1,2,3,4,5,6,7,8]\n",
        "print(square_num(my_lst))"
      ],
      "metadata": {
        "colab": {
          "base_uri": "https://localhost:8080/"
        },
        "id": "EP0lJESf1Oyg",
        "outputId": "a1d2de49-6e65-418a-d6ab-33872557dfe7"
      },
      "execution_count": 42,
      "outputs": [
        {
          "output_type": "stream",
          "name": "stdout",
          "text": [
            "[1, 4, 9, 16, 25, 36, 49, 64]\n"
          ]
        }
      ]
    },
    {
      "cell_type": "code",
      "source": [
        "###4. Write a Python function that checks if a given number is prime or not from 1 to 200.\n",
        "\n",
        "def isPrime(num):\n",
        "  for i in range(2,int(num**(0.5))+1):\n",
        "    if num%i==0:\n",
        "      return False\n",
        "  return True\n",
        "\n",
        "def check_prime(min=1,max=200):\n",
        "  for num in range(min,max+1):\n",
        "    print(f\"{num} is prime? {isPrime(num)}\")\n",
        "\n",
        "check_prime()"
      ],
      "metadata": {
        "colab": {
          "base_uri": "https://localhost:8080/"
        },
        "collapsed": true,
        "id": "cWIQtGAl1yIp",
        "outputId": "211d8b1b-a039-4a5f-b60f-d12a7856028c"
      },
      "execution_count": 53,
      "outputs": [
        {
          "output_type": "stream",
          "name": "stdout",
          "text": [
            "1 is prime? True\n",
            "2 is prime? True\n",
            "3 is prime? True\n",
            "4 is prime? False\n",
            "5 is prime? True\n",
            "6 is prime? False\n",
            "7 is prime? True\n",
            "8 is prime? False\n",
            "9 is prime? False\n",
            "10 is prime? False\n",
            "11 is prime? True\n",
            "12 is prime? False\n",
            "13 is prime? True\n",
            "14 is prime? False\n",
            "15 is prime? False\n",
            "16 is prime? False\n",
            "17 is prime? True\n",
            "18 is prime? False\n",
            "19 is prime? True\n",
            "20 is prime? False\n",
            "21 is prime? False\n",
            "22 is prime? False\n",
            "23 is prime? True\n",
            "24 is prime? False\n",
            "25 is prime? False\n",
            "26 is prime? False\n",
            "27 is prime? False\n",
            "28 is prime? False\n",
            "29 is prime? True\n",
            "30 is prime? False\n",
            "31 is prime? True\n",
            "32 is prime? False\n",
            "33 is prime? False\n",
            "34 is prime? False\n",
            "35 is prime? False\n",
            "36 is prime? False\n",
            "37 is prime? True\n",
            "38 is prime? False\n",
            "39 is prime? False\n",
            "40 is prime? False\n",
            "41 is prime? True\n",
            "42 is prime? False\n",
            "43 is prime? True\n",
            "44 is prime? False\n",
            "45 is prime? False\n",
            "46 is prime? False\n",
            "47 is prime? True\n",
            "48 is prime? False\n",
            "49 is prime? False\n",
            "50 is prime? False\n",
            "51 is prime? False\n",
            "52 is prime? False\n",
            "53 is prime? True\n",
            "54 is prime? False\n",
            "55 is prime? False\n",
            "56 is prime? False\n",
            "57 is prime? False\n",
            "58 is prime? False\n",
            "59 is prime? True\n",
            "60 is prime? False\n",
            "61 is prime? True\n",
            "62 is prime? False\n",
            "63 is prime? False\n",
            "64 is prime? False\n",
            "65 is prime? False\n",
            "66 is prime? False\n",
            "67 is prime? True\n",
            "68 is prime? False\n",
            "69 is prime? False\n",
            "70 is prime? False\n",
            "71 is prime? True\n",
            "72 is prime? False\n",
            "73 is prime? True\n",
            "74 is prime? False\n",
            "75 is prime? False\n",
            "76 is prime? False\n",
            "77 is prime? False\n",
            "78 is prime? False\n",
            "79 is prime? True\n",
            "80 is prime? False\n",
            "81 is prime? False\n",
            "82 is prime? False\n",
            "83 is prime? True\n",
            "84 is prime? False\n",
            "85 is prime? False\n",
            "86 is prime? False\n",
            "87 is prime? False\n",
            "88 is prime? False\n",
            "89 is prime? True\n",
            "90 is prime? False\n",
            "91 is prime? False\n",
            "92 is prime? False\n",
            "93 is prime? False\n",
            "94 is prime? False\n",
            "95 is prime? False\n",
            "96 is prime? False\n",
            "97 is prime? True\n",
            "98 is prime? False\n",
            "99 is prime? False\n",
            "100 is prime? False\n",
            "101 is prime? True\n",
            "102 is prime? False\n",
            "103 is prime? True\n",
            "104 is prime? False\n",
            "105 is prime? False\n",
            "106 is prime? False\n",
            "107 is prime? True\n",
            "108 is prime? False\n",
            "109 is prime? True\n",
            "110 is prime? False\n",
            "111 is prime? False\n",
            "112 is prime? False\n",
            "113 is prime? True\n",
            "114 is prime? False\n",
            "115 is prime? False\n",
            "116 is prime? False\n",
            "117 is prime? False\n",
            "118 is prime? False\n",
            "119 is prime? False\n",
            "120 is prime? False\n",
            "121 is prime? False\n",
            "122 is prime? False\n",
            "123 is prime? False\n",
            "124 is prime? False\n",
            "125 is prime? False\n",
            "126 is prime? False\n",
            "127 is prime? True\n",
            "128 is prime? False\n",
            "129 is prime? False\n",
            "130 is prime? False\n",
            "131 is prime? True\n",
            "132 is prime? False\n",
            "133 is prime? False\n",
            "134 is prime? False\n",
            "135 is prime? False\n",
            "136 is prime? False\n",
            "137 is prime? True\n",
            "138 is prime? False\n",
            "139 is prime? True\n",
            "140 is prime? False\n",
            "141 is prime? False\n",
            "142 is prime? False\n",
            "143 is prime? False\n",
            "144 is prime? False\n",
            "145 is prime? False\n",
            "146 is prime? False\n",
            "147 is prime? False\n",
            "148 is prime? False\n",
            "149 is prime? True\n",
            "150 is prime? False\n",
            "151 is prime? True\n",
            "152 is prime? False\n",
            "153 is prime? False\n",
            "154 is prime? False\n",
            "155 is prime? False\n",
            "156 is prime? False\n",
            "157 is prime? True\n",
            "158 is prime? False\n",
            "159 is prime? False\n",
            "160 is prime? False\n",
            "161 is prime? False\n",
            "162 is prime? False\n",
            "163 is prime? True\n",
            "164 is prime? False\n",
            "165 is prime? False\n",
            "166 is prime? False\n",
            "167 is prime? True\n",
            "168 is prime? False\n",
            "169 is prime? False\n",
            "170 is prime? False\n",
            "171 is prime? False\n",
            "172 is prime? False\n",
            "173 is prime? True\n",
            "174 is prime? False\n",
            "175 is prime? False\n",
            "176 is prime? False\n",
            "177 is prime? False\n",
            "178 is prime? False\n",
            "179 is prime? True\n",
            "180 is prime? False\n",
            "181 is prime? True\n",
            "182 is prime? False\n",
            "183 is prime? False\n",
            "184 is prime? False\n",
            "185 is prime? False\n",
            "186 is prime? False\n",
            "187 is prime? False\n",
            "188 is prime? False\n",
            "189 is prime? False\n",
            "190 is prime? False\n",
            "191 is prime? True\n",
            "192 is prime? False\n",
            "193 is prime? True\n",
            "194 is prime? False\n",
            "195 is prime? False\n",
            "196 is prime? False\n",
            "197 is prime? True\n",
            "198 is prime? False\n",
            "199 is prime? True\n",
            "200 is prime? False\n"
          ]
        }
      ]
    },
    {
      "cell_type": "code",
      "source": [
        "###5. Create an iterator class in Python that generates the Fibonacci sequence up to a specified number of terms.\n",
        "\n",
        "def fibonacci(num):\n",
        "  a,b=0,1\n",
        "  while num>0:\n",
        "    yield a+b\n",
        "    a,b=b,a+b\n",
        "    num+=1\n",
        "\n",
        "given_sequence =10\n",
        "fib = fibonacci(given_sequence)\n",
        "for i in range(given_sequence):\n",
        "  print(next(fib),end=\" \")"
      ],
      "metadata": {
        "colab": {
          "base_uri": "https://localhost:8080/"
        },
        "id": "i3n_kPmY5iPI",
        "outputId": "0914e974-3258-4106-8e2d-a996e6e496a1"
      },
      "execution_count": 62,
      "outputs": [
        {
          "output_type": "stream",
          "name": "stdout",
          "text": [
            "1 2 3 5 8 13 21 34 55 89 "
          ]
        }
      ]
    },
    {
      "cell_type": "code",
      "source": [
        "##6. Write a generator function in Python that yields the powers of 2 up to a given exponent.\n",
        "\n",
        "def two_power(exponent):\n",
        "  count=0\n",
        "  while(count<=exponent):\n",
        "    num = 2**count\n",
        "    yield num\n",
        "    count+=1\n",
        "\n",
        "\n",
        "\n",
        "exponent=10\n",
        "gen =two_power(exponent)\n",
        "for i in gen:\n",
        "  print(i)\n",
        "\n"
      ],
      "metadata": {
        "colab": {
          "base_uri": "https://localhost:8080/"
        },
        "id": "5fT6NoVK71Qx",
        "outputId": "7b545f16-7e86-4cb6-a367-bd3cd41e3f78"
      },
      "execution_count": 68,
      "outputs": [
        {
          "output_type": "stream",
          "name": "stdout",
          "text": [
            "1\n",
            "2\n",
            "4\n",
            "8\n",
            "16\n",
            "32\n",
            "64\n",
            "128\n",
            "256\n",
            "512\n",
            "1024\n"
          ]
        }
      ]
    },
    {
      "cell_type": "code",
      "source": [
        "###7. Implement a generator function that reads a file line by line and yields each line as a string.\n",
        "\n",
        "def read_file(path):\n",
        "  with open(path,'r') as file:\n",
        "    for line in file:\n",
        "      yield line\n",
        "\n",
        "for line in read_file('/content/sample_data/abc.txt'):\n",
        "  print(line)\n"
      ],
      "metadata": {
        "colab": {
          "base_uri": "https://localhost:8080/"
        },
        "id": "KDutBQFK9NwQ",
        "outputId": "4acab025-251e-4951-a779-a819a8996140"
      },
      "execution_count": 69,
      "outputs": [
        {
          "output_type": "stream",
          "name": "stdout",
          "text": [
            "a\n",
            "\n",
            "b\n",
            "\n",
            "c\n",
            "\n",
            "d\n",
            "\n",
            "e\n",
            "\n",
            "f\n"
          ]
        }
      ]
    },
    {
      "cell_type": "code",
      "source": [
        "###8. Use a lambda function in Python to sort a list of tuples based on the second element of each tuple.\n",
        "\n",
        "my_tuple_list = [(1, 99,0,0,0), (1, 98,0,0,0), (1, 97,0,0,0)]\n",
        "print(my_tuple_list)\n",
        "sort = lambda x: x[1]\n",
        "\n",
        "my_tuple_list.sort(key=sort)\n",
        "print(my_tuple_list)\n"
      ],
      "metadata": {
        "colab": {
          "base_uri": "https://localhost:8080/"
        },
        "id": "lbSoQ8IL-zAP",
        "outputId": "9641be7e-2e39-4e0a-b023-fa6eba222ed2"
      },
      "execution_count": 70,
      "outputs": [
        {
          "output_type": "stream",
          "name": "stdout",
          "text": [
            "[(1, 99, 0, 0, 0), (1, 98, 0, 0, 0), (1, 97, 0, 0, 0)]\n",
            "[(1, 97, 0, 0, 0), (1, 98, 0, 0, 0), (1, 99, 0, 0, 0)]\n"
          ]
        }
      ]
    },
    {
      "cell_type": "code",
      "source": [
        "###9. Write a Python program that uses `map()` to convert a list of temperatures from Celsius to Fahrenheit.\n",
        "\n",
        "fahrenheit = lambda c: (c * 9/5) + 32\n",
        "\n",
        "temparature_c =[100,90,80,70,50]\n",
        "\n",
        "temparature_f = list(map(fahrenheit,temparature_c))\n",
        "print(temparature_f)\n"
      ],
      "metadata": {
        "colab": {
          "base_uri": "https://localhost:8080/"
        },
        "id": "ny2l9kXeAWgX",
        "outputId": "3aba4d50-1f1e-4db4-d95e-44cc48c3d9a2"
      },
      "execution_count": 72,
      "outputs": [
        {
          "output_type": "stream",
          "name": "stdout",
          "text": [
            "[212.0, 194.0, 176.0, 158.0, 122.0]\n"
          ]
        }
      ]
    },
    {
      "cell_type": "code",
      "source": [
        "###10. Create a Python program that uses `filter()` to remove all the vowels from a given string.\n",
        "\n",
        "vowels ='aeiouAEIOU'\n",
        "\n",
        "str =\"Hello World!\"\n",
        "filter_vowel = lambda s: s not in vowels\n",
        "\n",
        "str_no_vowel = filter(filter_vowel,str)\n",
        "print(''.join(str_no_vowel))\n"
      ],
      "metadata": {
        "colab": {
          "base_uri": "https://localhost:8080/"
        },
        "id": "dCCsMDzQBPDn",
        "outputId": "77515937-07a3-45bc-b8b4-81f046f84d1b"
      },
      "execution_count": 77,
      "outputs": [
        {
          "output_type": "stream",
          "name": "stdout",
          "text": [
            "Hll Wrld!\n"
          ]
        }
      ]
    },
    {
      "cell_type": "code",
      "source": [
        "###11) Imagine an accounting routine used in a book shop. It works on a list with sublists, which look like this:\n",
        "\"\"\" Write a Python program,\n",
        "which returns a list with 2-tuples.\n",
        "Each tuple consists of the order number and the\n",
        "product of the price per item and the quantity.\n",
        "The product should be increased by 10,- € if the value of the\n",
        "order is smaller than 100,00 €.\n",
        " Write a Python program using lambda and map\n",
        "\"\"\"\n",
        "\n",
        "orders =[\n",
        "\n",
        "    [1, \"Python\", 4, 40.95],\n",
        "    [2, \"C\", 5, 56.80],\n",
        "    [3, \"Ruby\", 3, 32.95],\n",
        "    [4, \"Java\", 3, 24.99]\n",
        "]\n",
        "\n",
        "order = lambda o: (o[0], round(o[2] * o[3],2) if o[2] * o[3] >= 100 else round(o[2] * o[3],2) + 10)\n",
        "processed_orders = list(map(order, orders))\n",
        "# Print the processed orders\n",
        "print(processed_orders)"
      ],
      "metadata": {
        "colab": {
          "base_uri": "https://localhost:8080/"
        },
        "id": "uRdgxAB3CMau",
        "outputId": "2a4d4134-836b-4196-d568-79ecf910f7c8"
      },
      "execution_count": 81,
      "outputs": [
        {
          "output_type": "stream",
          "name": "stdout",
          "text": [
            "[(1, 163.8), (2, 284.0), (3, 108.85), (4, 84.97)]\n"
          ]
        }
      ]
    },
    {
      "cell_type": "code",
      "source": [],
      "metadata": {
        "id": "iHHLwWySBsQH"
      },
      "execution_count": null,
      "outputs": []
    }
  ]
}