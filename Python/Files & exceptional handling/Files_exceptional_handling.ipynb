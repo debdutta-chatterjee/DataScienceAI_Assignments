{
  "nbformat": 4,
  "nbformat_minor": 0,
  "metadata": {
    "colab": {
      "provenance": []
    },
    "kernelspec": {
      "name": "python3",
      "display_name": "Python 3"
    },
    "language_info": {
      "name": "python"
    }
  },
  "cells": [
    {
      "cell_type": "markdown",
      "source": [
        "#Files, exceptional handling, logging and memory management Questions"
      ],
      "metadata": {
        "id": "8fqfmTh1PSLB"
      }
    },
    {
      "cell_type": "markdown",
      "source": [
        "##Theoritical Questions\n"
      ],
      "metadata": {
        "id": "137mOOumP7qh"
      }
    },
    {
      "cell_type": "markdown",
      "source": [
        "###1. What is the difference between interpreted and compiled languages?\n",
        "\n",
        " Compiled language - Compiler transforms the code into machine readable byte code before execution. There is a separate stage called compiler stage. Compiler additionally can check errors before creating byte code & also can optimize the code.\n",
        "\n",
        " Interpreted language - Code gets executed directly by the interpreter line by line without any need to compile it\n",
        "\n",
        "###2. What is exception handling in Python?\n",
        "\n",
        " Exception handling is about tackling an error gracefully and let the program to continue or stop with proper message and other required activites. Python uses try, finally, else & except blocks to handle exception\n",
        "\n",
        "###3.  What is the purpose of the finally block in exception handling?\n",
        "\n",
        " The code inside finally block is executed always, irresepective of exceptions. This is used to free up resources or perform common tasks.\n",
        "\n",
        "\n",
        "###4.  What is logging in Python?\n",
        "\n",
        " Logging is a mechanism to keep the important execution information saved inside a separate file, which can be used to debug/monitor the application easily.\n",
        " there are different logging levels like DEBUG,INFO,WARNING,ERROR & CRITICAL\n",
        "\n",
        "\n",
        "###5. What is the significance of the __del__ method in Python?\n",
        "\n",
        " _ _del _ _ is a dunder method that gets called during pobject destruction. It is called destructor. When there are no reference of object present then the object gets garbage collected. This is used to write cleanup codes.\n",
        "\n",
        "```\n",
        "class MyClass:\n",
        "  def __del__(self):\n",
        "    print(\"Object garbage collected\")\n",
        "\n",
        "o1 = MyClass()\n",
        "del o1 #Object garbage collected\n",
        "```\n",
        "\n",
        "###6.  What is the difference between import and from ... import in Python?\n",
        "\n",
        "import - imports the entire module, functions,classes inside the module can be accessed after the import\n",
        "```\n",
        "import math\n",
        "math.sqrt(100)\n",
        "\n",
        "```\n",
        "\n",
        "from - from imports specific class or function directly from the module\n",
        "```\n",
        "from math import sqrt\n",
        "sqrt(100)\n",
        "```\n",
        "\n",
        "###7. How can you handle multiple exceptions in Python?\n",
        "\n",
        "Multiple except blocks with unique exception type can be used to handle multiple exceptions. Exception can also be grouped together in single except block.\n",
        "\n",
        "```\n",
        "def read_file_content(fileName):\n",
        "  try:\n",
        "    source_file = open(fileName,'r')\n",
        "    file_content = source_file.readlines()\n",
        "    file.close()\n",
        "    print(f\"File '{fileName}' read was successful!.\")\n",
        "    return file_content\n",
        "  except (FileNotFoundError,IOError) as e:\n",
        "    print(f\"File '{fileName}' does not esist. Got exception: {e}\")\n",
        "```\n",
        "\n",
        "```\n",
        "def open_file(fileName):\n",
        "  try:\n",
        "    source_file = open(fileName,'r')\n",
        "    file.close()\n",
        "    print(f\"File '{fileName}' open was successful!.\")\n",
        "  except FileNotFoundError as e:\n",
        "    print(f\"File '{fileName}' does not esist.\")\n",
        "  except IOError as e:\n",
        "    print(f\"Error occurred while opening file - '{fileName}'.\")\n",
        "```\n",
        "\n",
        "###8. What is the purpose of the with statement when handling files in Python?\n",
        "\n",
        "with is refrred as context manager. it provides simple way to manage resources. eliminates the need to explicitly call the .close() method\n",
        "\n",
        "```\n",
        "with open('readme.txt','w') as file:\n",
        "  file.write(\"Line1\\n\")\n",
        "  file.write(\"Line2\\n\")\n",
        "  file.write(\"Line3\\n\")\n",
        "```\n",
        "\n",
        "###9. What is the difference between multithreading and multiprocessing?\n",
        "\n",
        "Multi threading - multiple threads in the same process share the memory space & useful IO bound tasks\n",
        "\n",
        "Multi processing - achieves true parallelism by utilizing different availble CPU/cores for CPU bound processes.\n",
        "The processes have separate memory & resources.\n",
        "\n",
        "\n",
        "###10.  What are the advantages of using logging in a program?\n",
        "\n",
        "Preserves detailed information for future use or to track bugs.\n",
        "Helps to monitor the application performance.\n",
        "Helps to debug errors easily.\n",
        "Helps to perform audits on past application behaviour.\n",
        "\n",
        "###11. What is memory management in Python?\n",
        "Memory management is allocating memory spaces and de allocating or garbage collecting once the object is no longer referred & ready for garbage collection.\n",
        "Python counts the references of each object, when the count goes down to zero, the object becomes elligible for garbage collection.Small objects are stored in pool, large objects and data structures are stored in heap memory.\n",
        "\n",
        "###12.  What are the basic steps involved in exception handling in Python?\n",
        "\n",
        "Python has try, except , else & finally blocks.  First the possible exceptions can be identified, then the code block with potential exception is put inside try block. surrounded by all the possible exception category in the except block. Any cleanup code can be present in the catch.\n",
        "\n",
        "```\n",
        "try:\n",
        "  result = a / b\n",
        "except ZeroDivisionError:\n",
        "  print(\"Division by zero error.\")\n",
        "else:\n",
        "  print(result)\n",
        "finally: print(\"Completed!\")\n",
        "\n",
        "```"
      ],
      "metadata": {
        "id": "34OS0UtSCkLU"
      }
    },
    {
      "cell_type": "markdown",
      "source": [
        "###13.  Why is memory management important in Python?\n",
        "\n",
        "Memory management is important to ensure performance.\n",
        "It prevents application crashes by counting objects with no reference and garbage collecting it.\n",
        "\n",
        "###14.  What is the role of try and except in exception handling?\n",
        "\n",
        "try blocks keeps the code inside which might potentially trigger exception.\n",
        "\n",
        "except blocks can be multiple & are used to handle exceptions.\n",
        "\n",
        "```\n",
        "try:\n",
        "  result = a / b\n",
        "except ZeroDivisionError:\n",
        "  print(\"Division by zero error.\")\n",
        "```\n",
        "\n",
        "###15. How does Python's garbage collection system work?\n",
        "\n",
        "Python garbage collection is automatic. Python tracks each object & uses refrence counting to count the number of reference of an object. When the count drops to zero, the object becomes elligible for garbage collection.then the memory occupied by the object is deallocated.\n",
        "\n",
        "###16.  What is the purpose of the else block in exception handling?\n",
        "\n",
        "else block is executed in case there are no exception in the code, it can be used to return valid computation result. It is menat for those actions which should be performed only when there are no errors.\n",
        "\n",
        "###17. What are the common logging levels in Python?\n",
        "\n",
        "logger.DEBUG - To log debugging details\n",
        "logger.INFO - To log common information related to the execution\n",
        "logger.WARNING - To log warnings in the code, or something unexpected\n",
        "logger.ERROR - To log any error in the exepcted behaviour\n",
        "logger.CRITICAL - To log critical issue like application not able to continue.\n",
        "\n",
        "\n",
        "###18. What is the difference between os.fork() and multiprocessing in Python?\n",
        "\n",
        "os. fork is limited to unix and needs to be managed manually\n",
        "\n",
        "multiprocessing is cross platform , abstracted layer for easy usage. also it has built in synchronization and communication mechanism.\n",
        "\n",
        "###19.  What is the importance of closing a file in Python?\n",
        "\n",
        "Closing file releases the resources, so that other process or thread can access/edit the file.\n",
        "It releases any memory occupied and also prevents data loss or file getting locked/corrupt.\n",
        "\n",
        "###20.  What is the difference between file.read() and file.readline() in Python?\n",
        "\n",
        "file.read() - reads the entire file or part of it specified in the size argument\n",
        "\n",
        "```\n",
        "file.read() #reads entire file\n",
        "file.read(10) #reads first 10 bytes\n",
        "\n",
        "```\n",
        "\n",
        "file.readline() - reads the file line by line. It reads a line till the new line charcater is found. It is useful for reading large files\n",
        "\n",
        "\n",
        "###21.  What is the logging module in Python used for?\n",
        "\n",
        "Logging module in python contains functions required for logging and dubugging. it has different log levels and functions to create. configure and log messages.\n",
        "\n",
        "###22.  What is the os module in Python used for in file handling?\n",
        "\n",
        "os module is used to deal with different file & directory operations. Example - to check a file exists, delete a file from directory, get all the details of a directory, creating a directory, renaming file\n",
        "\n",
        "```\n",
        "os.path.exists(fileName) # check if file exists\n",
        "```\n",
        "\n",
        "###23.  What are the challenges associated with memory management in Python?\n",
        "\n",
        "Python memory management is inconsistent in IPython, JPython etc\n",
        "\n",
        "Memory fragmention might occur when available memory spaces become scattered & not contiguous\n",
        "\n",
        "Memory leaks might occur for very large object size\n",
        "\n",
        "It might be a complex process to detect cyclic memory reference.\n",
        "\n",
        "\n",
        "###24.  How do you raise an exception manually in Python?\n",
        "\n",
        "raise keyword can be used to raise an exception manually. The raised exception can be built in or custom.\n",
        "\n",
        "```\n",
        "raise ValueError(\"Incorrect value\")\n",
        "```\n",
        "\n",
        "####25.  Why is it important to use multithreading in certain applications?\n",
        "\n",
        "Multithreading is useful where some part of the process is waiting for IO operation, while other part can continue.\n",
        "\n",
        "It can give user better experience, where user can perform other task, while some tasks are getting executed.\n",
        "\n",
        "It utilizes the resources in efficient manner\n",
        "\n"
      ],
      "metadata": {
        "id": "w1kY1w1MKfeO"
      }
    },
    {
      "cell_type": "markdown",
      "source": [
        "##Practical Questions"
      ],
      "metadata": {
        "id": "eeZK2n4SPZV4"
      }
    },
    {
      "cell_type": "code",
      "source": [
        "###1. How can you open a file for writing in Python and write a string to it?\n",
        "\n",
        "file = open('readme.txt','w')\n",
        "file.write(\"Hello world!\")\n",
        "file.close()\n",
        "\n",
        "file =open('readme.txt','r')\n",
        "for line in file:\n",
        "  print(line)"
      ],
      "metadata": {
        "colab": {
          "base_uri": "https://localhost:8080/"
        },
        "id": "DuYJMarVPv0N",
        "outputId": "8f4b061b-cb61-4490-90c6-51c50cf9f85e"
      },
      "execution_count": 3,
      "outputs": [
        {
          "output_type": "stream",
          "name": "stdout",
          "text": [
            "Hello world!\n"
          ]
        }
      ]
    },
    {
      "cell_type": "code",
      "source": [
        "###2. Write a Python program to read the contents of a file and print each line\n",
        "\n",
        "#Create a new file\n",
        "with open('readme.txt','w') as file:\n",
        "  file.write(\"Line1\\n\")\n",
        "  file.write(\"Line2\\n\")\n",
        "  file.write(\"Line3\\n\")\n",
        "  file.close()\n",
        "\n",
        "#Read the file\n",
        "with open('readme.txt','r') as file:\n",
        "  lines = file.readlines()\n",
        "  for line in lines:\n",
        "    print(f\"{line}\")\n",
        "\n",
        "\n",
        "\n"
      ],
      "metadata": {
        "colab": {
          "base_uri": "https://localhost:8080/"
        },
        "id": "__b7c0OJQxRc",
        "outputId": "a475dcb7-cbef-4cb7-cf0d-2f7244f36327"
      },
      "execution_count": 7,
      "outputs": [
        {
          "output_type": "stream",
          "name": "stdout",
          "text": [
            "Line1\n",
            "\n",
            "Line2\n",
            "\n",
            "Line3\n",
            "\n"
          ]
        }
      ]
    },
    {
      "cell_type": "code",
      "source": [
        "###3. How would you handle a case where the file doesn't exist while trying to open it for reading?\n",
        "\n",
        "def read_file(fileName):\n",
        "  try:\n",
        "    with open(fileName,'r') as file:\n",
        "      for line in file:\n",
        "        print(line)\n",
        "  #catch the exception when file not found\n",
        "  except FileNotFoundError as e:\n",
        "    print(f\"File '{fileName}' does not esist. Got exception: {e}\")\n",
        "\n",
        "\n",
        "read_file(\"no_file.txt\")"
      ],
      "metadata": {
        "colab": {
          "base_uri": "https://localhost:8080/"
        },
        "id": "pmsZyueBQxSD",
        "outputId": "ae51dc58-95b9-405d-f637-46c19a3307aa"
      },
      "execution_count": 13,
      "outputs": [
        {
          "output_type": "stream",
          "name": "stdout",
          "text": [
            "File 'no_file.txt' does not esist. Got exception: [Errno 2] No such file or directory: 'no_file.txt'\n"
          ]
        }
      ]
    },
    {
      "cell_type": "code",
      "source": [
        "###4. Write a Python script that reads from one file and writes its content to another file\n",
        "\n",
        "import os\n",
        "\n",
        "#Read the source\n",
        "def read_file_content(fileName):\n",
        "  try:\n",
        "    source_file = open(fileName,'r')\n",
        "    file_content = source_file.readlines()\n",
        "    file.close()\n",
        "    print(f\"File '{fileName}' read was successful!.\")\n",
        "    return file_content\n",
        "  except (FileNotFoundError,IOError) as e:\n",
        "    print(f\"File '{fileName}' does not esist. Got exception: {e}\")\n",
        "    raise e\n",
        "\n",
        "#Write to the destination file\n",
        "def write_file_content(fileName,content):\n",
        "  try:\n",
        "    with open(fileName,'w') as destination_file:\n",
        "      for line in content:\n",
        "        destination_file.write(line)\n",
        "      file.close()\n",
        "    print(f\"Written content successfully!\")\n",
        "  except (FileNotFoundError,IOError) as e:\n",
        "    print(f\"File '{fileName}' does not esist. Got exception: {e}\")\n",
        "\n",
        "#Create a file\n",
        "def create_file(fileName,content=None):\n",
        "  try:\n",
        "    if(not os.path.exists(fileName)):\n",
        "      file = open(fileName,'w')\n",
        "      if content is not None:\n",
        "        file.writelines(content)\n",
        "      file.close()\n",
        "      print(f\"File created '{fileName}'\")\n",
        "    else:\n",
        "      print(f\"File '{fileName}' already exists.\")\n",
        "  except (IOError) as e:\n",
        "      print(f\"File creation failed: '{fileName}'. Got exception: {e}\")\n",
        "\n",
        "\n",
        "#delete file for cleanup\n",
        "def delete_file(fileName):\n",
        "  try:\n",
        "    os.remove(fileName)\n",
        "    print(f\"Deleted file '{fileName}'\")\n",
        "  except:\n",
        "    print(f\"Delete was unsuccessful for file - '{fileName}'.\")\n",
        "\n",
        "#Execution\n",
        "source_file=\"sourceFile.txt\"\n",
        "destination_file=\"destinationFile.txt\"\n",
        "\n",
        "create_file(source_file,['Line1\\n','Line2\\n','Line3\\n','Line4\\n'])\n",
        "create_file(destination_file)\n",
        "print()\n",
        "\n",
        "source_content = read_file_content(source_file)\n",
        "print(f\"'{source_file}' content - \",source_content)\n",
        "write_file_content(destination_file,source_content)\n",
        "print()\n",
        "\n",
        "#Verify destination contains written text\n",
        "destination_content = read_file_content(destination_file)\n",
        "print(f\"'{destination_file}' content - \",destination_content)\n",
        "print()\n",
        "\n",
        "#Cleanup\n",
        "delete_file(source_file)\n",
        "delete_file(destination_file)\n"
      ],
      "metadata": {
        "colab": {
          "base_uri": "https://localhost:8080/"
        },
        "id": "y_zlLntvTDk7",
        "outputId": "dcc1f931-d82f-41bc-d3c2-029859b2e7be"
      },
      "execution_count": 32,
      "outputs": [
        {
          "output_type": "stream",
          "name": "stdout",
          "text": [
            "File created 'sourceFile.txt'\n",
            "File created 'destinationFile.txt'\n",
            "\n",
            "File 'sourceFile.txt' read was successful!.\n",
            "'sourceFile.txt' content -  ['Line1\\n', 'Line2\\n', 'Line3\\n', 'Line4\\n']\n",
            "Written content successfully!\n",
            "\n",
            "File 'destinationFile.txt' read was successful!.\n",
            "'destinationFile.txt' content -  ['Line1\\n', 'Line2\\n', 'Line3\\n', 'Line4\\n']\n",
            "\n",
            "Deleted file 'sourceFile.txt'\n",
            "Deleted file 'destinationFile.txt'\n"
          ]
        }
      ]
    },
    {
      "cell_type": "code",
      "source": [
        "###4. How would you catch and handle division by zero error in Python?\n",
        "\n",
        "try:\n",
        "  1/0\n",
        "except ZeroDivisionError as ex:\n",
        "  print(f\"Cannot divide by zero. Error - {ex}\")\n"
      ],
      "metadata": {
        "colab": {
          "base_uri": "https://localhost:8080/"
        },
        "id": "dr8oqNNPeo42",
        "outputId": "90267dc0-845b-474f-9456-5d33f23a5971"
      },
      "execution_count": 37,
      "outputs": [
        {
          "output_type": "stream",
          "name": "stdout",
          "text": [
            "Cannot divide by zero. Error - division by zero\n"
          ]
        }
      ]
    },
    {
      "cell_type": "code",
      "source": [
        "###5. Write a Python program that logs an error message to a log file when a division by zero exception occurs\n",
        "\n",
        "import logging\n",
        "\n",
        "logging.basicConfig(\n",
        "    filename = '/content/sample_data/log.txt',\n",
        "    level = logging.INFO,\n",
        "    format = '%(asctime)s - %(levelname)s - %(message)s',\n",
        "    force=True\n",
        ")\n",
        "\n",
        "def zero_division():\n",
        "  try:\n",
        "    1/0\n",
        "  except ZeroDivisionError as ex:\n",
        "    logging.error(f\"Division by zero error.\")\n",
        "\n",
        "zero_division()\n"
      ],
      "metadata": {
        "id": "FyTmrBjlfUab"
      },
      "execution_count": 53,
      "outputs": []
    },
    {
      "cell_type": "code",
      "source": [
        "###6. How do you log information at different levels (INFO, ERROR, WARNING) in Python using the logging module?\n",
        "\n",
        "import logging\n",
        "\n",
        "logging.basicConfig(\n",
        "    filename ='/content/sample_data/log.txt',\n",
        "    level= logging.INFO,\n",
        "    format ='%(asctime)s - %(levelname)s - %(message)s',\n",
        "    force =True\n",
        ")\n",
        "\n",
        "#This won't get printed as the level is set to INFO\n",
        "logging.debug(\"This is DEBUG\")\n",
        "\n",
        "\n",
        "logging.info(\"This is INFO\")\n",
        "logging.error(\"This is ERROR\")\n",
        "logging.warning(\"This is WARNING\")"
      ],
      "metadata": {
        "id": "HrjykzLbjxPc"
      },
      "execution_count": 85,
      "outputs": []
    },
    {
      "cell_type": "code",
      "source": [
        "###7. Write a program to handle a file opening error using exception handling\n",
        "\n",
        "#open the file\n",
        "def open_file(fileName):\n",
        "  try:\n",
        "    source_file = open(fileName,'r')\n",
        "    file.close()\n",
        "    print(f\"File '{fileName}' open was successful!.\")\n",
        "  except FileNotFoundError as e:\n",
        "    print(f\"File '{fileName}' does not esist.\")\n",
        "  except IOError as e:\n",
        "    print(f\"Error occurred while opening file - '{fileName}'.\")\n",
        "\n",
        "\n",
        "#No file exist\n",
        "open_file('no-file.txt')"
      ],
      "metadata": {
        "colab": {
          "base_uri": "https://localhost:8080/"
        },
        "id": "-ykgZ4KKlDdz",
        "outputId": "918680ec-cc6d-4e2c-d4ae-0eefcf3fca26"
      },
      "execution_count": 66,
      "outputs": [
        {
          "output_type": "stream",
          "name": "stdout",
          "text": [
            "File 'no-file.txt' does not esist.\n"
          ]
        }
      ]
    },
    {
      "cell_type": "code",
      "source": [
        "###8. How can you read a file line by line and store its content in a list in Python?\n",
        "\n",
        "#delete file for cleanup\n",
        "def delete_file(fileName):\n",
        "  try:\n",
        "    os.remove(fileName)\n",
        "    print(f\"Deleted file '{fileName}'\")\n",
        "  except:\n",
        "    print(f\"Delete was unsuccessful for file - '{fileName}'.\")\n",
        "\n",
        "#Read the source & return list\n",
        "def read_file(fileName):\n",
        "  content =[]\n",
        "  try:\n",
        "    source_file = open(fileName,'r')\n",
        "\n",
        "    for line in source_file:\n",
        "      content.append(line)\n",
        "\n",
        "    file.close()\n",
        "    print(f\"File '{fileName}' read was successful!.\")\n",
        "    return content\n",
        "  except (FileNotFoundError,IOError) as e:\n",
        "    print(f\"File '{fileName}' does not esist. Got exception: {e}\")\n",
        "\n",
        "\n",
        "with open(\"file_read.txt\",'w') as file:\n",
        "  file.write(\"Line1\\n\")\n",
        "  file.write(\"Line2\\n\")\n",
        "  file.write(\"Line3\\n\")\n",
        "  file.write(\"Line4\\n\")\n",
        "  file.close()\n",
        "\n",
        "content = read_file(\"file_read.txt\")\n",
        "print(f\"returned the data in a {type(content)}\")\n",
        "for line in content:\n",
        "  print(line)\n",
        "\n",
        "#cleanup\n",
        "delete_file('file_read.txt')"
      ],
      "metadata": {
        "colab": {
          "base_uri": "https://localhost:8080/"
        },
        "id": "myCj18vem1SV",
        "outputId": "b9db81a8-d83b-4100-b3ce-24909b29fc1d"
      },
      "execution_count": 70,
      "outputs": [
        {
          "output_type": "stream",
          "name": "stdout",
          "text": [
            "File 'file_read.txt' read was successful!.\n",
            "returned the data in a <class 'list'>\n",
            "Line1\n",
            "\n",
            "Line2\n",
            "\n",
            "Line3\n",
            "\n",
            "Line4\n",
            "\n",
            "Deleted file 'file_read.txt'\n"
          ]
        }
      ]
    },
    {
      "cell_type": "code",
      "source": [
        "###10. How can you append data to an existing file in Python?\n",
        "\n",
        "#delete file for cleanup\n",
        "def delete_file(fileName):\n",
        "  try:\n",
        "    os.remove(fileName)\n",
        "    print(f\"Deleted file '{fileName}'\")\n",
        "  except:\n",
        "    print(f\"Delete was unsuccessful for file - '{fileName}'.\")\n",
        "\n",
        "\n",
        "with open(\"file_append.txt\",'w') as file:\n",
        "  file.write(\"Line1\\n\")\n",
        "  file.write(\"Line2\\n\")\n",
        "  file.write(\"Line3\\n\")\n",
        "  file.write(\"Line4\\n\")\n",
        "  file.close()\n",
        "\n",
        "#append to the file\n",
        "with open(\"file_append.txt\",'a') as file:\n",
        "    file.write('Appended data.')\n",
        "    file.close()\n",
        "\n",
        "#Check content\n",
        "with open(\"file_append.txt\",'r') as file:\n",
        "  for line in file:\n",
        "    print(line)\n",
        "\n",
        "#cleanup\n",
        "delete_file('file_append.txt')"
      ],
      "metadata": {
        "colab": {
          "base_uri": "https://localhost:8080/"
        },
        "id": "W_5DgKs3oPu0",
        "outputId": "f3c32927-3ba1-4c8a-9aa1-16bd562a1389"
      },
      "execution_count": 72,
      "outputs": [
        {
          "output_type": "stream",
          "name": "stdout",
          "text": [
            "Line1\n",
            "\n",
            "Line2\n",
            "\n",
            "Line3\n",
            "\n",
            "Line4\n",
            "\n",
            "Appended data.\n",
            "Deleted file 'file_append.txt'\n"
          ]
        }
      ]
    },
    {
      "cell_type": "code",
      "source": [
        "###11. Write a Python program that uses a try-except block to handle an error when attempting to access a\n",
        "###dictionary key that doesn't exist\n",
        "\n",
        "dict ={\"name\":\"Debdutta\",\"age\":34}\n",
        "try:\n",
        "  dict[\"CellNumber\"]\n",
        "except KeyError as e:\n",
        "  print(f\"Key not found in dictionary\")"
      ],
      "metadata": {
        "colab": {
          "base_uri": "https://localhost:8080/"
        },
        "id": "mBEGURtOojK7",
        "outputId": "c49cf1b6-95ec-4f75-c280-5cf67568fcfc"
      },
      "execution_count": 75,
      "outputs": [
        {
          "output_type": "stream",
          "name": "stdout",
          "text": [
            "Key not found in dictionary\n"
          ]
        }
      ]
    },
    {
      "cell_type": "code",
      "source": [
        "###12. Write a program that demonstrates using multiple except blocks to handle different types of exceptions\n",
        "\n",
        "def multi_except(key,total_vehicle):\n",
        "  try:\n",
        "    print(f\"Retrieved '{dict[key]}' value for key - {key}\")\n",
        "    print(f\"Car % : {dict['car']/total_vehicle}\")\n",
        "  except KeyError as e:\n",
        "    print(f\"Key not found in dictionary\")\n",
        "  except ZeroDivisionError as e:\n",
        "    print(f\"Division by zero error\")\n",
        "\n",
        "\n",
        "dict ={\"name\":\"Debdutta\",\"age\":34,\"car\":0}\n",
        "#KeyError\n",
        "multi_except(\"phone\",1)\n",
        "print()\n",
        "#ZeroDivisionError\n",
        "multi_except(\"name\",0)"
      ],
      "metadata": {
        "colab": {
          "base_uri": "https://localhost:8080/"
        },
        "id": "KcxhI1WHp7dd",
        "outputId": "45fbe1e1-18ae-4e11-b720-d809ef3e5132"
      },
      "execution_count": 83,
      "outputs": [
        {
          "output_type": "stream",
          "name": "stdout",
          "text": [
            "Key not found in dictionary\n",
            "\n",
            "Retrieved 'Debdutta' value for key - name\n",
            "Division by zero error\n"
          ]
        }
      ]
    },
    {
      "cell_type": "code",
      "source": [
        "###13.How would you check if a file exists before attempting to read it in Python?\n",
        "\n",
        "def check_file(fileName):\n",
        "  try:\n",
        "    if(os.path.exists(fileName)):\n",
        "      file = open(fileName,'r')\n",
        "      print(file.readlines())\n",
        "      file.close()\n",
        "    else:\n",
        "      print(f\"File '{fileName}' doesnot exist.\")\n",
        "  except (IOError) as e:\n",
        "      print(f\"File read failed: '{fileName}'. Got exception: {e}\")\n",
        "\n",
        "check_file(\"no-file.txt\")\n"
      ],
      "metadata": {
        "colab": {
          "base_uri": "https://localhost:8080/"
        },
        "id": "LULsYA6QrhTn",
        "outputId": "c8b16b84-ce44-4c53-cb7a-0ade8c3d1f84"
      },
      "execution_count": 84,
      "outputs": [
        {
          "output_type": "stream",
          "name": "stdout",
          "text": [
            "File 'no-file.txt' doesnot exist.\n"
          ]
        }
      ]
    },
    {
      "cell_type": "code",
      "source": [
        "###14. Write a program that uses the logging module to log both informational and error messages\n",
        "\n",
        "import logging\n",
        "\n",
        "logging.basicConfig(\n",
        "    filename ='/content/sample_data/log.txt',\n",
        "    level= logging.INFO,\n",
        "    format ='%(asctime)s - %(levelname)s - %(message)s',\n",
        "    force =True\n",
        ")\n",
        "\n",
        "num =200\n",
        "try:\n",
        "  for i in range(-1,10):\n",
        "    logging.info(f\"Number - {i}\")\n",
        "    logging.info(f\"Result - {num/i}\")\n",
        "except ZeroDivisionError as e:\n",
        "    logging.error(f\"Division by zero\")\n",
        "\n"
      ],
      "metadata": {
        "id": "xYJhI6VTsGjO"
      },
      "execution_count": 86,
      "outputs": []
    },
    {
      "cell_type": "code",
      "source": [
        "###15. Write a Python program that prints the content of a file and handles the case when the file is empty\n",
        "\n",
        "#delete file for cleanup\n",
        "def delete_file(fileName):\n",
        "  try:\n",
        "    os.remove(fileName)\n",
        "    print(f\"Deleted file '{fileName}'\")\n",
        "  except:\n",
        "    print(f\"Delete was unsuccessful for file - '{fileName}'.\")\n",
        "\n",
        "def check_file_empty(fileName):\n",
        "  try:\n",
        "    if(os.path.exists(fileName)):\n",
        "      file = open(fileName,'r')\n",
        "      content =file.readlines()\n",
        "      if(not content):\n",
        "        print(f\"File '{fileName}' is empty.\")\n",
        "      else:\n",
        "        print(f\"File content of '{fileName}'-> {content}\")\n",
        "      file.close()\n",
        "    else:\n",
        "      print(f\"File '{fileName}' doesnot exist.\")\n",
        "  except (IOError) as e:\n",
        "      print(f\"File read failed: '{fileName}'. Got exception: {e}\")\n",
        "\n",
        "#Empty file\n",
        "with open(\"file_empty.txt\",'w') as file:\n",
        "  file.close()\n",
        "check_file_empty(\"file_empty.txt\")\n",
        "\n",
        "#Not empty file\n",
        "with open(\"file_not_empty.txt\",'w') as file:\n",
        "  file.write(\"Line1\\n\")\n",
        "  file.write(\"Line2\\n\")\n",
        "  file.write(\"Line3\\n\")\n",
        "  file.write(\"Line4\\n\")\n",
        "  file.close()\n",
        "print()\n",
        "check_file_empty(\"file_not_empty.txt\")\n",
        "\n",
        "#Cleanup\n",
        "print()\n",
        "print(\"====Cleanup===\")\n",
        "delete_file(\"file_empty.txt\")\n",
        "delete_file(\"file_not_empty.txt\")"
      ],
      "metadata": {
        "colab": {
          "base_uri": "https://localhost:8080/"
        },
        "id": "du10ihZuy7I_",
        "outputId": "7828266a-c60b-4814-f616-7a82ae4062b7"
      },
      "execution_count": 90,
      "outputs": [
        {
          "output_type": "stream",
          "name": "stdout",
          "text": [
            "File 'file_empty.txt' is empty.\n",
            "\n",
            "File content of 'file_not_empty.txt'-> ['Line1\\n', 'Line2\\n', 'Line3\\n', 'Line4\\n']\n",
            "\n",
            "====Cleanup===\n",
            "Deleted file 'file_empty.txt'\n",
            "Deleted file 'file_not_empty.txt'\n"
          ]
        }
      ]
    },
    {
      "cell_type": "code",
      "source": [
        "###16. Demonstrate how to use memory profiling to check the memory usage of a small program\n",
        "import tracemalloc\n",
        "\n",
        "def momory_check():\n",
        "  lst = [1] *(10**6)\n",
        "\n",
        "tracemalloc.start()\n",
        "momory_check()\n",
        "snap = tracemalloc.take_snapshot()\n",
        "stats = snap.statistics(\"lineno\")\n",
        "\n",
        "for stat in stats[:5]:\n",
        "  print(f\"Line {stat.traceback[0].lineno}: {stat.size}, count={stat.count}\")\n",
        "\n",
        ""
      ],
      "metadata": {
        "colab": {
          "base_uri": "https://localhost:8080/"
        },
        "id": "u-WHLjXG0kuJ",
        "outputId": "7cd73622-e47f-47d1-fe4a-d0e1a4bc25ca"
      },
      "execution_count": 102,
      "outputs": [
        {
          "output_type": "stream",
          "name": "stdout",
          "text": [
            "Line 137: 45479, count=466\n",
            "Line 123: 34965, count=495\n",
            "Line 558: 14584, count=299\n",
            "Line 101: 12145, count=181\n",
            "Line 505: 11120, count=192\n"
          ]
        }
      ]
    },
    {
      "cell_type": "code",
      "source": [
        "###17. Write a Python program to create and write a list of numbers to a file, one number per line\n",
        "\n",
        "#Write to the file\n",
        "def write_numbers(fileName,content):\n",
        "  try:\n",
        "    with open(fileName,'w') as destination_file:\n",
        "      for line in content:\n",
        "        destination_file.write(str(line)+\"\\n\")\n",
        "      file.close()\n",
        "    print(f\"Written content successfully!\")\n",
        "  except (FileNotFoundError,IOError) as e:\n",
        "    print(f\"File '{fileName}' does not esist. Got exception: {e}\")\n",
        "\n",
        "#delete file for cleanup\n",
        "def delete_file(fileName):\n",
        "  try:\n",
        "    os.remove(fileName)\n",
        "    print(f\"Deleted file '{fileName}'\")\n",
        "  except:\n",
        "    print(f\"Delete was unsuccessful for file - '{fileName}'.\")\n",
        "\n",
        "#Create list with 100 numbers\n",
        "lst= []\n",
        "for i in range(0,5):\n",
        "  lst.append(i)\n",
        "\n",
        "write_numbers(\"numbers.txt\",lst)\n",
        "\n",
        "#Check content\n",
        "file = open(\"numbers.txt\",'r')\n",
        "for l in file:\n",
        "  print(l)\n",
        "\n",
        "#Cleanup\n",
        "print()\n",
        "print(\"====Cleanup====\")\n",
        "delete_file(\"numbers.txt\")"
      ],
      "metadata": {
        "colab": {
          "base_uri": "https://localhost:8080/"
        },
        "id": "P-24EwmC3JGA",
        "outputId": "2215ed2b-07b5-4712-cd75-e68efffbfec2"
      },
      "execution_count": 109,
      "outputs": [
        {
          "output_type": "stream",
          "name": "stdout",
          "text": [
            "Written content successfully!\n",
            "0\n",
            "\n",
            "1\n",
            "\n",
            "2\n",
            "\n",
            "3\n",
            "\n",
            "4\n",
            "\n",
            "\n",
            "====Cleanup====\n",
            "Deleted file 'numbers.txt'\n"
          ]
        }
      ]
    },
    {
      "cell_type": "code",
      "source": [
        "###18.  How would you implement a basic logging setup that logs to a file with rotation after 1MB\n",
        "\n",
        "import logging\n",
        "from logging.handlers import RotatingFileHandler\n",
        "\n",
        "log = RotatingFileHandler(\n",
        "    filename=\"/content/sample_data/log.txt\",\n",
        "    maxBytes= 1*1024*1024,\n",
        "    backupCount=0\n",
        "    )\n",
        "\n",
        "log.level = logging.INFO\n",
        "format = logging.Formatter('%(asctime)s - %(levelname)s - %(message)s')\n",
        "log.setFormatter(format)\n",
        "\n",
        "logger = logging.getLogger()\n",
        "logger.addHandler(log)\n",
        "\n",
        "for i in range(0,7000):\n",
        "  logger.info(f\"Num {i}\")\n"
      ],
      "metadata": {
        "id": "bDBLfvYs4tOx"
      },
      "execution_count": 115,
      "outputs": []
    },
    {
      "cell_type": "code",
      "source": [
        "###19.  Write a program that handles both IndexError and KeyError using a try-except block\n",
        "\n",
        "dict ={\"name\":\"Debdutta\",\"age\":34,\"grade\":[1,1,2,3]}\n",
        "\n",
        "def get_score(key,index):\n",
        "  try:\n",
        "    return dict[key][index]\n",
        "  except KeyError as e:\n",
        "    print(f\"Key not found in dictionary\")\n",
        "  except IndexError as e:\n",
        "    print(f\"Index out of bound\")\n",
        "\n",
        "\n",
        "get_score(\"marks\",0) #Key error\n",
        "get_score(\"grade\",6) #index error\n",
        "get_score(\"grade\",0) #valid"
      ],
      "metadata": {
        "colab": {
          "base_uri": "https://localhost:8080/"
        },
        "id": "Cz6u4XTW7_Cq",
        "outputId": "fa66f21f-cbbe-4e26-f604-e074a3003f0c"
      },
      "execution_count": 117,
      "outputs": [
        {
          "output_type": "stream",
          "name": "stdout",
          "text": [
            "Key not found in dictionary\n",
            "Index out of bound\n"
          ]
        },
        {
          "output_type": "execute_result",
          "data": {
            "text/plain": [
              "1"
            ]
          },
          "metadata": {},
          "execution_count": 117
        }
      ]
    },
    {
      "cell_type": "code",
      "source": [
        "###20. How would you open a file and read its contents using a context manager in Python\n",
        "\n",
        "\n",
        "\n",
        "#Create a new file - with plays the role of context manager\n",
        "with open('readme.txt','w') as file:\n",
        "  file.write(\"Line1\\n\")\n",
        "  file.write(\"Line2\\n\")\n",
        "  file.write(\"Line3\\n\")\n",
        "  file.close()\n",
        "\n",
        "#Read the file\n",
        "with open('readme.txt','r') as file:\n",
        "  lines = file.readlines()\n",
        "  for line in lines:\n",
        "    print(f\"{line}\")\n",
        "\n",
        "##cleanup\n",
        "os.remove('readme.txt')"
      ],
      "metadata": {
        "colab": {
          "base_uri": "https://localhost:8080/"
        },
        "id": "GeXDBOrI89zS",
        "outputId": "606bfd89-4c4f-485a-d2fb-358e4375e297"
      },
      "execution_count": 118,
      "outputs": [
        {
          "output_type": "stream",
          "name": "stdout",
          "text": [
            "Line1\n",
            "\n",
            "Line2\n",
            "\n",
            "Line3\n",
            "\n"
          ]
        }
      ]
    },
    {
      "cell_type": "code",
      "source": [
        "###21. Write a Python program that reads a file and prints the number of occurrences of a specific word\n",
        "import re\n",
        "\n",
        "#read word occurences\n",
        "def count_word(file,keyword):\n",
        "  total_count=0\n",
        "  with open(file,'r') as file:\n",
        "    lines = file.readlines()\n",
        "    for line in lines:\n",
        "      words = line.split()\n",
        "      words = list(map(lambda x: x.lower(),words))\n",
        "      words = list(map(lambda x: re.sub(\"[^A-Za-z0-9]\",\"\",x),words))\n",
        "      total_count = total_count + words.count(keyword.lower())\n",
        "    file.close()\n",
        "  return total_count\n",
        "\n",
        "#Create a new file - with repetative words\n",
        "with open('readme.txt','w') as file:\n",
        "  file.write(\"Hello world, hello world, hello earth.\\n\")\n",
        "  file.write(\"Hello world, hello world, hello earth.\\n\")\n",
        "  file.write(\"Hello world, hello world, hello earth.\\n\")\n",
        "  file.close()\n",
        "\n",
        "#check word count in file\n",
        "print(count_word('readme.txt',\"Hello\"))\n",
        "print(count_word('readme.txt',\"earth\"))\n",
        "print(count_word('readme.txt',\"WorLD\"))\n",
        "\n",
        "##cleanup\n",
        "os.remove('readme.txt')"
      ],
      "metadata": {
        "colab": {
          "base_uri": "https://localhost:8080/"
        },
        "id": "btEug6Zh95Nh",
        "outputId": "bbb84fab-6a53-4dc1-aae3-dcbbc90f9102"
      },
      "execution_count": 139,
      "outputs": [
        {
          "output_type": "stream",
          "name": "stdout",
          "text": [
            "9\n",
            "3\n",
            "6\n"
          ]
        }
      ]
    },
    {
      "cell_type": "code",
      "source": [
        "###22.  How can you check if a file is empty before attempting to read its contents?\n",
        "\n",
        "#delete file for cleanup\n",
        "def delete_file(fileName):\n",
        "  try:\n",
        "    os.remove(fileName)\n",
        "    print(f\"Deleted file '{fileName}'\")\n",
        "  except:\n",
        "    print(f\"Delete was unsuccessful for file - '{fileName}'.\")\n",
        "\n",
        "def check_file_empty(fileName):\n",
        "  try:\n",
        "    if(os.path.exists(fileName)):\n",
        "      file = open(fileName,'r')\n",
        "      content =file.readlines()\n",
        "      if(not content):\n",
        "        print(f\"File '{fileName}' is empty.\")\n",
        "      else:\n",
        "        print(f\"File content of '{fileName}'-> {content}\")\n",
        "      file.close()\n",
        "    else:\n",
        "      print(f\"File '{fileName}' doesnot exist.\")\n",
        "  except (IOError) as e:\n",
        "      print(f\"File read failed: '{fileName}'. Got exception: {e}\")\n",
        "\n",
        "#Empty file\n",
        "with open(\"file_empty.txt\",'w') as file:\n",
        "  file.close()\n",
        "check_file_empty(\"file_empty.txt\")\n",
        "\n",
        "#Not empty file\n",
        "with open(\"file_not_empty.txt\",'w') as file:\n",
        "  file.write(\"Line1\\n\")\n",
        "  file.write(\"Line2\\n\")\n",
        "  file.write(\"Line3\\n\")\n",
        "  file.write(\"Line4\\n\")\n",
        "  file.close()\n",
        "print()\n",
        "check_file_empty(\"file_not_empty.txt\")\n",
        "\n",
        "#Cleanup\n",
        "print()\n",
        "print(\"====Cleanup===\")\n",
        "delete_file(\"file_empty.txt\")\n",
        "delete_file(\"file_not_empty.txt\")\n"
      ],
      "metadata": {
        "colab": {
          "base_uri": "https://localhost:8080/"
        },
        "id": "0N1PApkKAuWb",
        "outputId": "c704563f-52a2-4c1f-bbaf-07008f45283d"
      },
      "execution_count": 140,
      "outputs": [
        {
          "output_type": "stream",
          "name": "stdout",
          "text": [
            "File 'file_empty.txt' is empty.\n",
            "\n",
            "File content of 'file_not_empty.txt'-> ['Line1\\n', 'Line2\\n', 'Line3\\n', 'Line4\\n']\n",
            "\n",
            "====Cleanup===\n",
            "Deleted file 'file_empty.txt'\n",
            "Deleted file 'file_not_empty.txt'\n"
          ]
        }
      ]
    },
    {
      "cell_type": "code",
      "source": [
        "###23. Write a Python program that writes to a log file when an error occurs during file handling\n",
        "\n",
        "import logging\n",
        "\n",
        "logging.basicConfig(\n",
        "    filename = '/content/sample_data/log.txt',\n",
        "    level = logging.INFO,\n",
        "    format = '%(asctime)s - %(levelname)s - %(message)s',\n",
        "    force=True\n",
        ")\n",
        "\n",
        "#open the file\n",
        "def open_file(fileName):\n",
        "  try:\n",
        "    source_file = open(fileName,'r')\n",
        "    file.close()\n",
        "    print(f\"File '{fileName}' open was successful!.\")\n",
        "  except FileNotFoundError as e:\n",
        "    logging.error(f\"File '{fileName}' does not esist.\")\n",
        "  except IOError as e:\n",
        "    logging.error(f\"Error occurred while opening file - '{fileName}'.\")\n",
        "\n",
        "#No file exist\n",
        "open_file('no-file.txt')"
      ],
      "metadata": {
        "id": "lN3IFk2mBxW8"
      },
      "execution_count": 141,
      "outputs": []
    }
  ]
}