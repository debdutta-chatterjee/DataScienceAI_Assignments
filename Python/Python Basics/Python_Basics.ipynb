{
  "nbformat": 4,
  "nbformat_minor": 0,
  "metadata": {
    "colab": {
      "provenance": []
    },
    "kernelspec": {
      "name": "python3",
      "display_name": "Python 3"
    },
    "language_info": {
      "name": "python"
    }
  },
  "cells": [
    {
      "cell_type": "code",
      "execution_count": null,
      "metadata": {
        "id": "-pUOxF-bCU-N"
      },
      "outputs": [],
      "source": []
    },
    {
      "cell_type": "markdown",
      "source": [
        "#Python Basics Questions\n",
        "\n",
        "##Theoritical\n",
        "\n",
        " ### 1. What is Python, and why is it popular?\n",
        "  - Python is an interpreted programming langugae.\n",
        "  -It is popular due to features like easy to use, simplicity, rich libraries,sross platform capabilites.\n",
        "\n",
        "### 2. What is an interpreter in Python\n",
        "  - Interprter is a software that converts python code into machine level instructions at runtime.\n",
        "\n",
        "### 3. What are pre-defined keywords in Python\n",
        "  - Predefined keywords are reserved syntaxes like 'if' 'for'.These can not be used as variable names.\n",
        "\n",
        "### 4. Can keywords be used as variable names\n",
        "  -No\n",
        "\n",
        "### 5. What is mutability in Python\n",
        "  -Mutability is the abiltity of an object to change after creation. like lists are mutable but strings are not.\n",
        "\n",
        "### 6. Why are lists mutable, but tuples are immutable\n",
        "  -Lists are built using dynamic array to randomly add access and remove items.\n",
        "  -Tuples are created using static arrays and designed to store not changebale elements.\n",
        "\n",
        "### 7. What is the difference between “==” and “is” operators in Python\n",
        "  - == is equality operator to check if two variables having same value\n",
        "  - is is identity operator to check whether two variables are poing to the same memory location\n",
        "  a=3\n",
        "  b=a\n",
        "  a is b -> True\n",
        "\n",
        " ### 8. What are logical operators in Python\n",
        "  -and or not are logical operators to combine logical statements for control flow.\n",
        "\n",
        " ### 9. What is type casting in Python\n",
        "  - Type casting is converting from one data type to another.\n",
        "  a=3\n",
        "  b = float(3)\n",
        "  print(b) -> 3.0\n",
        "  \n",
        "### 10. What is the difference between implicit and explicit type casting\n",
        "  - When different data types are combined, python automatically converts that to correct data type, known as implicit type casting.\n",
        "  a=5\n",
        "  b=7.5\n",
        "  print(a+b) -> 12.5\n",
        "\n",
        "  -When programmer explicitly uses methods like str() int() float() to convert from one data type to another, known as explicit type casting.\n",
        "\n",
        "### 11. What is the purpose of conditional statements in Python\n",
        "  -Check conditions and perform tasks accordingly\n",
        "  -Control the flow of the program\n",
        "  \n",
        "### 12. How does the elif statement work\n",
        "    - elif is else if condition that is used when multiple conditions are required to be checked\n",
        "    if a>10:\n",
        "      print(\"Greater than 10\")\n",
        "    elif a<5:\n",
        "      print(\"Less than 5\")\n",
        "    else:\n",
        "      print(\"else condition\")\n",
        "\n",
        "\n",
        "### 13. What is the difference between for and while loops\n",
        "  - For is used to itertae over a sequence\n",
        "  -While is used to run a block of code till a condition is True or False\n",
        "\n",
        "### 14. Describe a scenario where a while loop is more suitable than a for loop\n",
        "  -A scenario when it is not known how many iterations will be required. user needs to continue till a condition is met.\n",
        "  example - receive user inputs and print till the user input is 'exit'\n"
      ],
      "metadata": {
        "id": "r9SVhnq6CoX8"
      }
    },
    {
      "cell_type": "markdown",
      "source": [
        "#Practical Questions\n"
      ],
      "metadata": {
        "id": "yybY9e6zJe_8"
      }
    },
    {
      "cell_type": "code",
      "source": [
        " \"\"\" 1. Write a Python program to print \"Hello, World! \"\"\"\n",
        "\n",
        " print(\"Hello, World!\")\n",
        "\n",
        " \"\"\" 2. Write a Python program that displays your name and age\"\"\"\n",
        " name = \"DC\"\n",
        " age =33\n",
        " print(f\"name - {name}, age {age}\")\n",
        "\n",
        " \"\"\"3. Write code to print all the pre-defined keywords in Python using the keyword library\"\"\"\n",
        " help(\"keywords\")\n",
        "\n",
        ""
      ],
      "metadata": {
        "colab": {
          "base_uri": "https://localhost:8080/"
        },
        "id": "Dql3j0BMJjKa",
        "outputId": "857aaaa3-d51e-40e0-8a81-924e80d5fb3f"
      },
      "execution_count": 11,
      "outputs": [
        {
          "output_type": "stream",
          "name": "stdout",
          "text": [
            "Hello, World!\n",
            "name - DC, age 33\n",
            "\n",
            "Here is a list of the Python keywords.  Enter any keyword to get more help.\n",
            "\n",
            "False               class               from                or\n",
            "None                continue            global              pass\n",
            "True                def                 if                  raise\n",
            "and                 del                 import              return\n",
            "as                  elif                in                  try\n",
            "assert              else                is                  while\n",
            "async               except              lambda              with\n",
            "await               finally             nonlocal            yield\n",
            "break               for                 not                 \n",
            "\n"
          ]
        }
      ]
    },
    {
      "cell_type": "code",
      "source": [
        "\"\"\" 4. Write a program that checks if a given word is a Python keyword\"\"\"\n",
        "\n",
        "import keyword\n",
        "\n",
        "def is_keyword(key):\n",
        "  if keyword.iskeyword(key):\n",
        "    return True\n",
        "  else:\n",
        "    return False\n",
        "\n",
        "print(is_keyword(\"if\"))\n",
        "print(is_keyword(\"notif\"))"
      ],
      "metadata": {
        "colab": {
          "base_uri": "https://localhost:8080/"
        },
        "id": "KQDKcpmrKgfs",
        "outputId": "618e9c16-02dd-4dd3-b9f0-f3cdcaa4261f"
      },
      "execution_count": 13,
      "outputs": [
        {
          "output_type": "stream",
          "name": "stdout",
          "text": [
            "True\n",
            "False\n"
          ]
        }
      ]
    },
    {
      "cell_type": "code",
      "source": [
        "\"\"\"5.Create a list and tuple in Python, and demonstrate how attempting to change an element works differently\n",
        "for each\"\"\"\n",
        "\n",
        "lst =[1,2,3,4,5,6]\n",
        "tuple=(1,2,3,4,5,6)\n",
        "\n",
        "lst[0] =10\n",
        "print(lst)\n",
        "\n",
        "tuple[0] = 10 #TypeError: 'tuple' object does not support item assignment\n"
      ],
      "metadata": {
        "colab": {
          "base_uri": "https://localhost:8080/",
          "height": 193
        },
        "id": "zPucfYMOLNGL",
        "outputId": "b26b050d-6a6b-412c-854b-730f5b7b2e66"
      },
      "execution_count": 15,
      "outputs": [
        {
          "output_type": "stream",
          "name": "stdout",
          "text": [
            "[10, 2, 3, 4, 5, 6]\n"
          ]
        },
        {
          "output_type": "error",
          "ename": "TypeError",
          "evalue": "'tuple' object does not support item assignment",
          "traceback": [
            "\u001b[0;31m---------------------------------------------------------------------------\u001b[0m",
            "\u001b[0;31mTypeError\u001b[0m                                 Traceback (most recent call last)",
            "\u001b[0;32m<ipython-input-15-4dd8a696a9e0>\u001b[0m in \u001b[0;36m<cell line: 10>\u001b[0;34m()\u001b[0m\n\u001b[1;32m      8\u001b[0m \u001b[0mprint\u001b[0m\u001b[0;34m(\u001b[0m\u001b[0mlst\u001b[0m\u001b[0;34m)\u001b[0m\u001b[0;34m\u001b[0m\u001b[0;34m\u001b[0m\u001b[0m\n\u001b[1;32m      9\u001b[0m \u001b[0;34m\u001b[0m\u001b[0m\n\u001b[0;32m---> 10\u001b[0;31m \u001b[0mtuple\u001b[0m\u001b[0;34m[\u001b[0m\u001b[0;36m0\u001b[0m\u001b[0;34m]\u001b[0m \u001b[0;34m=\u001b[0m \u001b[0;36m10\u001b[0m \u001b[0;31m#TypeError: 'tuple' object does not support item assignment\u001b[0m\u001b[0;34m\u001b[0m\u001b[0;34m\u001b[0m\u001b[0m\n\u001b[0m",
            "\u001b[0;31mTypeError\u001b[0m: 'tuple' object does not support item assignment"
          ]
        }
      ]
    },
    {
      "cell_type": "code",
      "source": [
        "\"\"\" 5 & 6 Write a function to demonstrate the behavior of mutable and immutable arguments\"\"\"\n",
        "\n",
        "def func(mutable,immutable):\n",
        "  mutable.append(5)\n",
        "  immutable = \"W\"\n",
        "\n",
        "\n",
        "mutable= [1,2,3]\n",
        "immutable =\"Hello\"\n",
        "print(f\"Before {mutable}, {immutable}\")\n",
        "func(mutable,immutable)\n",
        "print(f\"After {mutable}, {immutable}\")"
      ],
      "metadata": {
        "colab": {
          "base_uri": "https://localhost:8080/"
        },
        "id": "gTB4gMnzMAJ7",
        "outputId": "9b23ac74-100d-4b9d-993f-d340f4985788"
      },
      "execution_count": 20,
      "outputs": [
        {
          "output_type": "stream",
          "name": "stdout",
          "text": [
            "Before [1, 2, 3], Hello\n",
            "After [1, 2, 3, 5], Hello\n"
          ]
        }
      ]
    },
    {
      "cell_type": "code",
      "source": [
        " \"\"\"8. Write a program to demonstrate the use of logical operators\"\"\"\n",
        "\n",
        "lst=[0,10,-1]\n",
        "\n",
        "for a in lst:\n",
        "  if a<0 or a==0:\n",
        "    print('zero or positive')\n",
        "  if not a==0:\n",
        "    print(\"not zero\")\n",
        "  if a==0 or a<0:\n",
        "    print(\"zero or negative\")"
      ],
      "metadata": {
        "colab": {
          "base_uri": "https://localhost:8080/"
        },
        "id": "hrnSjTPfNYkq",
        "outputId": "2b1d8433-1954-4fa9-9ed0-35df2f071f31"
      },
      "execution_count": 21,
      "outputs": [
        {
          "output_type": "stream",
          "name": "stdout",
          "text": [
            "zero or positive\n",
            "zero or negative\n",
            "not zero\n",
            "zero or positive\n",
            "not zero\n",
            "zero or negative\n"
          ]
        }
      ]
    },
    {
      "cell_type": "code",
      "source": [
        "\"\"\"9. Write a Python program to convert user input from string to integer, float, and boolean types\"\"\"\n",
        "inp = input(\"Enter 0 or 1\")\n",
        "print(str(inp))\n",
        "print(int(inp))\n",
        "print(float(inp))\n",
        "print(bool(inp))"
      ],
      "metadata": {
        "colab": {
          "base_uri": "https://localhost:8080/"
        },
        "id": "5TA_6PSOOOFq",
        "outputId": "3189192a-7deb-4245-d049-8c56fd1152fb"
      },
      "execution_count": 22,
      "outputs": [
        {
          "output_type": "stream",
          "name": "stdout",
          "text": [
            "Enter 0 or 11\n",
            "1\n",
            "1\n",
            "1.0\n",
            "True\n"
          ]
        }
      ]
    },
    {
      "cell_type": "code",
      "source": [
        "\"\"\"10. Write code to demonstrate type casting with list elements\"\"\"\n",
        "lst =['1','2','3','4']\n",
        "\n",
        "for element in lst:\n",
        "    print(f\"{element} is {type(element)}\")\n",
        "    var = int(element)\n",
        "    print(f\"{var} is {type(var)}\")"
      ],
      "metadata": {
        "colab": {
          "base_uri": "https://localhost:8080/"
        },
        "id": "X5Rei2T0Ov6z",
        "outputId": "d5435b6d-9997-494c-c22b-9382a1f61e4c"
      },
      "execution_count": 26,
      "outputs": [
        {
          "output_type": "stream",
          "name": "stdout",
          "text": [
            "1 is <class 'str'>\n",
            "1 is <class 'int'>\n",
            "2 is <class 'str'>\n",
            "2 is <class 'int'>\n",
            "3 is <class 'str'>\n",
            "3 is <class 'int'>\n",
            "4 is <class 'str'>\n",
            "4 is <class 'int'>\n"
          ]
        }
      ]
    },
    {
      "cell_type": "code",
      "source": [
        "\"\"\"10. Write a program that checks if a number is positive, negative, or zero\"\"\"\n",
        "\n",
        "num =0\n",
        "\n",
        "if num==0:\n",
        "  print(\"zero\")\n",
        "elif num>0:\n",
        "  print(\"positive\")\n",
        "else:\n",
        "  print(\"negative\")\n"
      ],
      "metadata": {
        "colab": {
          "base_uri": "https://localhost:8080/"
        },
        "id": "_JEQv-e2Pel6",
        "outputId": "e6cbe3a3-d3d0-4c41-ae2f-4a0095594755"
      },
      "execution_count": 27,
      "outputs": [
        {
          "output_type": "stream",
          "name": "stdout",
          "text": [
            "zero\n"
          ]
        }
      ]
    },
    {
      "cell_type": "code",
      "source": [
        "# 11. Write a for loop to print numbers from 1 to 10\n",
        "\n",
        "for i in range(1,11):\n",
        "  print(i,end=\" \")"
      ],
      "metadata": {
        "colab": {
          "base_uri": "https://localhost:8080/"
        },
        "id": "f2KbKO0UQX_K",
        "outputId": "148bd76e-7b37-4ae3-c2f1-a0dacc6d3ad9"
      },
      "execution_count": 29,
      "outputs": [
        {
          "output_type": "stream",
          "name": "stdout",
          "text": [
            "1 2 3 4 5 6 7 8 9 10 "
          ]
        }
      ]
    },
    {
      "cell_type": "code",
      "source": [
        "# 12.  Write a Python program to find the sum of all even numbers between 1 and 50\n",
        "\n",
        "sum =0\n",
        "for i in range(1,51):\n",
        "  if i%2==0:\n",
        "    sum+=i\n",
        "print(sum)"
      ],
      "metadata": {
        "colab": {
          "base_uri": "https://localhost:8080/"
        },
        "id": "TLRDe477Qlai",
        "outputId": "564c98c9-b26f-43f0-f772-3db4f04f7dbc"
      },
      "execution_count": 31,
      "outputs": [
        {
          "output_type": "stream",
          "name": "stdout",
          "text": [
            "650\n"
          ]
        }
      ]
    },
    {
      "cell_type": "code",
      "source": [
        "# 13. Write a program to reverse a string using a while loop\n",
        "\n",
        "str =\"Hello world!\"\n",
        "index = len(str)-1\n",
        "rev_str=''\n",
        "while index>=0:\n",
        "  rev_str = rev_str+str[index]\n",
        "  index-=1\n",
        "print(rev_str)"
      ],
      "metadata": {
        "colab": {
          "base_uri": "https://localhost:8080/"
        },
        "id": "XK7OBk5VQ-3k",
        "outputId": "0f84b43f-5917-4db0-9fc2-0d8260a9e15d"
      },
      "execution_count": 35,
      "outputs": [
        {
          "output_type": "stream",
          "name": "stdout",
          "text": [
            "!dlrow olleH\n"
          ]
        }
      ]
    },
    {
      "cell_type": "code",
      "source": [
        "# 14.  Write a Python program to calculate the factorial of a number provided by the user using a while loop\n",
        "\n",
        "num =5\n",
        "factorial =1\n",
        "while num>=1:\n",
        "  factorial = num* factorial\n",
        "  num-=1\n",
        "print(factorial)"
      ],
      "metadata": {
        "colab": {
          "base_uri": "https://localhost:8080/"
        },
        "id": "nsOD2jIbR8w5",
        "outputId": "e81a2440-a608-4e19-c101-c7dd1045b0aa"
      },
      "execution_count": 37,
      "outputs": [
        {
          "output_type": "stream",
          "name": "stdout",
          "text": [
            "120\n"
          ]
        }
      ]
    }
  ]
}